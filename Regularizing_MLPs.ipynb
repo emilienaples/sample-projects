{
  "cells": [
    {
      "cell_type": "markdown",
      "metadata": {
        "id": "FJzMRW0P30Pf"
      },
      "source": [
        "# Lab 2 (Part 2): Regularizing MLPs\n",
        "\n",
        "\n",
        "------------------------------------------------------\n",
        "------------------------------------------------------\n",
        "*Deep Learning. Master in Big Data Analytics*\n",
        "\n",
        "*Emilie Naples*\n",
        "\n",
        "------------------------------------------------------\n",
        "\n",
        "\n",
        "In this second part of this MLPs side project, I will be using the [Fashion-MNIST dataset](https://github.com/zalandoresearch/fashion-mnist), a drop-in replacement for the MNIST dataset. MNIST is actually quite trivial with neural networks where you can easily achieve better than 97% accuracy. Fashion-MNIST is a set of 28x28 greyscale images of clothes. It's more complex than MNIST, so it's a better representation of the actual performance of your network, and a better representation of datasets you'll use in the real world. See a sample below."
      ]
    },
    {
      "cell_type": "code",
      "execution_count": null,
      "metadata": {
        "colab": {
          "base_uri": "https://localhost:8080/",
          "height": 221
        },
        "id": "--n8hZQd30Ps",
        "outputId": "b1bbeb47-51bc-400f-cd58-2277e35cc7ed"
      },
      "outputs": [
        {
          "output_type": "execute_result",
          "data": {
            "text/plain": [
              "<IPython.core.display.Image object>"
            ],
            "text/html": [
              "<img src=\"https://miro.medium.com/max/3200/1*QQVbuP2SEasB0XAmvjW0AA.jpeg\" width=\"400\" height=\"200\"/>"
            ]
          },
          "metadata": {},
          "execution_count": 1
        }
      ],
      "source": [
        "from IPython.display import Image\n",
        "from IPython.core.display import HTML\n",
        "\n",
        "Image(url= \"https://miro.medium.com/max/3200/1*QQVbuP2SEasB0XAmvjW0AA.jpeg\", width=400, height=200)"
      ]
    },
    {
      "cell_type": "markdown",
      "metadata": {
        "id": "1wbx_iQg30Pu"
      },
      "source": [
        "The goal is to build a neural network that can take one of these images and predict the digit in the image. Unlike the MNIST case, for this problem, the model **easily overfits**, so addressing this issue is an important problem here. To do so, I will experiment with early stopping, dropout, and L2 weight regularization.\n",
        "\n",
        "Note: a big part of the following material is a personal wrap-up of [Facebook's Deep Learning Course in Udacity](https://www.udacity.com/course/deep-learning-pytorch--ud188). So all credit goes to them!!"
      ]
    },
    {
      "cell_type": "code",
      "execution_count": null,
      "metadata": {
        "id": "QMArDMKR30Pv"
      },
      "outputs": [],
      "source": [
        "%matplotlib inline\n",
        "%config InlineBackend.figure_format = 'retina'  #To get figures with high quality!\n",
        "\n",
        "import numpy as np\n",
        "import torch\n",
        "from torch import nn\n",
        "from torch import optim\n",
        "import matplotlib.pyplot as plt"
      ]
    },
    {
      "cell_type": "markdown",
      "metadata": {
        "id": "exFOq1lJ30Pw"
      },
      "source": [
        "## Part I. Download FMNIST with `torchvision`\n",
        "\n",
        "I download the MNIST dataset, then create training and test datasets."
      ]
    },
    {
      "cell_type": "code",
      "execution_count": null,
      "metadata": {
        "id": "4R4ID7zT30Px",
        "colab": {
          "base_uri": "https://localhost:8080/",
          "height": 443,
          "referenced_widgets": [
            "381351718d7541c6bf21dd8fec879d89",
            "6d721f428817414c8a28cb9e6d23c88b",
            "e92929b4ee114f68a8a9e8b54f6b5b36",
            "7ec8e73210ea4389a027cbe46913cad4",
            "42286f89254f45769fb71efc1c5057a1",
            "aa5e667153ce47dbb3895a0b348b25da",
            "0ffc61c667b742e7b6740426818a5a23",
            "03dae875bcac47ca81492cd4e4d2bc61",
            "80147b6406844fb9a231c2df01a03350",
            "0398fdbead154a6ea821b6ec61ae47ae",
            "ce51106fad69440bb21f5952bb5a3287",
            "4af56eae8d4944979d4ee123c162815b",
            "9f014602b70b401b8f01a6f60188c761",
            "f8993eca69cc418fba6ea9424de4c4f4",
            "1b0f507c4dad4737b7082541d109638c",
            "97f2b44e6bc74649afe67827dd68a163",
            "4e51d9d731974b6b8a5af20fed42b859",
            "2cb7dfb305d74a809a200f37de56d77f",
            "120d4c9735434213a7ec6e25e8dab829",
            "d8eaaf551ea34d5c8f1b5c31ce195b3b",
            "568567d02d404794a91602c0c5b022e2",
            "72459ee05aa7401b9db682fea760f350",
            "d59ffd4a55b544a09b59f0b3842c5b8e",
            "61995dc66c7b43059d1d0382fdc47cf2",
            "b5ebada8e04944959c43eb3a2a63b800",
            "2dd9cc33c6f74644a137b05dfba63b1c",
            "bb36f614f5134913b2b669c391fd7510",
            "4dd9f20a415a48059dcd02a836cd7be0",
            "1dd69316762044e68153964e3be8ccd7",
            "bdee68663dd84033b7a51f65e61adbb2",
            "828f684b7b344065ae0f1f4a302f87d3",
            "cf42bd65392d4139b0b9ec7a729a702e",
            "f0ca84f97ac245cf9e0b030b047b23c6",
            "017c66fb5d644245a2ee728b13b01965",
            "25adbf032ca84ff6bbb75812e7afc6d4",
            "af600a5e8a6c48379891915900d53ffc",
            "7974f106a23f4a2f82ed32a16ade1bdf",
            "de756646e1da4aba890b1a5e305fd650",
            "17eb71e63f2042b39ed14f58f2ed11ef",
            "072d58e81e3e4b69946125a847458580",
            "b10c13417c7b4d99a6789ec607bc26d0",
            "c8de61c6e2844ff6b8ad83a25c7ca122",
            "b3aead12523745df856d96d9912c4daf",
            "12a352a343644330afd9f9e52808432e"
          ]
        },
        "outputId": "dc44a99e-69e8-4f0d-efae-9491c7863c76"
      },
      "outputs": [
        {
          "output_type": "stream",
          "name": "stdout",
          "text": [
            "Downloading http://fashion-mnist.s3-website.eu-central-1.amazonaws.com/train-images-idx3-ubyte.gz\n",
            "Downloading http://fashion-mnist.s3-website.eu-central-1.amazonaws.com/train-images-idx3-ubyte.gz to /root/.pytorch/F_MNIST_data/FashionMNIST/raw/train-images-idx3-ubyte.gz\n"
          ]
        },
        {
          "output_type": "display_data",
          "data": {
            "text/plain": [
              "  0%|          | 0/26421880 [00:00<?, ?it/s]"
            ],
            "application/vnd.jupyter.widget-view+json": {
              "version_major": 2,
              "version_minor": 0,
              "model_id": "381351718d7541c6bf21dd8fec879d89"
            }
          },
          "metadata": {}
        },
        {
          "output_type": "stream",
          "name": "stdout",
          "text": [
            "Extracting /root/.pytorch/F_MNIST_data/FashionMNIST/raw/train-images-idx3-ubyte.gz to /root/.pytorch/F_MNIST_data/FashionMNIST/raw\n",
            "\n",
            "Downloading http://fashion-mnist.s3-website.eu-central-1.amazonaws.com/train-labels-idx1-ubyte.gz\n",
            "Downloading http://fashion-mnist.s3-website.eu-central-1.amazonaws.com/train-labels-idx1-ubyte.gz to /root/.pytorch/F_MNIST_data/FashionMNIST/raw/train-labels-idx1-ubyte.gz\n"
          ]
        },
        {
          "output_type": "display_data",
          "data": {
            "text/plain": [
              "  0%|          | 0/29515 [00:00<?, ?it/s]"
            ],
            "application/vnd.jupyter.widget-view+json": {
              "version_major": 2,
              "version_minor": 0,
              "model_id": "4af56eae8d4944979d4ee123c162815b"
            }
          },
          "metadata": {}
        },
        {
          "output_type": "stream",
          "name": "stdout",
          "text": [
            "Extracting /root/.pytorch/F_MNIST_data/FashionMNIST/raw/train-labels-idx1-ubyte.gz to /root/.pytorch/F_MNIST_data/FashionMNIST/raw\n",
            "\n",
            "Downloading http://fashion-mnist.s3-website.eu-central-1.amazonaws.com/t10k-images-idx3-ubyte.gz\n",
            "Downloading http://fashion-mnist.s3-website.eu-central-1.amazonaws.com/t10k-images-idx3-ubyte.gz to /root/.pytorch/F_MNIST_data/FashionMNIST/raw/t10k-images-idx3-ubyte.gz\n"
          ]
        },
        {
          "output_type": "display_data",
          "data": {
            "text/plain": [
              "  0%|          | 0/4422102 [00:00<?, ?it/s]"
            ],
            "application/vnd.jupyter.widget-view+json": {
              "version_major": 2,
              "version_minor": 0,
              "model_id": "d59ffd4a55b544a09b59f0b3842c5b8e"
            }
          },
          "metadata": {}
        },
        {
          "output_type": "stream",
          "name": "stdout",
          "text": [
            "Extracting /root/.pytorch/F_MNIST_data/FashionMNIST/raw/t10k-images-idx3-ubyte.gz to /root/.pytorch/F_MNIST_data/FashionMNIST/raw\n",
            "\n",
            "Downloading http://fashion-mnist.s3-website.eu-central-1.amazonaws.com/t10k-labels-idx1-ubyte.gz\n",
            "Downloading http://fashion-mnist.s3-website.eu-central-1.amazonaws.com/t10k-labels-idx1-ubyte.gz to /root/.pytorch/F_MNIST_data/FashionMNIST/raw/t10k-labels-idx1-ubyte.gz\n"
          ]
        },
        {
          "output_type": "display_data",
          "data": {
            "text/plain": [
              "  0%|          | 0/5148 [00:00<?, ?it/s]"
            ],
            "application/vnd.jupyter.widget-view+json": {
              "version_major": 2,
              "version_minor": 0,
              "model_id": "017c66fb5d644245a2ee728b13b01965"
            }
          },
          "metadata": {}
        },
        {
          "output_type": "stream",
          "name": "stdout",
          "text": [
            "Extracting /root/.pytorch/F_MNIST_data/FashionMNIST/raw/t10k-labels-idx1-ubyte.gz to /root/.pytorch/F_MNIST_data/FashionMNIST/raw\n",
            "\n"
          ]
        }
      ],
      "source": [
        "import torch\n",
        "from torchvision import datasets, transforms\n",
        "\n",
        "# Define a transform to normalize the data\n",
        "transform = transforms.Compose([transforms.ToTensor(),\n",
        "                                transforms.Normalize((0.5,), (0.5,))])\n",
        "# Download and load the training data\n",
        "trainset = datasets.FashionMNIST('~/.pytorch/F_MNIST_data/', download=True, train=True, transform=transform)\n",
        "trainloader = torch.utils.data.DataLoader(trainset, batch_size=64, shuffle=True)\n",
        "\n",
        "# Download and load the test data\n",
        "testset = datasets.FashionMNIST('~/.pytorch/F_MNIST_data/', download=True, train=False, transform=transform)\n",
        "testloader = torch.utils.data.DataLoader(testset, batch_size=64, shuffle=True)"
      ]
    },
    {
      "cell_type": "markdown",
      "metadata": {
        "id": "L_OKJEsr30Py"
      },
      "source": [
        "Lets take a look to the mini-batch size and plot a sample."
      ]
    },
    {
      "cell_type": "code",
      "execution_count": null,
      "metadata": {
        "colab": {
          "base_uri": "https://localhost:8080/"
        },
        "id": "JhddUMTP30P0",
        "outputId": "931fdde0-25aa-4181-e2d8-722337b03273"
      },
      "outputs": [
        {
          "output_type": "stream",
          "name": "stdout",
          "text": [
            "<class 'torch.Tensor'>\n",
            "torch.Size([64, 1, 28, 28])\n",
            "torch.Size([64])\n"
          ]
        }
      ],
      "source": [
        "dataiter = iter(trainloader)   #To iterate through the dataset\n",
        "\n",
        "images, labels = dataiter.next()\n",
        "print(type(images))\n",
        "print(images.shape)\n",
        "print(labels.shape)\n"
      ]
    },
    {
      "cell_type": "markdown",
      "metadata": {
        "id": "y-MrV9vP30P2"
      },
      "source": [
        "This is what one of the images looks like."
      ]
    },
    {
      "cell_type": "code",
      "execution_count": null,
      "metadata": {
        "colab": {
          "base_uri": "https://localhost:8080/",
          "height": 282
        },
        "id": "rglmz32630P3",
        "outputId": "fac39162-e48c-4143-f2e0-d17dc32f8c0d"
      },
      "outputs": [
        {
          "output_type": "execute_result",
          "data": {
            "text/plain": [
              "<matplotlib.image.AxesImage at 0x7fc8d7adbd90>"
            ]
          },
          "metadata": {},
          "execution_count": 5
        },
        {
          "output_type": "display_data",
          "data": {
            "text/plain": [
              "<Figure size 432x288 with 1 Axes>"
            ],
            "image/png": "[encoded data removed]"
          },
          "metadata": {
            "image/png": {
              "width": 251,
              "height": 248
            },
            "needs_background": "light"
          }
        }
      ],
      "source": [
        "plt.imshow(images[1].numpy().reshape([28,28]), cmap='Greys_r')"
      ]
    },
    {
      "cell_type": "markdown",
      "metadata": {
        "id": "ic4ZEJWt30P4"
      },
      "source": [
        "## Part II. Visualize overfiting\n",
        "\n",
        "> I will train a Neural Network with four layers, hidden dimmensions 256, 128 and 64 neurons. I will use ReLU activation functions, and a log-Softmax output layer. I take the following steps:\n",
        "> - Create a class defining the NN model.\n",
        "> - Extend the class to incorporate a training method and call it trainloop.\n",
        "> - Train the model for 30 epochs and evaluate train/test performance."
      ]
    },
    {
      "cell_type": "code",
      "execution_count": null,
      "metadata": {
        "id": "ODtfypbO30P5"
      },
      "outputs": [],
      "source": [
        "class MLP(nn.Module):\n",
        "    def __init__(self,dimx,hidden1,hidden2,hidden3,nlabels):\n",
        "        super().__init__()\n",
        "        self.L1 = nn.Linear(dimx,hidden1)\n",
        "        self.L2 = nn.Linear(hidden1,hidden2)\n",
        "        self.L3 = nn.Linear(hidden2,hidden3)\n",
        "        self.L4 = nn.Linear(hidden3,nlabels)\n",
        "        self.relu = nn.ReLU()\n",
        "        self.softmax = nn.Softmax(dim=1)\n",
        "\n",
        "    def forward(self, x):\n",
        "      x = self.L1(x)\n",
        "      x = self.relu(x)\n",
        "      x = self.L2(x)\n",
        "      x = self.relu(x)\n",
        "      x = self.L3(x)\n",
        "      x = self.relu(x)\n",
        "      x = self.L4(x)\n",
        "      x = self.softmax(x)\n",
        "      return x"
      ]
    },
    {
      "cell_type": "code",
      "execution_count": null,
      "metadata": {
        "id": "rizYTlqA30P6"
      },
      "outputs": [],
      "source": [
        "class MLP_extended(MLP):\n",
        "\n",
        "    def __init__(self,dimx,hidden1,hidden2,hidden3,nlabels,epochs=30,lr=0.001):\n",
        "\n",
        "        super().__init__(dimx,hidden1,hidden2,hidden3,nlabels)  # initialize the `MLP`!\n",
        "\n",
        "        self.lr = lr\n",
        "\n",
        "        self.optim = optim.Adam(self.parameters(), self.lr)\n",
        "\n",
        "        self.epochs = epochs\n",
        "\n",
        "        self.criterion = nn.NLLLoss()\n",
        "\n",
        "        # List to store the loss evolution along training\n",
        "        self.loss_during_training = []\n",
        "\n",
        "    # extend the class to incorporate a training method\n",
        "    def trainloop(self,trainloader):\n",
        "            for e in range(int(self.epochs)):\n",
        "                running_loss = 0.\n",
        "                for images, labels in trainloader:\n",
        "                    self.optim.zero_grad()  # RESET GRADIENTS!\n",
        "\n",
        "                    # forward pass\n",
        "                    out = self.forward(images.view(images.shape[0], -1)) # -1 reshape image in a vector, 0th column refers to batch size\n",
        "                    loss = self.criterion(out,labels) # compare output with the labels\n",
        "                    running_loss += loss.item() # update the loss\n",
        "\n",
        "                    # backwardpass\n",
        "                    loss.backward() # do backpropagation\n",
        "                    self.optim.step() # update parameters\n",
        "\n",
        "                self.loss_during_training.append(running_loss/len(trainloader))\n",
        "\n",
        "                if(e % 1 == 0): # Every 10 epochs\n",
        "                    print(\"Training loss after %d epochs: %f\"\n",
        "                          %(e,self.loss_during_training[-1]))\n",
        "\n",
        "    def eval_performance(self,loader):\n",
        "        loss = 0\n",
        "        accuracy = 0\n",
        "\n",
        "        # Turn off gradients\n",
        "        with torch.no_grad():\n",
        "            for images,labels in loader:\n",
        "                logprobs = my_newest_MLP.forward(images.view(images.shape[0], -1)) # softmax for logprobabilities\n",
        "\n",
        "                top_p, top_class = logprobs.topk(1, dim=1)\n",
        "                equals = (top_class == labels.view(images.shape[0], 1))\n",
        "                accuracy += torch.mean(equals.type(torch.FloatTensor))\n",
        "\n",
        "        return accuracy/len(loader)"
      ]
    },
    {
      "cell_type": "code",
      "execution_count": null,
      "metadata": {
        "colab": {
          "base_uri": "https://localhost:8080/"
        },
        "id": "VRHwnAbP30P7",
        "outputId": "4ca8e8ed-7a54-4b34-b30d-fd3cb5275144"
      },
      "outputs": [
        {
          "output_type": "stream",
          "name": "stdout",
          "text": [
            "Training loss after 0 epochs: -0.536915\n",
            "Training loss after 1 epochs: -0.563040\n",
            "Training loss after 2 epochs: -0.583778\n",
            "Training loss after 3 epochs: -0.617179\n",
            "Training loss after 4 epochs: -0.647763\n",
            "Training loss after 5 epochs: -0.649312\n",
            "Training loss after 6 epochs: -0.653856\n",
            "Training loss after 7 epochs: -0.653800\n",
            "Training loss after 8 epochs: -0.660971\n",
            "Training loss after 9 epochs: -0.657742\n"
          ]
        }
      ],
      "source": [
        "my_newest_MLP = MLP_extended(dimx=784,hidden1=256, hidden2=128, hidden3=64, nlabels=10,epochs=10,lr=1e-3)\n",
        "my_newest_MLP.trainloop(trainloader)"
      ]
    },
    {
      "cell_type": "code",
      "source": [
        "# evaluate train and test performance\n",
        "train_accuracy = my_newest_MLP.eval_performance(trainloader)\n",
        "test_accuracy = my_newest_MLP.eval_performance(testloader)\n",
        "print(\"Training performance accuracy for this model is\", float(train_accuracy))\n",
        "print(\"Testing performance accuracy for this model is\", float(test_accuracy))"
      ],
      "metadata": {
        "id": "9xz-DZ6doyq6",
        "colab": {
          "base_uri": "https://localhost:8080/"
        },
        "outputId": "1812ffcb-d312-4008-eabf-44cfb0b6a13d"
      },
      "execution_count": null,
      "outputs": [
        {
          "output_type": "stream",
          "name": "stdout",
          "text": [
            "Training performance accuracy for this model is 0.6674273610115051\n",
            "Testing performance accuracy for this model is 0.6532643437385559\n"
          ]
        }
      ]
    },
    {
      "cell_type": "markdown",
      "source": [
        "Comments: Accuracy for the model is not very good. If the training accuracy is low, this could mean that underfitting (high bias) is taking place here. Some things that could fix this (maybe in order) are: Increasing the model capacity. We could add more layers, add more neurons, and play with better architectures in this way.  \n",
        "\n",
        "This could happen at first with any model, and as I improve it, the accuracy could change. I attempt to do so."
      ],
      "metadata": {
        "id": "sjmlGC-ENT7o"
      }
    },
    {
      "cell_type": "markdown",
      "metadata": {
        "id": "zTgjw1SW30P8"
      },
      "source": [
        "In light of the train/test performance, certainly the model is performing significantly better in the train set than in the test set. This is a sign of overfitting. For an early detection of overfitting, we will make use of a **validation set** that we will use to visualize the evolution of the loss function during training.\n",
        "\n",
        "I will now split the train set into one training set (45k images) and a validation set (15k images). I do a naive splitting assuming that the data is randomized. **I could have done something smarter than this like K-Fold cross validation**, but here I am going to keep it simple.\n",
        "\n"
      ]
    },
    {
      "cell_type": "code",
      "execution_count": null,
      "metadata": {
        "id": "cp9vWnkr30P8"
      },
      "outputs": [],
      "source": [
        "import copy\n",
        "\n",
        "validloader = copy.deepcopy(trainloader)  # copy the object\n",
        "\n",
        "#We take the first 45k images for training\n",
        "trainloader.dataset.data = trainloader.dataset.data[:45000,:,:]\n",
        "trainloader.dataset.targets = trainloader.dataset.targets[:45000]\n",
        "\n",
        "#And the rest for validation\n",
        "validloader.dataset.data = validloader.dataset.data[45000:,:,:]\n",
        "validloader.dataset.targets = validloader.dataset.targets[45000:]"
      ]
    },
    {
      "cell_type": "markdown",
      "metadata": {
        "id": "JGglIs0V30P9"
      },
      "source": [
        "> Now I want to modify the class above so that, during training, everytime an epoch is finished, it computes the loss function over the validation set. I store the values into a list name as `valid_loss_during_training`. When performing this step, I turn off gradients by using `with torch.no_grad()`.\n",
        ">\n",
        ">Then, repeat the training (30 epochs) and plot the train/validation loss along epochs. Compute the final train/validation/test performance."
      ]
    },
    {
      "cell_type": "code",
      "execution_count": null,
      "metadata": {
        "id": "fkDm2s_u30P-"
      },
      "outputs": [],
      "source": [
        "class MLP_extended(MLP):\n",
        "\n",
        "    def __init__(self,dimx,hidden1,hidden2,hidden3,nlabels,epochs=30,lr=0.001):\n",
        "\n",
        "        super().__init__(dimx,hidden1,hidden2,hidden3,nlabels)  # initialize the `MLP`!\n",
        "\n",
        "        self.lr = lr\n",
        "\n",
        "        self.optim = optim.Adam(self.parameters(), self.lr)\n",
        "\n",
        "        self.epochs = epochs\n",
        "\n",
        "        self.criterion = nn.NLLLoss()\n",
        "\n",
        "        # List to store the loss evolution along training and validation\n",
        "        self.loss_during_training = []\n",
        "        self.valid_loss_during_training = []\n",
        "\n",
        "    def trainloop(self,trainloader,validloader):\n",
        "                for e in range(int(self.epochs)):\n",
        "                    running_loss = 0.\n",
        "                    for images, labels in trainloader:\n",
        "                        self.optim.zero_grad() # reset gradients\n",
        "\n",
        "                        # forward pass\n",
        "                        out = self.forward(images.view(images.shape[0], -1)) # -1 reshapes the image in a vector, 0th column refers to batch size\n",
        "                        loss = self.criterion(out,labels) # compare output with the labels\n",
        "                        running_loss += loss.item() # update the loss\n",
        "\n",
        "                        # backwardpass\n",
        "                        loss.backward() # do backpropagation\n",
        "                        self.optim.step() # update parameters\n",
        "\n",
        "                    self.loss_during_training.append(running_loss/len(trainloader))\n",
        "                    with torch.no_grad():\n",
        "                        valid_running_loss = 0.\n",
        "                        for images, labels in validloader:\n",
        "\n",
        "                            # forward pass\n",
        "                            out = self.forward(images.view(images.shape[0], -1)) # -1 reshapes the image in a vector, 0th column refers to batch size\n",
        "                            loss = self.criterion(out,labels) # compare output with the labels\n",
        "                            valid_running_loss += loss.item() # update the loss\n",
        "                        self.valid_loss_during_training.append(valid_running_loss/len(validloader))\n",
        "\n",
        "                        if e in range(int(self.epochs)): #if(e % 1 == 0): # Every 10 epochs\n",
        "                            print(\"Training loss after %d epochs: %f\"\n",
        "                                %(e,self.loss_during_training[-1]))\n",
        "\n",
        "    def eval_performance(self,loader):\n",
        "        loss = 0\n",
        "        accuracy = 0\n",
        "\n",
        "        # Turn off gradients for evaluation\n",
        "        with torch.no_grad():\n",
        "            for images,labels in loader:\n",
        "                logprobs = my_newest_MLP.forward(images.view(images.shape[0], -1)) # reshape again before forward pass\n",
        "\n",
        "                top_p, top_class = logprobs.topk(1, dim=1)\n",
        "                equals = (top_class == labels.view(images.shape[0], 1))\n",
        "                accuracy += torch.mean(equals.type(torch.FloatTensor))\n",
        "\n",
        "        return accuracy/len(loader)"
      ]
    },
    {
      "cell_type": "code",
      "source": [
        "# now, repreat training and plot train/validation loss along epochs\n",
        "my_newest_MLP = MLP_extended(dimx=28*28,hidden1=256, hidden2=128, hidden3=64, nlabels=10,epochs=30,lr=1e-3)\n",
        "train_accuracy = my_newest_MLP.trainloop(trainloader, validloader)"
      ],
      "metadata": {
        "colab": {
          "base_uri": "https://localhost:8080/"
        },
        "id": "ZtHQ_rM_Izfm",
        "outputId": "af2ca7c1-b5c2-432c-979f-693b507f3d1e"
      },
      "execution_count": null,
      "outputs": [
        {
          "output_type": "stream",
          "name": "stdout",
          "text": [
            "Training loss after 0 epochs: -0.655320\n",
            "Training loss after 1 epochs: -0.723569\n",
            "Training loss after 2 epochs: -0.727752\n",
            "Training loss after 3 epochs: -0.729491\n",
            "Training loss after 4 epochs: -0.729023\n",
            "Training loss after 5 epochs: -0.729958\n",
            "Training loss after 6 epochs: -0.734956\n",
            "Training loss after 7 epochs: -0.733417\n",
            "Training loss after 8 epochs: -0.753747\n",
            "Training loss after 9 epochs: -0.782341\n",
            "Training loss after 10 epochs: -0.792284\n",
            "Training loss after 11 epochs: -0.793828\n",
            "Training loss after 12 epochs: -0.796047\n",
            "Training loss after 13 epochs: -0.792448\n",
            "Training loss after 14 epochs: -0.799183\n",
            "Training loss after 15 epochs: -0.795375\n",
            "Training loss after 16 epochs: -0.799945\n",
            "Training loss after 17 epochs: -0.792362\n",
            "Training loss after 18 epochs: -0.797146\n",
            "Training loss after 19 epochs: -0.817324\n",
            "Training loss after 20 epochs: -0.826835\n",
            "Training loss after 21 epochs: -0.832243\n",
            "Training loss after 22 epochs: -0.834970\n",
            "Training loss after 23 epochs: -0.832149\n",
            "Training loss after 24 epochs: -0.839396\n",
            "Training loss after 25 epochs: -0.830845\n",
            "Training loss after 26 epochs: -0.835662\n",
            "Training loss after 27 epochs: -0.842711\n",
            "Training loss after 28 epochs: -0.833575\n",
            "Training loss after 29 epochs: -0.829943\n"
          ]
        }
      ]
    },
    {
      "cell_type": "code",
      "source": [
        "# training loss\n",
        "plt.plot(my_newest_MLP.loss_during_training,'-b',label='BCE Loss')\n",
        "plt.xlabel('Iterations')\n",
        "plt.ylabel('Loss')\n",
        "\n",
        "# validation loss\n",
        "plt.plot(my_newest_MLP.valid_loss_during_training,'-b',label='BCE Loss')\n",
        "plt.xlabel('Iterations')\n",
        "plt.ylabel('Loss')"
      ],
      "metadata": {
        "colab": {
          "base_uri": "https://localhost:8080/",
          "height": 295
        },
        "id": "t4Af6iSWGavA",
        "outputId": "f464cebe-10d0-490b-8533-484c5174683f"
      },
      "execution_count": null,
      "outputs": [
        {
          "output_type": "execute_result",
          "data": {
            "text/plain": [
              "Text(0, 0.5, 'Loss')"
            ]
          },
          "metadata": {},
          "execution_count": 13
        },
        {
          "output_type": "display_data",
          "data": {
            "text/plain": [
              "<Figure size 432x288 with 1 Axes>"
            ],
            "image/png": "[encoded data removed]"
          },
          "metadata": {
            "image/png": {
              "width": 408,
              "height": 261
            },
            "needs_background": "light"
          }
        }
      ]
    },
    {
      "cell_type": "code",
      "source": [
        "# now we must compute train/test accuracy\n",
        "train_accuracy = my_newest_MLP.eval_performance(trainloader)\n",
        "valid_accuracy = my_newest_MLP.eval_performance(validloader)\n",
        "test_accuracy = my_newest_MLP.eval_performance(testloader)\n",
        "print(\"The training accuracy for the extended MLP class is \", float(train_accuracy))\n",
        "print(\"The validation accuracy is \", float(valid_accuracy))\n",
        "print(\"The testing accuracy is \", float(test_accuracy))\n"
      ],
      "metadata": {
        "id": "wHux7Bwdnd-P",
        "colab": {
          "base_uri": "https://localhost:8080/"
        },
        "outputId": "9fb684a4-176a-45be-fd0c-aa47dc811a65"
      },
      "execution_count": null,
      "outputs": [
        {
          "output_type": "stream",
          "name": "stdout",
          "text": [
            "The training accuracy for the extended MLP class is  0.8030894994735718\n",
            "The validation accuracy is  0.7977393865585327\n",
            "The testing accuracy is  0.7890127301216125\n"
          ]
        }
      ]
    },
    {
      "cell_type": "code",
      "source": [
        "# plot the loss along epochs\n",
        "plt.plot(my_newest_MLP.valid_loss_during_training,'-b',label='Cross Entropy Loss')\n",
        "plt.xlabel('Iterations')\n",
        "plt.ylabel('Loss')\n",
        "plt.grid()"
      ],
      "metadata": {
        "id": "vo5SgliorhgI",
        "colab": {
          "base_uri": "https://localhost:8080/",
          "height": 278
        },
        "outputId": "7658d8e7-893b-471c-bd22-3e6d1035bd19"
      },
      "execution_count": null,
      "outputs": [
        {
          "output_type": "display_data",
          "data": {
            "text/plain": [
              "<Figure size 432x288 with 1 Axes>"
            ],
            "image/png": "[encoded data removed]"
          },
          "metadata": {
            "image/png": {
              "width": 402,
              "height": 261
            },
            "needs_background": "light"
          }
        }
      ]
    },
    {
      "cell_type": "markdown",
      "source": [
        "## Implement Early Stopping"
      ],
      "metadata": {
        "id": "fHXSOi74DZ7E"
      }
    },
    {
      "cell_type": "markdown",
      "metadata": {
        "id": "9FEYZwWQ30P_"
      },
      "source": [
        "If we look at the training and validation losses as we train the network, we can see it is overfitting.\n",
        "\n",
        "The network learns the training set better and better, resulting in lower training losses. However, it starts having problems generalizing to data outside the training set leading to the validation loss increasing. One option we could try to fix this is to use the version of the model with the lowest validation loss, here the one around 8-10 training epochs. This strategy is called *early-stopping*. In practice it would be best to save the model frequently during training and then later choose the model with the lowest validation loss. **Note that with early stopping we are using the validation set to select the appropiate number of epochs.**"
      ]
    },
    {
      "cell_type": "markdown",
      "source": [
        "> Now, re-train the model again for the right number of epochs (just before the validation loss starts to grow)."
      ],
      "metadata": {
        "id": "VlROY1zjDuyq"
      }
    },
    {
      "cell_type": "code",
      "execution_count": null,
      "metadata": {
        "colab": {
          "base_uri": "https://localhost:8080/"
        },
        "id": "upCWX4Ir30P_",
        "outputId": "e8af535e-139b-4f8a-cfe1-75586bc0f380"
      },
      "outputs": [
        {
          "output_type": "stream",
          "name": "stdout",
          "text": [
            "Training loss after 0 epochs: -0.702211\n",
            "Training loss after 1 epochs: -0.808014\n",
            "Training loss after 2 epochs: -0.823421\n",
            "Training loss after 3 epochs: -0.828093\n",
            "Training loss after 4 epochs: -0.831531\n",
            "Training loss after 5 epochs: -0.833801\n",
            "Training loss after 6 epochs: -0.838100\n",
            "Training loss after 7 epochs: -0.837192\n"
          ]
        }
      ],
      "source": [
        "# avoid over-fitting with early stopping\n",
        "# see this by watching increasing validation loss\n",
        "# use the version of the model with lowest validation loss\n",
        "\n",
        "# repeat training for 8 epochs, as after this, the loss increases again\n",
        "my_newest_MLP = MLP_extended(dimx=784,hidden1=256, hidden2=128, hidden3=64, nlabels=10, epochs=8, lr=1e-3)\n",
        "my_newest_MLP.trainloop(trainloader,validloader)"
      ]
    },
    {
      "cell_type": "code",
      "source": [
        "# plot train/validation loss along epochs\n",
        "plt.plot(my_newest_MLP.valid_loss_during_training,'-b',label='Cross Entropy Loss')\n",
        "plt.xlabel('Iterations')\n",
        "plt.ylabel('Loss')\n",
        "plt.grid()"
      ],
      "metadata": {
        "colab": {
          "base_uri": "https://localhost:8080/",
          "height": 278
        },
        "id": "Y6yO9l3mRDeK",
        "outputId": "94d189e0-fac0-485b-d65b-2a7193078234"
      },
      "execution_count": null,
      "outputs": [
        {
          "output_type": "display_data",
          "data": {
            "text/plain": [
              "<Figure size 432x288 with 1 Axes>"
            ],
            "image/png": "[encoded data removed]"
          },
          "metadata": {
            "image/png": {
              "width": 400,
              "height": 261
            },
            "needs_background": "light"
          }
        }
      ]
    },
    {
      "cell_type": "code",
      "source": [
        "# evaluate train, validation, and test performance\n",
        "\n",
        "train_accuracy = my_newest_MLP.eval_performance(trainloader)\n",
        "valid_accuracy = my_newest_MLP.eval_performance(validloader)\n",
        "test_accuracy = my_newest_MLP.eval_performance(testloader)\n",
        "print(\"Training performance accuracy for this model is\", float(train_accuracy))\n",
        "print(\"Validation performance accuracy is\", float(train_accuracy))\n",
        "print(\"Testing performance accuracy is\", float(test_accuracy))"
      ],
      "metadata": {
        "id": "W94T64c3oJWj",
        "colab": {
          "base_uri": "https://localhost:8080/"
        },
        "outputId": "0df8ff3e-6289-45fd-c466-c6739ba341cc"
      },
      "execution_count": null,
      "outputs": [
        {
          "output_type": "stream",
          "name": "stdout",
          "text": [
            "Training performance accuracy for this model is 0.851318359375\n",
            "Validation performance accuracy is 0.851318359375\n",
            "Testing performance accuracy is 0.8324044346809387\n"
          ]
        }
      ]
    },
    {
      "cell_type": "markdown",
      "source": [
        "Here, or accuracy looks a bit better than at the beginning where we were seeing percentages in the 60s."
      ],
      "metadata": {
        "id": "gCiLoNzMmPIj"
      }
    },
    {
      "cell_type": "markdown",
      "metadata": {
        "id": "aycpW48H30QA"
      },
      "source": [
        "## Part III. Using Dropout Regularization\n",
        "\n",
        "The most common method to reduce overfitting (outside of early-stopping) is *dropout*, where we randomly drop input units. This forces the network to share information between weights, increasing it's ability to generalize to new data.\n",
        "\n",
        "The following code corresponds to a 2 layer NN where I use dropout in the intermediate hidden space:\n",
        "\n",
        "\n",
        "```python\n",
        "class MLP_dropout(nn.Module):\n",
        "    def __init__(self,dimx,hidden1,nlabels): #Nlabels will be 10 in our case\n",
        "        super().__init__()\n",
        "        \n",
        "        self.output1 = nn.Linear(dimx,hidden1)  \n",
        "        \n",
        "        self.output2 = nn.Linear(hidden1,nlabels)\n",
        "    \n",
        "        self.relu = nn.ReLU()\n",
        "        \n",
        "        self.logsoftmax = nn.LogSoftmax(dim=1)  \n",
        "        \n",
        "        # Dropout module with 0.2 drop probability\n",
        "        self.dropout = nn.Dropout(p=0.2)\n",
        "        \n",
        "    def forward(self, x):\n",
        "        # Pass the input tensor through each of our operations\n",
        "        x = self.output1(x)\n",
        "        x = self.relu(x)\n",
        "        x = self.dropout(x)\n",
        "        x = self.output2(x)\n",
        "        x = self.logsoftmax(x)\n",
        "        return x\n",
        "\n",
        "```\n",
        "\n",
        "During training, I want to use dropout to prevent overfitting, but during inference I want to use the entire network. So, we need to turn off dropout during validation, testing, and whenever we're using the network to make predictions. To do this, I use `self.eval()`. This sets the model to evaluation mode where the dropout probability is 0. Dropout can be turned back on by setting the model to train mode with `self.train()` (**This is why I do not call our training method `train` anymore**).\n",
        "\n",
        "> - Now I create a new NN class that modifies the previous one by incorporating a dropout step with `p=0.2`  after every ReLU non-linearity is applied.\n",
        "> - For this new model, I plot the evolution of the training and validation losses and compare with the case with no dropout.\n",
        "> - Repeat the experiments for a dropout probability of `p=0.1` and `p=0.3`."
      ]
    },
    {
      "cell_type": "code",
      "execution_count": null,
      "metadata": {
        "id": "n0sSn4Ae30QB"
      },
      "outputs": [],
      "source": [
        "class MLPdrop(nn.Module):\n",
        "\n",
        "    def __init__(self,dimx,hidden1,hidden2,hidden3,nlabels):\n",
        "        super().init()\n",
        "        self.L1 = nn.Linear(dimx,hidden1)\n",
        "        self.L2 = nn.Linear(hidden1,hidden2)\n",
        "        self.L3 = nn.Linear(hidden2,hidden3)\n",
        "        self.L4 = nn.Linear(hidden3,nlabels)\n",
        "        self.relu = nn.ReLU()\n",
        "        self.dropout = nn.Dropout(p=0.2) # DROPOUT PROBABILITY OF 0.2\n",
        "        self.softmax = nn.Softmax(dim=1)\n",
        "\n",
        "    def forward(self, x):\n",
        "      # pass input tensor again through each operation above\n",
        "      x = self.L1(x)\n",
        "      x = self.relu(x)\n",
        "      x = self.dropout(x)\n",
        "      x = self.L2(x)\n",
        "      x = self.relu(x)\n",
        "      x = self.dropout(x)\n",
        "      x = self.L3(x)\n",
        "      x = self.relu(x)\n",
        "      x = self.dropout(x)\n",
        "      x = self.L4(x)\n",
        "      x = self.softmax(x)\n",
        "      return x"
      ]
    },
    {
      "cell_type": "code",
      "execution_count": null,
      "metadata": {
        "id": "FV2KaiJhMLzk"
      },
      "outputs": [],
      "source": [
        "# modify the extended class to set model.eval() when appropiate\n",
        "\n",
        "class MLPdrop_extended(MLP):\n",
        "    def __init__(self,dimx,hidden1,hidden2,hidden3,nlabels,epochs=30,lr=0.001):\n",
        "\n",
        "        super().__init__(dimx,hidden1,hidden2,hidden3,nlabels)  #To initialize `MLP`!\n",
        "\n",
        "        self.lr = lr #Learning Rate\n",
        "\n",
        "        self.optim = optim.Adam(self.parameters(), self.lr)\n",
        "\n",
        "        self.epochs = epochs\n",
        "\n",
        "        self.criterion = nn.NLLLoss()\n",
        "\n",
        "        # List to store the loss evolution along training\n",
        "        self.loss_during_training = []\n",
        "        self.valid_loss_during_training = []\n",
        "\n",
        "\n",
        "    def trainloop(self,trainloader,validloader):\n",
        "            for e in range(int(self.epochs)):\n",
        "                running_loss = 0.\n",
        "                for images, labels in trainloader:\n",
        "                    self.optim.zero_grad()\n",
        "\n",
        "                    # forward pass\n",
        "                    out = self.forward(images.view(images.shape[0], -1)) # -1 reshapes the image in a vector, 0th column refers to batch size\n",
        "                    loss = self.criterion(out,labels) # compare output with the labels\n",
        "                    running_loss += loss.item() # update the loss\n",
        "\n",
        "                    # backwardpass\n",
        "                    loss.backward() # do backpropagation\n",
        "                    self.optim.step() #update parameters\n",
        "\n",
        "                self.loss_during_training.append(running_loss/len(trainloader))\n",
        "                self.valid_loss_during_training.append(running_loss/len(validloader))\n",
        "\n",
        "                if(e % 1 == 0): # Every 10 epochs\n",
        "                    print(\"Training loss after %d epochs: %f\"\n",
        "                          %(e,self.loss_during_training[-1]))\n",
        "\n",
        "    def eval_performance(self,loader):\n",
        "        loss = 0\n",
        "        accuracy = 0\n",
        "\n",
        "        # Turn off gradients for validation\n",
        "        with torch.no_grad():\n",
        "\n",
        "            # set model to eval mode (turn off dropout)\n",
        "            self.eval()\n",
        "\n",
        "            #validation pass\n",
        "            for images,labels in loader:\n",
        "                logprobs = self.forward(images.view(images.shape[0], -1)) # We use a log-softmax, so what we get are log-probabilities\n",
        "\n",
        "                top_p, top_class = logprobs.topk(1, dim=1)\n",
        "                equals = (top_class == labels.view(images.shape[0], 1))\n",
        "                accuracy += torch.mean(equals.type(torch.FloatTensor))\n",
        "\n",
        "        # set model back to train mode (turn dropout back on)\n",
        "        self.train()\n",
        "\n",
        "        return accuracy/len(loader)\n"
      ]
    },
    {
      "cell_type": "markdown",
      "source": [
        "Train with dropout probability of 0.2 for 10 epochs."
      ],
      "metadata": {
        "id": "M1kiq9dGRFKp"
      }
    },
    {
      "cell_type": "code",
      "execution_count": null,
      "metadata": {
        "id": "EWhjL0PC30QC",
        "colab": {
          "base_uri": "https://localhost:8080/",
          "height": 469
        },
        "outputId": "7d46f648-2114-4b80-8f78-3107e539003e"
      },
      "outputs": [
        {
          "output_type": "stream",
          "name": "stdout",
          "text": [
            "Training loss after 0 epochs: -0.689089\n",
            "Training loss after 1 epochs: -0.763342\n",
            "Training loss after 2 epochs: -0.819389\n",
            "Training loss after 3 epochs: -0.824464\n",
            "Training loss after 4 epochs: -0.829106\n",
            "Training loss after 5 epochs: -0.835652\n",
            "Training loss after 6 epochs: -0.833999\n",
            "Training loss after 7 epochs: -0.840516\n",
            "Training loss after 8 epochs: -0.842713\n",
            "Training loss after 9 epochs: -0.847611\n"
          ]
        },
        {
          "output_type": "execute_result",
          "data": {
            "text/plain": [
              "Text(0, 0.5, 'Loss')"
            ]
          },
          "metadata": {},
          "execution_count": 59
        },
        {
          "output_type": "display_data",
          "data": {
            "text/plain": [
              "<Figure size 432x288 with 1 Axes>"
            ],
            "image/png": "[encoded data removed]"
          },
          "metadata": {
            "image/png": {
              "width": 400,
              "height": 261
            },
            "needs_background": "light"
          }
        }
      ],
      "source": [
        "# plot evolution for training and validation models\n",
        "MLPdrop_extended = MLPdrop_extended(dimx=28*28,hidden1=256, hidden2=128, hidden3=64, nlabels=10,epochs=10,lr=1e-3)\n",
        "MLPdrop_extended.trainloop(trainloader,validloader)\n",
        "\n",
        "plt.plot(MLPdrop_extended.loss_during_training,'-b',label='BCE Loss')\n",
        "plt.xlabel('Iterations')\n",
        "plt.ylabel('Loss')\n",
        "\n",
        "plt.plot(MLPdrop_extended.valid_loss_during_training,'-b',label='BCE Loss')\n",
        "plt.xlabel('Iterations')\n",
        "plt.ylabel('Loss')"
      ]
    },
    {
      "cell_type": "code",
      "execution_count": null,
      "metadata": {
        "id": "qErtxlP430QD",
        "colab": {
          "base_uri": "https://localhost:8080/"
        },
        "outputId": "01448672-ccea-4634-f18b-58370fea1250"
      },
      "outputs": [
        {
          "output_type": "stream",
          "name": "stdout",
          "text": [
            "Training performance accuracy for this model is 0.8526500463485718\n",
            "Validation performance accuracy is 0.8526500463485718\n",
            "Testing performance accuracy is 0.8341958522796631\n"
          ]
        }
      ],
      "source": [
        "train_accuracy = MLPdrop_extended.eval_performance(trainloader)\n",
        "valid_accuracy = MLPdrop_extended.eval_performance(validloader)\n",
        "test_accuracy = MLPdrop_extended.eval_performance(testloader)\n",
        "print(\"Training performance accuracy for this model is\", float(train_accuracy))\n",
        "print(\"Validation performance accuracy is\", float(train_accuracy))\n",
        "print(\"Testing performance accuracy is\", float(test_accuracy))\n"
      ]
    },
    {
      "cell_type": "markdown",
      "source": [
        "LET'S REPEAT NOW FOR DROPOUT PROBABILIIES p=0.1 AND p=0.3 AND SEE WHICH PROVIDES THE BEST VALIDATION PERFORMANCE. Train for 10 epochs again."
      ],
      "metadata": {
        "id": "J6EH9B1dVmSQ"
      }
    },
    {
      "cell_type": "code",
      "execution_count": null,
      "metadata": {
        "id": "mTRgddTISEBa"
      },
      "outputs": [],
      "source": [
        "class MLPdrop_1(nn.Module):\n",
        "\n",
        "    def __init__(self,dimx,hidden1,hidden2,hidden3,nlabels):\n",
        "        super().init()\n",
        "        self.L1 = nn.Linear(dimx,hidden1)\n",
        "        self.L2 = nn.Linear(hidden1,hidden2)\n",
        "        self.L3 = nn.Linear(hidden2,hidden3)\n",
        "        self.L4 = nn.Linear(hidden3,nlabels)\n",
        "        self.relu = nn.ReLU()\n",
        "        self.dropout = nn.Dropout(p=0.1) # DROPOUT PROBABILITY 0.1\n",
        "        self.softmax = nn.Softmax(dim=1)\n",
        "\n",
        "    def forward(self, x):\n",
        "      # pass input tensor again through each operation above\n",
        "      x = self.L1(x)\n",
        "      x = self.relu(x)\n",
        "      x = self.dropout(x)\n",
        "      x = self.L2(x)\n",
        "      x = self.relu(x)\n",
        "      x = self.dropout(x)\n",
        "      x = self.L3(x)\n",
        "      x = self.relu(x)\n",
        "      x = self.dropout(x)\n",
        "      x = self.L4(x)\n",
        "      x = self.softmax(x)\n",
        "      return x"
      ]
    },
    {
      "cell_type": "code",
      "execution_count": null,
      "metadata": {
        "id": "Mg7Hdzd8SM2U"
      },
      "outputs": [],
      "source": [
        "class MLPdrop_1_extended(MLP):\n",
        "\n",
        "    def __init__(self,dimx,hidden1,hidden2,hidden3,nlabels,epochs=30,lr=0.001):\n",
        "\n",
        "        super().__init__(dimx,hidden1,hidden2,hidden3,nlabels)\n",
        "\n",
        "        self.lr = lr\n",
        "\n",
        "        self.optim = optim.Adam(self.parameters(), self.lr)\n",
        "\n",
        "        self.epochs = epochs\n",
        "\n",
        "        self.criterion = nn.NLLLoss()\n",
        "\n",
        "        self.loss_during_training = []\n",
        "        self.valid_loss_during_training = []\n",
        "\n",
        "\n",
        "    def trainloop(self,trainloader,validloader):\n",
        "            for e in range(int(self.epochs)):\n",
        "                running_loss = 0.\n",
        "                for images, labels in trainloader:\n",
        "                    self.optim.zero_grad()\n",
        "\n",
        "                    # forward pass\n",
        "                    out = self.forward(images.view(images.shape[0], -1))\n",
        "                    loss = self.criterion(out,labels)\n",
        "                    running_loss += loss.item()\n",
        "\n",
        "                    # backwardpass\n",
        "                    loss.backward() # do backpropagation\n",
        "                    self.optim.step()\n",
        "\n",
        "                self.loss_during_training.append(running_loss/len(trainloader))\n",
        "                self.valid_loss_during_training.append(running_loss/len(validloader))\n",
        "\n",
        "                if(e % 1 == 0):\n",
        "                    print(\"Training loss after %d epochs: %f\"\n",
        "                          %(e,self.loss_during_training[-1]))\n",
        "\n",
        "    def eval_performance(self,loader):\n",
        "        loss = 0\n",
        "        accuracy = 0\n",
        "\n",
        "        # Turn off gradients for validation\n",
        "        with torch.no_grad():\n",
        "\n",
        "            # set model to eval mode (turn off dropout mode)\n",
        "            self.eval()\n",
        "\n",
        "            #validation pass\n",
        "            for images,labels in loader:\n",
        "                logprobs = self.forward(images.view(images.shape[0], -1))\n",
        "\n",
        "                top_p, top_class = logprobs.topk(1, dim=1)\n",
        "                equals = (top_class == labels.view(images.shape[0], 1))\n",
        "                accuracy += torch.mean(equals.type(torch.FloatTensor))\n",
        "\n",
        "        # set model back to train mode (turn dropout mode back on)\n",
        "        self.train()\n",
        "\n",
        "        return accuracy/len(loader)\n"
      ]
    },
    {
      "cell_type": "code",
      "source": [
        "# plot evolution for training and validation models\n",
        "MLPdrop_first = MLPdrop_1_extended(dimx=28*28,hidden1=256, hidden2=128, hidden3=64, nlabels=10,epochs=10,lr=1e-3)\n",
        "MLPdrop_first.trainloop(trainloader,validloader)\n",
        "\n",
        "plt.plot(MLPdrop_first.loss_during_training,'-b',label='BCE Loss')\n",
        "plt.xlabel('Iterations')\n",
        "plt.ylabel('Loss')"
      ],
      "metadata": {
        "colab": {
          "base_uri": "https://localhost:8080/",
          "height": 469
        },
        "id": "qENUnDvBSTub",
        "outputId": "532a7fa2-6e17-4496-812a-05da3fa80851"
      },
      "execution_count": null,
      "outputs": [
        {
          "output_type": "stream",
          "name": "stdout",
          "text": [
            "Training loss after 0 epochs: -0.665202\n",
            "Training loss after 1 epochs: -0.709505\n",
            "Training loss after 2 epochs: -0.712515\n",
            "Training loss after 3 epochs: -0.713740\n",
            "Training loss after 4 epochs: -0.727236\n",
            "Training loss after 5 epochs: -0.738436\n",
            "Training loss after 6 epochs: -0.743407\n",
            "Training loss after 7 epochs: -0.750551\n",
            "Training loss after 8 epochs: -0.751758\n",
            "Training loss after 9 epochs: -0.755890\n"
          ]
        },
        {
          "output_type": "execute_result",
          "data": {
            "text/plain": [
              "Text(0, 0.5, 'Loss')"
            ]
          },
          "metadata": {},
          "execution_count": 63
        },
        {
          "output_type": "display_data",
          "data": {
            "text/plain": [
              "<Figure size 432x288 with 1 Axes>"
            ],
            "image/png": "[encoded data removed]"
          },
          "metadata": {
            "image/png": {
              "width": 400,
              "height": 261
            },
            "needs_background": "light"
          }
        }
      ]
    },
    {
      "cell_type": "code",
      "source": [
        "# compute train, validation, and test performance\n",
        "# evaluate train, validation, and test performance\n",
        "\n",
        "train_accuracy = MLPdrop_first.eval_performance(trainloader)\n",
        "valid_accuracy = MLPdrop_first.eval_performance(validloader)\n",
        "test_accuracy = MLPdrop_first.eval_performance(testloader)\n",
        "print(\"Training performance accuracy for this model is\", float(train_accuracy))\n",
        "print(\"Validation performance accuracy is\", float(train_accuracy))\n",
        "print(\"Testing performance accuracy is\", float(test_accuracy))"
      ],
      "metadata": {
        "id": "-z7uHxG9Smfz",
        "colab": {
          "base_uri": "https://localhost:8080/"
        },
        "outputId": "3754a234-6a4a-4ad7-fc6c-640218de2155"
      },
      "execution_count": null,
      "outputs": [
        {
          "output_type": "stream",
          "name": "stdout",
          "text": [
            "Training performance accuracy for this model is 0.7559259533882141\n",
            "Validation performance accuracy is 0.7559259533882141\n",
            "Testing performance accuracy is 0.7434315085411072\n"
          ]
        }
      ]
    },
    {
      "cell_type": "markdown",
      "source": [
        "Now let's try with a dropout probability of 0.3 and see which one has the best performance"
      ],
      "metadata": {
        "id": "kIH3mk9SSoDu"
      }
    },
    {
      "cell_type": "code",
      "execution_count": null,
      "metadata": {
        "id": "8XbUC42BSwoG"
      },
      "outputs": [],
      "source": [
        "class MLPdrop_2(nn.Module):\n",
        "\n",
        "    def __init__(self,dimx,hidden1,hidden2,hidden3,nlabels):\n",
        "        super().init()\n",
        "        self.L1 = nn.Linear(dimx,hidden1)\n",
        "        self.L2 = nn.Linear(hidden1,hidden2)\n",
        "        self.L3 = nn.Linear(hidden2,hidden3)\n",
        "        self.L4 = nn.Linear(hidden3,nlabels)\n",
        "        self.relu = nn.ReLU()\n",
        "        self.dropout = nn.Dropout(p=0.3) # DROPOUT PROBABILITY 0.3\n",
        "        self.softmax = nn.Softmax(dim=1)\n",
        "\n",
        "    def forward(self, x):\n",
        "      x = self.L1(x)\n",
        "      x = self.relu(x)\n",
        "      x = self.dropout(x)\n",
        "      x = self.L2(x)\n",
        "      x = self.relu(x)\n",
        "      x = self.dropout(x)\n",
        "      x = self.L3(x)\n",
        "      x = self.relu(x)\n",
        "      x = self.dropout(x)\n",
        "      x = self.L4(x)\n",
        "      x = self.softmax(x)\n",
        "      return x"
      ]
    },
    {
      "cell_type": "code",
      "execution_count": null,
      "metadata": {
        "id": "SfTnrgWFS1Vn"
      },
      "outputs": [],
      "source": [
        "class MLPdrop_2_extended(MLP):\n",
        "    def __init__(self,dimx,hidden1,hidden2,hidden3,nlabels,epochs=30,lr=0.001):\n",
        "\n",
        "        super().__init__(dimx,hidden1,hidden2,hidden3,nlabels)\n",
        "\n",
        "        self.lr = lr #Learning Rate\n",
        "\n",
        "        self.optim = optim.Adam(self.parameters(), self.lr)\n",
        "\n",
        "        self.epochs = epochs\n",
        "\n",
        "        self.criterion = nn.NLLLoss()\n",
        "\n",
        "        self.loss_during_training = []\n",
        "        self.valid_loss_during_training = []\n",
        "\n",
        "    def trainloop(self,trainloader,validloader):\n",
        "            for e in range(int(self.epochs)):\n",
        "                running_loss = 0.\n",
        "                for images, labels in trainloader:\n",
        "                    self.optim.zero_grad()\n",
        "\n",
        "                    # forward pass\n",
        "                    out = self.forward(images.view(images.shape[0], -1))\n",
        "                    loss = self.criterion(out,labels) # compare output with the labels\n",
        "                    running_loss += loss.item() # update the loss\n",
        "\n",
        "                    # backwardpass\n",
        "                    loss.backward() # do backpropagation\n",
        "                    self.optim.step()\n",
        "\n",
        "                self.loss_during_training.append(running_loss/len(trainloader))\n",
        "                self.valid_loss_during_training.append(running_loss/len(validloader))\n",
        "                if(e % 1 == 0):\n",
        "                    print(\"Training loss after %d epochs: %f\"\n",
        "                          %(e,self.loss_during_training[-1]))\n",
        "\n",
        "    def eval_performance(self,loader):\n",
        "        loss = 0\n",
        "        accuracy = 0\n",
        "\n",
        "        # Turn off gradients for validation\n",
        "        with torch.no_grad():\n",
        "\n",
        "            # set model to eval mode\n",
        "            self.eval()\n",
        "\n",
        "            #validation pass\n",
        "            for images,labels in loader:\n",
        "                logprobs = self.forward(images.view(images.shape[0], -1))\n",
        "\n",
        "                top_p, top_class = logprobs.topk(1, dim=1)\n",
        "                equals = (top_class == labels.view(images.shape[0], 1))\n",
        "                accuracy += torch.mean(equals.type(torch.FloatTensor))\n",
        "\n",
        "        # set model back to train mode\n",
        "        self.train()\n",
        "\n",
        "        return accuracy/len(loader)"
      ]
    },
    {
      "cell_type": "code",
      "source": [
        "# plot evolution for training and validation models\n",
        "MLPdrop_second = MLPdrop_2_extended(dimx=28*28,hidden1=256, hidden2=128, hidden3=64, nlabels=10,epochs=10,lr=1e-3)\n",
        "MLPdrop_second.trainloop(trainloader,validloader)\n",
        "\n",
        "plt.plot(MLPdrop_second.loss_during_training,'-b',label='BCE Loss')\n",
        "plt.xlabel('Iterations')\n",
        "plt.ylabel('Loss')\n",
        "\n",
        "plt.plot(MLPdrop_second.valid_loss_during_training,'-b',label='BCE Loss')\n",
        "plt.xlabel('Iterations')\n",
        "plt.ylabel('Loss')"
      ],
      "metadata": {
        "colab": {
          "base_uri": "https://localhost:8080/",
          "height": 469
        },
        "id": "b0rLWEp8S0rb",
        "outputId": "814cfeb0-e795-4142-f129-ed2d6b306dbe"
      },
      "execution_count": null,
      "outputs": [
        {
          "output_type": "stream",
          "name": "stdout",
          "text": [
            "Training loss after 0 epochs: -0.696890\n",
            "Training loss after 1 epochs: -0.792698\n",
            "Training loss after 2 epochs: -0.815323\n",
            "Training loss after 3 epochs: -0.825103\n",
            "Training loss after 4 epochs: -0.834248\n",
            "Training loss after 5 epochs: -0.838383\n",
            "Training loss after 6 epochs: -0.834520\n",
            "Training loss after 7 epochs: -0.835742\n",
            "Training loss after 8 epochs: -0.839225\n",
            "Training loss after 9 epochs: -0.834637\n"
          ]
        },
        {
          "output_type": "execute_result",
          "data": {
            "text/plain": [
              "Text(0, 0.5, 'Loss')"
            ]
          },
          "metadata": {},
          "execution_count": 67
        },
        {
          "output_type": "display_data",
          "data": {
            "text/plain": [
              "<Figure size 432x288 with 1 Axes>"
            ],
            "image/png": "[encoded data removed]"
          },
          "metadata": {
            "image/png": {
              "width": 400,
              "height": 261
            },
            "needs_background": "light"
          }
        }
      ]
    },
    {
      "cell_type": "code",
      "source": [
        "# compute train, validation, and test performance\n",
        "# evaluate train, validation, and test performance\n",
        "train_accuracy = MLPdrop_second.eval_performance(trainloader)\n",
        "valid_accuracy = MLPdrop_second.eval_performance(validloader)\n",
        "test_accuracy = MLPdrop_second.eval_performance(testloader)\n",
        "print(\"Training performance accuracy for this model is\", float(train_accuracy))\n",
        "print(\"Validation performance accuracy is\", float(train_accuracy))\n",
        "print(\"Testing performance accuracy is\", float(test_accuracy))"
      ],
      "metadata": {
        "colab": {
          "base_uri": "https://localhost:8080/"
        },
        "id": "s7xt2t_nS9Kh",
        "outputId": "ecd8bb03-1acf-4a84-c262-90d956724d63"
      },
      "execution_count": null,
      "outputs": [
        {
          "output_type": "stream",
          "name": "stdout",
          "text": [
            "Training performance accuracy for this model is 0.8151189684867859\n",
            "Validation performance accuracy is 0.8151189684867859\n",
            "Testing performance accuracy is 0.8016520738601685\n"
          ]
        }
      ]
    },
    {
      "cell_type": "markdown",
      "source": [
        "Concluding remarks: For around 10 epochs, it looks like the MLP with dropout probability 0.2, which is what we originally tried, had the best accuracy. Below we can see a review of the performance for the model with changed dropout probabilities.**  \n",
        "  \n",
        "\n",
        "**Performance accuracy with model DROPOUT = 0.2:**  \n",
        "\n",
        "Training performance: 0.8516\n",
        "\n",
        "Validation performance: 0.8516\n",
        "\n",
        "Testing performance accuracy is 0.8318\n",
        "\n",
        "  \n",
        "**Performance accuracy with model DROPOUT = 0.1:**  \n",
        "Training performance 0.75592\n",
        "\n",
        "Validation performance accuracy is 0.7559\n",
        "\n",
        "Testing performance accuracy is 0.7434\n",
        "\n",
        "    \n",
        "**Performance accuracy with model DROPOUT = 0.3:**  \n",
        "Training performance 0.81511\n",
        "\n",
        "Validation performance accuracy is 0.8151  \n",
        "\n",
        "\n",
        "Testing performance accuracy is 0.801652"
      ],
      "metadata": {
        "id": "yS7ihmXnkosW"
      }
    },
    {
      "cell_type": "markdown",
      "source": [
        "So, in conclusion, it looks like the dropout probabiliy that best simplifies the network (and prevents overfitting) is 0.2 for this network."
      ],
      "metadata": {
        "id": "KzolUXFBWpCw"
      }
    }
  ],
  "metadata": {
    "kernelspec": {
      "display_name": "Python 3 (ipykernel)",
      "language": "python",
      "name": "python3"
    },
    "language_info": {
      "codemirror_mode": {
        "name": "ipython",
        "version": 3
      },
      "file_extension": ".py",
      "mimetype": "text/x-python",
      "name": "python",
      "nbconvert_exporter": "python",
      "pygments_lexer": "ipython3",
      "version": "3.8.12"
    },
    "colab": {
      "provenance": []
    },
    "widgets": {
      "application/vnd.jupyter.widget-state+json": {
        "381351718d7541c6bf21dd8fec879d89": {
          "model_module": "@jupyter-widgets/controls",
          "model_name": "HBoxModel",
          "model_module_version": "1.5.0",
          "state": {
            "_dom_classes": [],
            "_model_module": "@jupyter-widgets/controls",
            "_model_module_version": "1.5.0",
            "_model_name": "HBoxModel",
            "_view_count": null,
            "_view_module": "@jupyter-widgets/controls",
            "_view_module_version": "1.5.0",
            "_view_name": "HBoxView",
            "box_style": "",
            "children": [
              "IPY_MODEL_6d721f428817414c8a28cb9e6d23c88b",
              "IPY_MODEL_e92929b4ee114f68a8a9e8b54f6b5b36",
              "IPY_MODEL_7ec8e73210ea4389a027cbe46913cad4"
            ],
            "layout": "IPY_MODEL_42286f89254f45769fb71efc1c5057a1"
          }
        },
        "6d721f428817414c8a28cb9e6d23c88b": {
          "model_module": "@jupyter-widgets/controls",
          "model_name": "HTMLModel",
          "model_module_version": "1.5.0",
          "state": {
            "_dom_classes": [],
            "_model_module": "@jupyter-widgets/controls",
            "_model_module_version": "1.5.0",
            "_model_name": "HTMLModel",
            "_view_count": null,
            "_view_module": "@jupyter-widgets/controls",
            "_view_module_version": "1.5.0",
            "_view_name": "HTMLView",
            "description": "",
            "description_tooltip": null,
            "layout": "IPY_MODEL_aa5e667153ce47dbb3895a0b348b25da",
            "placeholder": "​",
            "style": "IPY_MODEL_0ffc61c667b742e7b6740426818a5a23",
            "value": ""
          }
        },
        "e92929b4ee114f68a8a9e8b54f6b5b36": {
          "model_module": "@jupyter-widgets/controls",
          "model_name": "FloatProgressModel",
          "model_module_version": "1.5.0",
          "state": {
            "_dom_classes": [],
            "_model_module": "@jupyter-widgets/controls",
            "_model_module_version": "1.5.0",
            "_model_name": "FloatProgressModel",
            "_view_count": null,
            "_view_module": "@jupyter-widgets/controls",
            "_view_module_version": "1.5.0",
            "_view_name": "ProgressView",
            "bar_style": "success",
            "description": "",
            "description_tooltip": null,
            "layout": "IPY_MODEL_03dae875bcac47ca81492cd4e4d2bc61",
            "max": 26421880,
            "min": 0,
            "orientation": "horizontal",
            "style": "IPY_MODEL_80147b6406844fb9a231c2df01a03350",
            "value": 26421880
          }
        },
        "7ec8e73210ea4389a027cbe46913cad4": {
          "model_module": "@jupyter-widgets/controls",
          "model_name": "HTMLModel",
          "model_module_version": "1.5.0",
          "state": {
            "_dom_classes": [],
            "_model_module": "@jupyter-widgets/controls",
            "_model_module_version": "1.5.0",
            "_model_name": "HTMLModel",
            "_view_count": null,
            "_view_module": "@jupyter-widgets/controls",
            "_view_module_version": "1.5.0",
            "_view_name": "HTMLView",
            "description": "",
            "description_tooltip": null,
            "layout": "IPY_MODEL_0398fdbead154a6ea821b6ec61ae47ae",
            "placeholder": "​",
            "style": "IPY_MODEL_ce51106fad69440bb21f5952bb5a3287",
            "value": " 26422272/? [00:04&lt;00:00, 9754504.60it/s]"
          }
        },
        "42286f89254f45769fb71efc1c5057a1": {
          "model_module": "@jupyter-widgets/base",
          "model_name": "LayoutModel",
          "model_module_version": "1.2.0",
          "state": {
            "_model_module": "@jupyter-widgets/base",
            "_model_module_version": "1.2.0",
            "_model_name": "LayoutModel",
            "_view_count": null,
            "_view_module": "@jupyter-widgets/base",
            "_view_module_version": "1.2.0",
            "_view_name": "LayoutView",
            "align_content": null,
            "align_items": null,
            "align_self": null,
            "border": null,
            "bottom": null,
            "display": null,
            "flex": null,
            "flex_flow": null,
            "grid_area": null,
            "grid_auto_columns": null,
            "grid_auto_flow": null,
            "grid_auto_rows": null,
            "grid_column": null,
            "grid_gap": null,
            "grid_row": null,
            "grid_template_areas": null,
            "grid_template_columns": null,
            "grid_template_rows": null,
            "height": null,
            "justify_content": null,
            "justify_items": null,
            "left": null,
            "margin": null,
            "max_height": null,
            "max_width": null,
            "min_height": null,
            "min_width": null,
            "object_fit": null,
            "object_position": null,
            "order": null,
            "overflow": null,
            "overflow_x": null,
            "overflow_y": null,
            "padding": null,
            "right": null,
            "top": null,
            "visibility": null,
            "width": null
          }
        },
        "aa5e667153ce47dbb3895a0b348b25da": {
          "model_module": "@jupyter-widgets/base",
          "model_name": "LayoutModel",
          "model_module_version": "1.2.0",
          "state": {
            "_model_module": "@jupyter-widgets/base",
            "_model_module_version": "1.2.0",
            "_model_name": "LayoutModel",
            "_view_count": null,
            "_view_module": "@jupyter-widgets/base",
            "_view_module_version": "1.2.0",
            "_view_name": "LayoutView",
            "align_content": null,
            "align_items": null,
            "align_self": null,
            "border": null,
            "bottom": null,
            "display": null,
            "flex": null,
            "flex_flow": null,
            "grid_area": null,
            "grid_auto_columns": null,
            "grid_auto_flow": null,
            "grid_auto_rows": null,
            "grid_column": null,
            "grid_gap": null,
            "grid_row": null,
            "grid_template_areas": null,
            "grid_template_columns": null,
            "grid_template_rows": null,
            "height": null,
            "justify_content": null,
            "justify_items": null,
            "left": null,
            "margin": null,
            "max_height": null,
            "max_width": null,
            "min_height": null,
            "min_width": null,
            "object_fit": null,
            "object_position": null,
            "order": null,
            "overflow": null,
            "overflow_x": null,
            "overflow_y": null,
            "padding": null,
            "right": null,
            "top": null,
            "visibility": null,
            "width": null
          }
        },
        "0ffc61c667b742e7b6740426818a5a23": {
          "model_module": "@jupyter-widgets/controls",
          "model_name": "DescriptionStyleModel",
          "model_module_version": "1.5.0",
          "state": {
            "_model_module": "@jupyter-widgets/controls",
            "_model_module_version": "1.5.0",
            "_model_name": "DescriptionStyleModel",
            "_view_count": null,
            "_view_module": "@jupyter-widgets/base",
            "_view_module_version": "1.2.0",
            "_view_name": "StyleView",
            "description_width": ""
          }
        },
        "03dae875bcac47ca81492cd4e4d2bc61": {
          "model_module": "@jupyter-widgets/base",
          "model_name": "LayoutModel",
          "model_module_version": "1.2.0",
          "state": {
            "_model_module": "@jupyter-widgets/base",
            "_model_module_version": "1.2.0",
            "_model_name": "LayoutModel",
            "_view_count": null,
            "_view_module": "@jupyter-widgets/base",
            "_view_module_version": "1.2.0",
            "_view_name": "LayoutView",
            "align_content": null,
            "align_items": null,
            "align_self": null,
            "border": null,
            "bottom": null,
            "display": null,
            "flex": null,
            "flex_flow": null,
            "grid_area": null,
            "grid_auto_columns": null,
            "grid_auto_flow": null,
            "grid_auto_rows": null,
            "grid_column": null,
            "grid_gap": null,
            "grid_row": null,
            "grid_template_areas": null,
            "grid_template_columns": null,
            "grid_template_rows": null,
            "height": null,
            "justify_content": null,
            "justify_items": null,
            "left": null,
            "margin": null,
            "max_height": null,
            "max_width": null,
            "min_height": null,
            "min_width": null,
            "object_fit": null,
            "object_position": null,
            "order": null,
            "overflow": null,
            "overflow_x": null,
            "overflow_y": null,
            "padding": null,
            "right": null,
            "top": null,
            "visibility": null,
            "width": null
          }
        },
        "80147b6406844fb9a231c2df01a03350": {
          "model_module": "@jupyter-widgets/controls",
          "model_name": "ProgressStyleModel",
          "model_module_version": "1.5.0",
          "state": {
            "_model_module": "@jupyter-widgets/controls",
            "_model_module_version": "1.5.0",
            "_model_name": "ProgressStyleModel",
            "_view_count": null,
            "_view_module": "@jupyter-widgets/base",
            "_view_module_version": "1.2.0",
            "_view_name": "StyleView",
            "bar_color": null,
            "description_width": ""
          }
        },
        "0398fdbead154a6ea821b6ec61ae47ae": {
          "model_module": "@jupyter-widgets/base",
          "model_name": "LayoutModel",
          "model_module_version": "1.2.0",
          "state": {
            "_model_module": "@jupyter-widgets/base",
            "_model_module_version": "1.2.0",
            "_model_name": "LayoutModel",
            "_view_count": null,
            "_view_module": "@jupyter-widgets/base",
            "_view_module_version": "1.2.0",
            "_view_name": "LayoutView",
            "align_content": null,
            "align_items": null,
            "align_self": null,
            "border": null,
            "bottom": null,
            "display": null,
            "flex": null,
            "flex_flow": null,
            "grid_area": null,
            "grid_auto_columns": null,
            "grid_auto_flow": null,
            "grid_auto_rows": null,
            "grid_column": null,
            "grid_gap": null,
            "grid_row": null,
            "grid_template_areas": null,
            "grid_template_columns": null,
            "grid_template_rows": null,
            "height": null,
            "justify_content": null,
            "justify_items": null,
            "left": null,
            "margin": null,
            "max_height": null,
            "max_width": null,
            "min_height": null,
            "min_width": null,
            "object_fit": null,
            "object_position": null,
            "order": null,
            "overflow": null,
            "overflow_x": null,
            "overflow_y": null,
            "padding": null,
            "right": null,
            "top": null,
            "visibility": null,
            "width": null
          }
        },
        "ce51106fad69440bb21f5952bb5a3287": {
          "model_module": "@jupyter-widgets/controls",
          "model_name": "DescriptionStyleModel",
          "model_module_version": "1.5.0",
          "state": {
            "_model_module": "@jupyter-widgets/controls",
            "_model_module_version": "1.5.0",
            "_model_name": "DescriptionStyleModel",
            "_view_count": null,
            "_view_module": "@jupyter-widgets/base",
            "_view_module_version": "1.2.0",
            "_view_name": "StyleView",
            "description_width": ""
          }
        },
        "4af56eae8d4944979d4ee123c162815b": {
          "model_module": "@jupyter-widgets/controls",
          "model_name": "HBoxModel",
          "model_module_version": "1.5.0",
          "state": {
            "_dom_classes": [],
            "_model_module": "@jupyter-widgets/controls",
            "_model_module_version": "1.5.0",
            "_model_name": "HBoxModel",
            "_view_count": null,
            "_view_module": "@jupyter-widgets/controls",
            "_view_module_version": "1.5.0",
            "_view_name": "HBoxView",
            "box_style": "",
            "children": [
              "IPY_MODEL_9f014602b70b401b8f01a6f60188c761",
              "IPY_MODEL_f8993eca69cc418fba6ea9424de4c4f4",
              "IPY_MODEL_1b0f507c4dad4737b7082541d109638c"
            ],
            "layout": "IPY_MODEL_97f2b44e6bc74649afe67827dd68a163"
          }
        },
        "9f014602b70b401b8f01a6f60188c761": {
          "model_module": "@jupyter-widgets/controls",
          "model_name": "HTMLModel",
          "model_module_version": "1.5.0",
          "state": {
            "_dom_classes": [],
            "_model_module": "@jupyter-widgets/controls",
            "_model_module_version": "1.5.0",
            "_model_name": "HTMLModel",
            "_view_count": null,
            "_view_module": "@jupyter-widgets/controls",
            "_view_module_version": "1.5.0",
            "_view_name": "HTMLView",
            "description": "",
            "description_tooltip": null,
            "layout": "IPY_MODEL_4e51d9d731974b6b8a5af20fed42b859",
            "placeholder": "​",
            "style": "IPY_MODEL_2cb7dfb305d74a809a200f37de56d77f",
            "value": ""
          }
        },
        "f8993eca69cc418fba6ea9424de4c4f4": {
          "model_module": "@jupyter-widgets/controls",
          "model_name": "FloatProgressModel",
          "model_module_version": "1.5.0",
          "state": {
            "_dom_classes": [],
            "_model_module": "@jupyter-widgets/controls",
            "_model_module_version": "1.5.0",
            "_model_name": "FloatProgressModel",
            "_view_count": null,
            "_view_module": "@jupyter-widgets/controls",
            "_view_module_version": "1.5.0",
            "_view_name": "ProgressView",
            "bar_style": "success",
            "description": "",
            "description_tooltip": null,
            "layout": "IPY_MODEL_120d4c9735434213a7ec6e25e8dab829",
            "max": 29515,
            "min": 0,
            "orientation": "horizontal",
            "style": "IPY_MODEL_d8eaaf551ea34d5c8f1b5c31ce195b3b",
            "value": 29515
          }
        },
        "1b0f507c4dad4737b7082541d109638c": {
          "model_module": "@jupyter-widgets/controls",
          "model_name": "HTMLModel",
          "model_module_version": "1.5.0",
          "state": {
            "_dom_classes": [],
            "_model_module": "@jupyter-widgets/controls",
            "_model_module_version": "1.5.0",
            "_model_name": "HTMLModel",
            "_view_count": null,
            "_view_module": "@jupyter-widgets/controls",
            "_view_module_version": "1.5.0",
            "_view_name": "HTMLView",
            "description": "",
            "description_tooltip": null,
            "layout": "IPY_MODEL_568567d02d404794a91602c0c5b022e2",
            "placeholder": "​",
            "style": "IPY_MODEL_72459ee05aa7401b9db682fea760f350",
            "value": " 29696/? [00:00&lt;00:00, 52644.92it/s]"
          }
        },
        "97f2b44e6bc74649afe67827dd68a163": {
          "model_module": "@jupyter-widgets/base",
          "model_name": "LayoutModel",
          "model_module_version": "1.2.0",
          "state": {
            "_model_module": "@jupyter-widgets/base",
            "_model_module_version": "1.2.0",
            "_model_name": "LayoutModel",
            "_view_count": null,
            "_view_module": "@jupyter-widgets/base",
            "_view_module_version": "1.2.0",
            "_view_name": "LayoutView",
            "align_content": null,
            "align_items": null,
            "align_self": null,
            "border": null,
            "bottom": null,
            "display": null,
            "flex": null,
            "flex_flow": null,
            "grid_area": null,
            "grid_auto_columns": null,
            "grid_auto_flow": null,
            "grid_auto_rows": null,
            "grid_column": null,
            "grid_gap": null,
            "grid_row": null,
            "grid_template_areas": null,
            "grid_template_columns": null,
            "grid_template_rows": null,
            "height": null,
            "justify_content": null,
            "justify_items": null,
            "left": null,
            "margin": null,
            "max_height": null,
            "max_width": null,
            "min_height": null,
            "min_width": null,
            "object_fit": null,
            "object_position": null,
            "order": null,
            "overflow": null,
            "overflow_x": null,
            "overflow_y": null,
            "padding": null,
            "right": null,
            "top": null,
            "visibility": null,
            "width": null
          }
        },
        "4e51d9d731974b6b8a5af20fed42b859": {
          "model_module": "@jupyter-widgets/base",
          "model_name": "LayoutModel",
          "model_module_version": "1.2.0",
          "state": {
            "_model_module": "@jupyter-widgets/base",
            "_model_module_version": "1.2.0",
            "_model_name": "LayoutModel",
            "_view_count": null,
            "_view_module": "@jupyter-widgets/base",
            "_view_module_version": "1.2.0",
            "_view_name": "LayoutView",
            "align_content": null,
            "align_items": null,
            "align_self": null,
            "border": null,
            "bottom": null,
            "display": null,
            "flex": null,
            "flex_flow": null,
            "grid_area": null,
            "grid_auto_columns": null,
            "grid_auto_flow": null,
            "grid_auto_rows": null,
            "grid_column": null,
            "grid_gap": null,
            "grid_row": null,
            "grid_template_areas": null,
            "grid_template_columns": null,
            "grid_template_rows": null,
            "height": null,
            "justify_content": null,
            "justify_items": null,
            "left": null,
            "margin": null,
            "max_height": null,
            "max_width": null,
            "min_height": null,
            "min_width": null,
            "object_fit": null,
            "object_position": null,
            "order": null,
            "overflow": null,
            "overflow_x": null,
            "overflow_y": null,
            "padding": null,
            "right": null,
            "top": null,
            "visibility": null,
            "width": null
          }
        },
        "2cb7dfb305d74a809a200f37de56d77f": {
          "model_module": "@jupyter-widgets/controls",
          "model_name": "DescriptionStyleModel",
          "model_module_version": "1.5.0",
          "state": {
            "_model_module": "@jupyter-widgets/controls",
            "_model_module_version": "1.5.0",
            "_model_name": "DescriptionStyleModel",
            "_view_count": null,
            "_view_module": "@jupyter-widgets/base",
            "_view_module_version": "1.2.0",
            "_view_name": "StyleView",
            "description_width": ""
          }
        },
        "120d4c9735434213a7ec6e25e8dab829": {
          "model_module": "@jupyter-widgets/base",
          "model_name": "LayoutModel",
          "model_module_version": "1.2.0",
          "state": {
            "_model_module": "@jupyter-widgets/base",
            "_model_module_version": "1.2.0",
            "_model_name": "LayoutModel",
            "_view_count": null,
            "_view_module": "@jupyter-widgets/base",
            "_view_module_version": "1.2.0",
            "_view_name": "LayoutView",
            "align_content": null,
            "align_items": null,
            "align_self": null,
            "border": null,
            "bottom": null,
            "display": null,
            "flex": null,
            "flex_flow": null,
            "grid_area": null,
            "grid_auto_columns": null,
            "grid_auto_flow": null,
            "grid_auto_rows": null,
            "grid_column": null,
            "grid_gap": null,
            "grid_row": null,
            "grid_template_areas": null,
            "grid_template_columns": null,
            "grid_template_rows": null,
            "height": null,
            "justify_content": null,
            "justify_items": null,
            "left": null,
            "margin": null,
            "max_height": null,
            "max_width": null,
            "min_height": null,
            "min_width": null,
            "object_fit": null,
            "object_position": null,
            "order": null,
            "overflow": null,
            "overflow_x": null,
            "overflow_y": null,
            "padding": null,
            "right": null,
            "top": null,
            "visibility": null,
            "width": null
          }
        },
        "d8eaaf551ea34d5c8f1b5c31ce195b3b": {
          "model_module": "@jupyter-widgets/controls",
          "model_name": "ProgressStyleModel",
          "model_module_version": "1.5.0",
          "state": {
            "_model_module": "@jupyter-widgets/controls",
            "_model_module_version": "1.5.0",
            "_model_name": "ProgressStyleModel",
            "_view_count": null,
            "_view_module": "@jupyter-widgets/base",
            "_view_module_version": "1.2.0",
            "_view_name": "StyleView",
            "bar_color": null,
            "description_width": ""
          }
        },
        "568567d02d404794a91602c0c5b022e2": {
          "model_module": "@jupyter-widgets/base",
          "model_name": "LayoutModel",
          "model_module_version": "1.2.0",
          "state": {
            "_model_module": "@jupyter-widgets/base",
            "_model_module_version": "1.2.0",
            "_model_name": "LayoutModel",
            "_view_count": null,
            "_view_module": "@jupyter-widgets/base",
            "_view_module_version": "1.2.0",
            "_view_name": "LayoutView",
            "align_content": null,
            "align_items": null,
            "align_self": null,
            "border": null,
            "bottom": null,
            "display": null,
            "flex": null,
            "flex_flow": null,
            "grid_area": null,
            "grid_auto_columns": null,
            "grid_auto_flow": null,
            "grid_auto_rows": null,
            "grid_column": null,
            "grid_gap": null,
            "grid_row": null,
            "grid_template_areas": null,
            "grid_template_columns": null,
            "grid_template_rows": null,
            "height": null,
            "justify_content": null,
            "justify_items": null,
            "left": null,
            "margin": null,
            "max_height": null,
            "max_width": null,
            "min_height": null,
            "min_width": null,
            "object_fit": null,
            "object_position": null,
            "order": null,
            "overflow": null,
            "overflow_x": null,
            "overflow_y": null,
            "padding": null,
            "right": null,
            "top": null,
            "visibility": null,
            "width": null
          }
        },
        "72459ee05aa7401b9db682fea760f350": {
          "model_module": "@jupyter-widgets/controls",
          "model_name": "DescriptionStyleModel",
          "model_module_version": "1.5.0",
          "state": {
            "_model_module": "@jupyter-widgets/controls",
            "_model_module_version": "1.5.0",
            "_model_name": "DescriptionStyleModel",
            "_view_count": null,
            "_view_module": "@jupyter-widgets/base",
            "_view_module_version": "1.2.0",
            "_view_name": "StyleView",
            "description_width": ""
          }
        },
        "d59ffd4a55b544a09b59f0b3842c5b8e": {
          "model_module": "@jupyter-widgets/controls",
          "model_name": "HBoxModel",
          "model_module_version": "1.5.0",
          "state": {
            "_dom_classes": [],
            "_model_module": "@jupyter-widgets/controls",
            "_model_module_version": "1.5.0",
            "_model_name": "HBoxModel",
            "_view_count": null,
            "_view_module": "@jupyter-widgets/controls",
            "_view_module_version": "1.5.0",
            "_view_name": "HBoxView",
            "box_style": "",
            "children": [
              "IPY_MODEL_61995dc66c7b43059d1d0382fdc47cf2",
              "IPY_MODEL_b5ebada8e04944959c43eb3a2a63b800",
              "IPY_MODEL_2dd9cc33c6f74644a137b05dfba63b1c"
            ],
            "layout": "IPY_MODEL_bb36f614f5134913b2b669c391fd7510"
          }
        },
        "61995dc66c7b43059d1d0382fdc47cf2": {
          "model_module": "@jupyter-widgets/controls",
          "model_name": "HTMLModel",
          "model_module_version": "1.5.0",
          "state": {
            "_dom_classes": [],
            "_model_module": "@jupyter-widgets/controls",
            "_model_module_version": "1.5.0",
            "_model_name": "HTMLModel",
            "_view_count": null,
            "_view_module": "@jupyter-widgets/controls",
            "_view_module_version": "1.5.0",
            "_view_name": "HTMLView",
            "description": "",
            "description_tooltip": null,
            "layout": "IPY_MODEL_4dd9f20a415a48059dcd02a836cd7be0",
            "placeholder": "​",
            "style": "IPY_MODEL_1dd69316762044e68153964e3be8ccd7",
            "value": ""
          }
        },
        "b5ebada8e04944959c43eb3a2a63b800": {
          "model_module": "@jupyter-widgets/controls",
          "model_name": "FloatProgressModel",
          "model_module_version": "1.5.0",
          "state": {
            "_dom_classes": [],
            "_model_module": "@jupyter-widgets/controls",
            "_model_module_version": "1.5.0",
            "_model_name": "FloatProgressModel",
            "_view_count": null,
            "_view_module": "@jupyter-widgets/controls",
            "_view_module_version": "1.5.0",
            "_view_name": "ProgressView",
            "bar_style": "success",
            "description": "",
            "description_tooltip": null,
            "layout": "IPY_MODEL_bdee68663dd84033b7a51f65e61adbb2",
            "max": 4422102,
            "min": 0,
            "orientation": "horizontal",
            "style": "IPY_MODEL_828f684b7b344065ae0f1f4a302f87d3",
            "value": 4422102
          }
        },
        "2dd9cc33c6f74644a137b05dfba63b1c": {
          "model_module": "@jupyter-widgets/controls",
          "model_name": "HTMLModel",
          "model_module_version": "1.5.0",
          "state": {
            "_dom_classes": [],
            "_model_module": "@jupyter-widgets/controls",
            "_model_module_version": "1.5.0",
            "_model_name": "HTMLModel",
            "_view_count": null,
            "_view_module": "@jupyter-widgets/controls",
            "_view_module_version": "1.5.0",
            "_view_name": "HTMLView",
            "description": "",
            "description_tooltip": null,
            "layout": "IPY_MODEL_cf42bd65392d4139b0b9ec7a729a702e",
            "placeholder": "​",
            "style": "IPY_MODEL_f0ca84f97ac245cf9e0b030b047b23c6",
            "value": " 4422656/? [00:02&lt;00:00, 2927761.21it/s]"
          }
        },
        "bb36f614f5134913b2b669c391fd7510": {
          "model_module": "@jupyter-widgets/base",
          "model_name": "LayoutModel",
          "model_module_version": "1.2.0",
          "state": {
            "_model_module": "@jupyter-widgets/base",
            "_model_module_version": "1.2.0",
            "_model_name": "LayoutModel",
            "_view_count": null,
            "_view_module": "@jupyter-widgets/base",
            "_view_module_version": "1.2.0",
            "_view_name": "LayoutView",
            "align_content": null,
            "align_items": null,
            "align_self": null,
            "border": null,
            "bottom": null,
            "display": null,
            "flex": null,
            "flex_flow": null,
            "grid_area": null,
            "grid_auto_columns": null,
            "grid_auto_flow": null,
            "grid_auto_rows": null,
            "grid_column": null,
            "grid_gap": null,
            "grid_row": null,
            "grid_template_areas": null,
            "grid_template_columns": null,
            "grid_template_rows": null,
            "height": null,
            "justify_content": null,
            "justify_items": null,
            "left": null,
            "margin": null,
            "max_height": null,
            "max_width": null,
            "min_height": null,
            "min_width": null,
            "object_fit": null,
            "object_position": null,
            "order": null,
            "overflow": null,
            "overflow_x": null,
            "overflow_y": null,
            "padding": null,
            "right": null,
            "top": null,
            "visibility": null,
            "width": null
          }
        },
        "4dd9f20a415a48059dcd02a836cd7be0": {
          "model_module": "@jupyter-widgets/base",
          "model_name": "LayoutModel",
          "model_module_version": "1.2.0",
          "state": {
            "_model_module": "@jupyter-widgets/base",
            "_model_module_version": "1.2.0",
            "_model_name": "LayoutModel",
            "_view_count": null,
            "_view_module": "@jupyter-widgets/base",
            "_view_module_version": "1.2.0",
            "_view_name": "LayoutView",
            "align_content": null,
            "align_items": null,
            "align_self": null,
            "border": null,
            "bottom": null,
            "display": null,
            "flex": null,
            "flex_flow": null,
            "grid_area": null,
            "grid_auto_columns": null,
            "grid_auto_flow": null,
            "grid_auto_rows": null,
            "grid_column": null,
            "grid_gap": null,
            "grid_row": null,
            "grid_template_areas": null,
            "grid_template_columns": null,
            "grid_template_rows": null,
            "height": null,
            "justify_content": null,
            "justify_items": null,
            "left": null,
            "margin": null,
            "max_height": null,
            "max_width": null,
            "min_height": null,
            "min_width": null,
            "object_fit": null,
            "object_position": null,
            "order": null,
            "overflow": null,
            "overflow_x": null,
            "overflow_y": null,
            "padding": null,
            "right": null,
            "top": null,
            "visibility": null,
            "width": null
          }
        },
        "1dd69316762044e68153964e3be8ccd7": {
          "model_module": "@jupyter-widgets/controls",
          "model_name": "DescriptionStyleModel",
          "model_module_version": "1.5.0",
          "state": {
            "_model_module": "@jupyter-widgets/controls",
            "_model_module_version": "1.5.0",
            "_model_name": "DescriptionStyleModel",
            "_view_count": null,
            "_view_module": "@jupyter-widgets/base",
            "_view_module_version": "1.2.0",
            "_view_name": "StyleView",
            "description_width": ""
          }
        },
        "bdee68663dd84033b7a51f65e61adbb2": {
          "model_module": "@jupyter-widgets/base",
          "model_name": "LayoutModel",
          "model_module_version": "1.2.0",
          "state": {
            "_model_module": "@jupyter-widgets/base",
            "_model_module_version": "1.2.0",
            "_model_name": "LayoutModel",
            "_view_count": null,
            "_view_module": "@jupyter-widgets/base",
            "_view_module_version": "1.2.0",
            "_view_name": "LayoutView",
            "align_content": null,
            "align_items": null,
            "align_self": null,
            "border": null,
            "bottom": null,
            "display": null,
            "flex": null,
            "flex_flow": null,
            "grid_area": null,
            "grid_auto_columns": null,
            "grid_auto_flow": null,
            "grid_auto_rows": null,
            "grid_column": null,
            "grid_gap": null,
            "grid_row": null,
            "grid_template_areas": null,
            "grid_template_columns": null,
            "grid_template_rows": null,
            "height": null,
            "justify_content": null,
            "justify_items": null,
            "left": null,
            "margin": null,
            "max_height": null,
            "max_width": null,
            "min_height": null,
            "min_width": null,
            "object_fit": null,
            "object_position": null,
            "order": null,
            "overflow": null,
            "overflow_x": null,
            "overflow_y": null,
            "padding": null,
            "right": null,
            "top": null,
            "visibility": null,
            "width": null
          }
        },
        "828f684b7b344065ae0f1f4a302f87d3": {
          "model_module": "@jupyter-widgets/controls",
          "model_name": "ProgressStyleModel",
          "model_module_version": "1.5.0",
          "state": {
            "_model_module": "@jupyter-widgets/controls",
            "_model_module_version": "1.5.0",
            "_model_name": "ProgressStyleModel",
            "_view_count": null,
            "_view_module": "@jupyter-widgets/base",
            "_view_module_version": "1.2.0",
            "_view_name": "StyleView",
            "bar_color": null,
            "description_width": ""
          }
        },
        "cf42bd65392d4139b0b9ec7a729a702e": {
          "model_module": "@jupyter-widgets/base",
          "model_name": "LayoutModel",
          "model_module_version": "1.2.0",
          "state": {
            "_model_module": "@jupyter-widgets/base",
            "_model_module_version": "1.2.0",
            "_model_name": "LayoutModel",
            "_view_count": null,
            "_view_module": "@jupyter-widgets/base",
            "_view_module_version": "1.2.0",
            "_view_name": "LayoutView",
            "align_content": null,
            "align_items": null,
            "align_self": null,
            "border": null,
            "bottom": null,
            "display": null,
            "flex": null,
            "flex_flow": null,
            "grid_area": null,
            "grid_auto_columns": null,
            "grid_auto_flow": null,
            "grid_auto_rows": null,
            "grid_column": null,
            "grid_gap": null,
            "grid_row": null,
            "grid_template_areas": null,
            "grid_template_columns": null,
            "grid_template_rows": null,
            "height": null,
            "justify_content": null,
            "justify_items": null,
            "left": null,
            "margin": null,
            "max_height": null,
            "max_width": null,
            "min_height": null,
            "min_width": null,
            "object_fit": null,
            "object_position": null,
            "order": null,
            "overflow": null,
            "overflow_x": null,
            "overflow_y": null,
            "padding": null,
            "right": null,
            "top": null,
            "visibility": null,
            "width": null
          }
        },
        "f0ca84f97ac245cf9e0b030b047b23c6": {
          "model_module": "@jupyter-widgets/controls",
          "model_name": "DescriptionStyleModel",
          "model_module_version": "1.5.0",
          "state": {
            "_model_module": "@jupyter-widgets/controls",
            "_model_module_version": "1.5.0",
            "_model_name": "DescriptionStyleModel",
            "_view_count": null,
            "_view_module": "@jupyter-widgets/base",
            "_view_module_version": "1.2.0",
            "_view_name": "StyleView",
            "description_width": ""
          }
        },
        "017c66fb5d644245a2ee728b13b01965": {
          "model_module": "@jupyter-widgets/controls",
          "model_name": "HBoxModel",
          "model_module_version": "1.5.0",
          "state": {
            "_dom_classes": [],
            "_model_module": "@jupyter-widgets/controls",
            "_model_module_version": "1.5.0",
            "_model_name": "HBoxModel",
            "_view_count": null,
            "_view_module": "@jupyter-widgets/controls",
            "_view_module_version": "1.5.0",
            "_view_name": "HBoxView",
            "box_style": "",
            "children": [
              "IPY_MODEL_25adbf032ca84ff6bbb75812e7afc6d4",
              "IPY_MODEL_af600a5e8a6c48379891915900d53ffc",
              "IPY_MODEL_7974f106a23f4a2f82ed32a16ade1bdf"
            ],
            "layout": "IPY_MODEL_de756646e1da4aba890b1a5e305fd650"
          }
        },
        "25adbf032ca84ff6bbb75812e7afc6d4": {
          "model_module": "@jupyter-widgets/controls",
          "model_name": "HTMLModel",
          "model_module_version": "1.5.0",
          "state": {
            "_dom_classes": [],
            "_model_module": "@jupyter-widgets/controls",
            "_model_module_version": "1.5.0",
            "_model_name": "HTMLModel",
            "_view_count": null,
            "_view_module": "@jupyter-widgets/controls",
            "_view_module_version": "1.5.0",
            "_view_name": "HTMLView",
            "description": "",
            "description_tooltip": null,
            "layout": "IPY_MODEL_17eb71e63f2042b39ed14f58f2ed11ef",
            "placeholder": "​",
            "style": "IPY_MODEL_072d58e81e3e4b69946125a847458580",
            "value": ""
          }
        },
        "af600a5e8a6c48379891915900d53ffc": {
          "model_module": "@jupyter-widgets/controls",
          "model_name": "FloatProgressModel",
          "model_module_version": "1.5.0",
          "state": {
            "_dom_classes": [],
            "_model_module": "@jupyter-widgets/controls",
            "_model_module_version": "1.5.0",
            "_model_name": "FloatProgressModel",
            "_view_count": null,
            "_view_module": "@jupyter-widgets/controls",
            "_view_module_version": "1.5.0",
            "_view_name": "ProgressView",
            "bar_style": "success",
            "description": "",
            "description_tooltip": null,
            "layout": "IPY_MODEL_b10c13417c7b4d99a6789ec607bc26d0",
            "max": 5148,
            "min": 0,
            "orientation": "horizontal",
            "style": "IPY_MODEL_c8de61c6e2844ff6b8ad83a25c7ca122",
            "value": 5148
          }
        },
        "7974f106a23f4a2f82ed32a16ade1bdf": {
          "model_module": "@jupyter-widgets/controls",
          "model_name": "HTMLModel",
          "model_module_version": "1.5.0",
          "state": {
            "_dom_classes": [],
            "_model_module": "@jupyter-widgets/controls",
            "_model_module_version": "1.5.0",
            "_model_name": "HTMLModel",
            "_view_count": null,
            "_view_module": "@jupyter-widgets/controls",
            "_view_module_version": "1.5.0",
            "_view_name": "HTMLView",
            "description": "",
            "description_tooltip": null,
            "layout": "IPY_MODEL_b3aead12523745df856d96d9912c4daf",
            "placeholder": "​",
            "style": "IPY_MODEL_12a352a343644330afd9f9e52808432e",
            "value": " 6144/? [00:00&lt;00:00, 131793.28it/s]"
          }
        },
        "de756646e1da4aba890b1a5e305fd650": {
          "model_module": "@jupyter-widgets/base",
          "model_name": "LayoutModel",
          "model_module_version": "1.2.0",
          "state": {
            "_model_module": "@jupyter-widgets/base",
            "_model_module_version": "1.2.0",
            "_model_name": "LayoutModel",
            "_view_count": null,
            "_view_module": "@jupyter-widgets/base",
            "_view_module_version": "1.2.0",
            "_view_name": "LayoutView",
            "align_content": null,
            "align_items": null,
            "align_self": null,
            "border": null,
            "bottom": null,
            "display": null,
            "flex": null,
            "flex_flow": null,
            "grid_area": null,
            "grid_auto_columns": null,
            "grid_auto_flow": null,
            "grid_auto_rows": null,
            "grid_column": null,
            "grid_gap": null,
            "grid_row": null,
            "grid_template_areas": null,
            "grid_template_columns": null,
            "grid_template_rows": null,
            "height": null,
            "justify_content": null,
            "justify_items": null,
            "left": null,
            "margin": null,
            "max_height": null,
            "max_width": null,
            "min_height": null,
            "min_width": null,
            "object_fit": null,
            "object_position": null,
            "order": null,
            "overflow": null,
            "overflow_x": null,
            "overflow_y": null,
            "padding": null,
            "right": null,
            "top": null,
            "visibility": null,
            "width": null
          }
        },
        "17eb71e63f2042b39ed14f58f2ed11ef": {
          "model_module": "@jupyter-widgets/base",
          "model_name": "LayoutModel",
          "model_module_version": "1.2.0",
          "state": {
            "_model_module": "@jupyter-widgets/base",
            "_model_module_version": "1.2.0",
            "_model_name": "LayoutModel",
            "_view_count": null,
            "_view_module": "@jupyter-widgets/base",
            "_view_module_version": "1.2.0",
            "_view_name": "LayoutView",
            "align_content": null,
            "align_items": null,
            "align_self": null,
            "border": null,
            "bottom": null,
            "display": null,
            "flex": null,
            "flex_flow": null,
            "grid_area": null,
            "grid_auto_columns": null,
            "grid_auto_flow": null,
            "grid_auto_rows": null,
            "grid_column": null,
            "grid_gap": null,
            "grid_row": null,
            "grid_template_areas": null,
            "grid_template_columns": null,
            "grid_template_rows": null,
            "height": null,
            "justify_content": null,
            "justify_items": null,
            "left": null,
            "margin": null,
            "max_height": null,
            "max_width": null,
            "min_height": null,
            "min_width": null,
            "object_fit": null,
            "object_position": null,
            "order": null,
            "overflow": null,
            "overflow_x": null,
            "overflow_y": null,
            "padding": null,
            "right": null,
            "top": null,
            "visibility": null,
            "width": null
          }
        },
        "072d58e81e3e4b69946125a847458580": {
          "model_module": "@jupyter-widgets/controls",
          "model_name": "DescriptionStyleModel",
          "model_module_version": "1.5.0",
          "state": {
            "_model_module": "@jupyter-widgets/controls",
            "_model_module_version": "1.5.0",
            "_model_name": "DescriptionStyleModel",
            "_view_count": null,
            "_view_module": "@jupyter-widgets/base",
            "_view_module_version": "1.2.0",
            "_view_name": "StyleView",
            "description_width": ""
          }
        },
        "b10c13417c7b4d99a6789ec607bc26d0": {
          "model_module": "@jupyter-widgets/base",
          "model_name": "LayoutModel",
          "model_module_version": "1.2.0",
          "state": {
            "_model_module": "@jupyter-widgets/base",
            "_model_module_version": "1.2.0",
            "_model_name": "LayoutModel",
            "_view_count": null,
            "_view_module": "@jupyter-widgets/base",
            "_view_module_version": "1.2.0",
            "_view_name": "LayoutView",
            "align_content": null,
            "align_items": null,
            "align_self": null,
            "border": null,
            "bottom": null,
            "display": null,
            "flex": null,
            "flex_flow": null,
            "grid_area": null,
            "grid_auto_columns": null,
            "grid_auto_flow": null,
            "grid_auto_rows": null,
            "grid_column": null,
            "grid_gap": null,
            "grid_row": null,
            "grid_template_areas": null,
            "grid_template_columns": null,
            "grid_template_rows": null,
            "height": null,
            "justify_content": null,
            "justify_items": null,
            "left": null,
            "margin": null,
            "max_height": null,
            "max_width": null,
            "min_height": null,
            "min_width": null,
            "object_fit": null,
            "object_position": null,
            "order": null,
            "overflow": null,
            "overflow_x": null,
            "overflow_y": null,
            "padding": null,
            "right": null,
            "top": null,
            "visibility": null,
            "width": null
          }
        },
        "c8de61c6e2844ff6b8ad83a25c7ca122": {
          "model_module": "@jupyter-widgets/controls",
          "model_name": "ProgressStyleModel",
          "model_module_version": "1.5.0",
          "state": {
            "_model_module": "@jupyter-widgets/controls",
            "_model_module_version": "1.5.0",
            "_model_name": "ProgressStyleModel",
            "_view_count": null,
            "_view_module": "@jupyter-widgets/base",
            "_view_module_version": "1.2.0",
            "_view_name": "StyleView",
            "bar_color": null,
            "description_width": ""
          }
        },
        "b3aead12523745df856d96d9912c4daf": {
          "model_module": "@jupyter-widgets/base",
          "model_name": "LayoutModel",
          "model_module_version": "1.2.0",
          "state": {
            "_model_module": "@jupyter-widgets/base",
            "_model_module_version": "1.2.0",
            "_model_name": "LayoutModel",
            "_view_count": null,
            "_view_module": "@jupyter-widgets/base",
            "_view_module_version": "1.2.0",
            "_view_name": "LayoutView",
            "align_content": null,
            "align_items": null,
            "align_self": null,
            "border": null,
            "bottom": null,
            "display": null,
            "flex": null,
            "flex_flow": null,
            "grid_area": null,
            "grid_auto_columns": null,
            "grid_auto_flow": null,
            "grid_auto_rows": null,
            "grid_column": null,
            "grid_gap": null,
            "grid_row": null,
            "grid_template_areas": null,
            "grid_template_columns": null,
            "grid_template_rows": null,
            "height": null,
            "justify_content": null,
            "justify_items": null,
            "left": null,
            "margin": null,
            "max_height": null,
            "max_width": null,
            "min_height": null,
            "min_width": null,
            "object_fit": null,
            "object_position": null,
            "order": null,
            "overflow": null,
            "overflow_x": null,
            "overflow_y": null,
            "padding": null,
            "right": null,
            "top": null,
            "visibility": null,
            "width": null
          }
        },
        "12a352a343644330afd9f9e52808432e": {
          "model_module": "@jupyter-widgets/controls",
          "model_name": "DescriptionStyleModel",
          "model_module_version": "1.5.0",
          "state": {
            "_model_module": "@jupyter-widgets/controls",
            "_model_module_version": "1.5.0",
            "_model_name": "DescriptionStyleModel",
            "_view_count": null,
            "_view_module": "@jupyter-widgets/base",
            "_view_module_version": "1.2.0",
            "_view_name": "StyleView",
            "description_width": ""
          }
        }
      }
    }
  },
  "nbformat": 4,
  "nbformat_minor": 0
}