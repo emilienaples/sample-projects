{
  "cells": [
    {
      "cell_type": "markdown",
      "metadata": {
        "id": "8VbJFNU5U4Bw"
      },
      "source": [
        "\n",
        "# Image Classification with MLPs - Part 1\n",
        "\n",
        "\n",
        "------------------------------------------------------\n",
        "*Deep Learning. Master in Big Data Analytics*\n",
        "\n",
        "*Emilie Naples emilienaples@gmail.com*\n",
        "\n",
        "------------------------------------------------------\n",
        "\n",
        "\n",
        "For this short project, I will implement an image classifier using MLPs and the MNIST dataset, which consists of greyscale handwritten digits. Each image is 28x28 pixels. A sample is shown below."
      ]
    },
    {
      "cell_type": "code",
      "execution_count": null,
      "metadata": {
        "id": "37XpFn3FU4B2",
        "colab": {
          "base_uri": "https://localhost:8080/",
          "height": 221
        },
        "outputId": "63295965-ce58-4939-cacd-ce4063f0134c"
      },
      "outputs": [
        {
          "output_type": "execute_result",
          "data": {
            "text/plain": [
              "<IPython.core.display.Image object>"
            ],
            "text/html": [
              "<img src=\"https://upload.wikimedia.org/wikipedia/commons/2/27/MnistExamples.png\" width=\"400\" height=\"200\"/>"
            ]
          },
          "metadata": {},
          "execution_count": 1
        }
      ],
      "source": [
        "from IPython.display import Image\n",
        "from IPython.core.display import HTML\n",
        "\n",
        "Image(url= \"https://upload.wikimedia.org/wikipedia/commons/2/27/MnistExamples.png\", width=400, height=200)"
      ]
    },
    {
      "cell_type": "markdown",
      "metadata": {
        "id": "btypUfrlU4B5"
      },
      "source": [
        "The goal is to build a neural network that can take one of these images and predict the digit in the image.\n",
        "\n",
        "Note: a big part of the following content was a personal wrap-up of [Facebook's Deep Learning Course in Udacity](https://www.udacity.com/course/deep-learning-pytorch--ud188). So all credit goes to them!!"
      ]
    },
    {
      "cell_type": "code",
      "execution_count": null,
      "metadata": {
        "id": "d6phO2ZvU4B7"
      },
      "outputs": [],
      "source": [
        "%matplotlib inline\n",
        "%config InlineBackend.figure_format = 'retina'  #To get figures with high quality!\n",
        "\n",
        "import numpy as np\n",
        "import torch\n",
        "from torch import nn\n",
        "from torch import optim\n",
        "import matplotlib.pyplot as plt"
      ]
    },
    {
      "cell_type": "markdown",
      "metadata": {
        "id": "ObA5STJEU4B8"
      },
      "source": [
        "## Part I. Download MNIST with `torchvision`\n",
        "\n",
        "First up, we need to get our dataset. This is provided through the `torchvision` package. The [torchvision package](https://pytorch.org/docs/stable/torchvision/index.html) consists of popular datasets, model architectures, and common image transformations for computer vision.\n",
        "\n",
        "\n",
        "The code below will download the MNIST dataset, then create training and test datasets."
      ]
    },
    {
      "cell_type": "code",
      "execution_count": null,
      "metadata": {
        "id": "6QwWz8fOU4B-",
        "colab": {
          "base_uri": "https://localhost:8080/",
          "height": 423,
          "referenced_widgets": [
            "00504ca1bc204b9cb7e0d54baacf996a",
            "5fe6371db09d410883dcd6dd2f92aad7",
            "05c99df9110146c59c8c0dfce45bf42f",
            "7a0a6146d866434b80730ef4707aaff2",
            "7e45741c856147cb9a34ae33bf0fe5a3",
            "7672c41ecdcc49ed97862196965537a6",
            "4344c913a9dd49a2bface9e6abcc867e",
            "46bf313ada5e49829d9d542ec7991c64",
            "52a7c5d21a3947fab61b9f8a78d03e1b",
            "df6de9fa2abf44dd8e85b7390db5d007",
            "706ced6bb7ca4d269436a0a22892347e",
            "6d8d68e574b8433aa12613fddc95ce91",
            "80a5bc929f154ed7b70b22afba91c4f2",
            "8f4a1d0bbb0e43ea83b6262f24b7ea2b",
            "b8535af56901497faf259ae902fd0798",
            "d78329b753364372a2d28980612e2086",
            "29248b24c4884cc5b95515673443ccaf",
            "a0be2eeeecf94f81b78c524bac614764",
            "0ff80560ad9e4beb8878042b83114ef6",
            "bf15ee3179cd487b86b1c7cc505c912a",
            "bf1b020d9f66441f8d08dc06582bce4b",
            "3019dd5d1a1146ed967240b20e76ad67",
            "9e9b8b9b14194843afc05b09ba117bd5",
            "cfd5757944ad4ad9ab77f707fb9f5420",
            "7d10539f8a4e43e8919e8c28eeecd2ea",
            "fba996f6f43947028edd2fbf22a5d8ea",
            "691a10ddd5584499b73b08483e0324b9",
            "fefb25aafc044a399be793015cc65aa9",
            "3d621e043a394333b2fa2b0cb8f0f21a",
            "2ff2133074f84acfb6b318fa8b66692b",
            "1e2930728b5442c8948581b21cb3cbed",
            "370e1320b7074a2fbacc1029a739b818",
            "c9ffc135972d42c9b5b2b538a96d6a8e",
            "5e5e9eeed2664f86be6dcfe6a965e3ed",
            "8859709d3350411a9782e7315da40525",
            "a4cb2ff0473a4812804a7601bb59fbac",
            "a977bf9d673b433dbf239e7ae3b7e10e",
            "9361cba94a164c5cb083402670887012",
            "182a32e5f11b4edcb4b6d87fcd4e076f",
            "bfb2168bd9c04b828c17372b3f2ac11c",
            "693d50b37e114fecab80eccd462dba5f",
            "f9dc766dd5504bfab642984dd85c2ec8",
            "24e806cf84e744be9afa1d6d66edcf27",
            "20c79c0d7ea141968c3a5fea080d28d4"
          ]
        },
        "outputId": "5cb8d8c3-dbfd-4f71-abe9-30e052b20d9f"
      },
      "outputs": [
        {
          "output_type": "stream",
          "name": "stdout",
          "text": [
            "Downloading http://yann.lecun.com/exdb/mnist/train-images-idx3-ubyte.gz\n",
            "Downloading http://yann.lecun.com/exdb/mnist/train-images-idx3-ubyte.gz to /root/.pytorch/MNIST_data/MNIST/raw/train-images-idx3-ubyte.gz\n"
          ]
        },
        {
          "output_type": "display_data",
          "data": {
            "text/plain": [
              "  0%|          | 0/9912422 [00:00<?, ?it/s]"
            ],
            "application/vnd.jupyter.widget-view+json": {
              "version_major": 2,
              "version_minor": 0,
              "model_id": "00504ca1bc204b9cb7e0d54baacf996a"
            }
          },
          "metadata": {}
        },
        {
          "output_type": "stream",
          "name": "stdout",
          "text": [
            "Extracting /root/.pytorch/MNIST_data/MNIST/raw/train-images-idx3-ubyte.gz to /root/.pytorch/MNIST_data/MNIST/raw\n",
            "\n",
            "Downloading http://yann.lecun.com/exdb/mnist/train-labels-idx1-ubyte.gz\n",
            "Downloading http://yann.lecun.com/exdb/mnist/train-labels-idx1-ubyte.gz to /root/.pytorch/MNIST_data/MNIST/raw/train-labels-idx1-ubyte.gz\n"
          ]
        },
        {
          "output_type": "display_data",
          "data": {
            "text/plain": [
              "  0%|          | 0/28881 [00:00<?, ?it/s]"
            ],
            "application/vnd.jupyter.widget-view+json": {
              "version_major": 2,
              "version_minor": 0,
              "model_id": "6d8d68e574b8433aa12613fddc95ce91"
            }
          },
          "metadata": {}
        },
        {
          "output_type": "stream",
          "name": "stdout",
          "text": [
            "Extracting /root/.pytorch/MNIST_data/MNIST/raw/train-labels-idx1-ubyte.gz to /root/.pytorch/MNIST_data/MNIST/raw\n",
            "\n",
            "Downloading http://yann.lecun.com/exdb/mnist/t10k-images-idx3-ubyte.gz\n",
            "Downloading http://yann.lecun.com/exdb/mnist/t10k-images-idx3-ubyte.gz to /root/.pytorch/MNIST_data/MNIST/raw/t10k-images-idx3-ubyte.gz\n"
          ]
        },
        {
          "output_type": "display_data",
          "data": {
            "text/plain": [
              "  0%|          | 0/1648877 [00:00<?, ?it/s]"
            ],
            "application/vnd.jupyter.widget-view+json": {
              "version_major": 2,
              "version_minor": 0,
              "model_id": "9e9b8b9b14194843afc05b09ba117bd5"
            }
          },
          "metadata": {}
        },
        {
          "output_type": "stream",
          "name": "stdout",
          "text": [
            "Extracting /root/.pytorch/MNIST_data/MNIST/raw/t10k-images-idx3-ubyte.gz to /root/.pytorch/MNIST_data/MNIST/raw\n",
            "\n",
            "Downloading http://yann.lecun.com/exdb/mnist/t10k-labels-idx1-ubyte.gz\n",
            "Downloading http://yann.lecun.com/exdb/mnist/t10k-labels-idx1-ubyte.gz to /root/.pytorch/MNIST_data/MNIST/raw/t10k-labels-idx1-ubyte.gz\n"
          ]
        },
        {
          "output_type": "display_data",
          "data": {
            "text/plain": [
              "  0%|          | 0/4542 [00:00<?, ?it/s]"
            ],
            "application/vnd.jupyter.widget-view+json": {
              "version_major": 2,
              "version_minor": 0,
              "model_id": "5e5e9eeed2664f86be6dcfe6a965e3ed"
            }
          },
          "metadata": {}
        },
        {
          "output_type": "stream",
          "name": "stdout",
          "text": [
            "Extracting /root/.pytorch/MNIST_data/MNIST/raw/t10k-labels-idx1-ubyte.gz to /root/.pytorch/MNIST_data/MNIST/raw\n",
            "\n"
          ]
        }
      ],
      "source": [
        "from torchvision import datasets, transforms\n",
        "\n",
        "# Define a transform to normalize the data\n",
        "transform = transforms.Compose([transforms.ToTensor(),\n",
        "                              transforms.Normalize((0.5,), (0.5,)),\n",
        "                              ])\n",
        "\n",
        "# Download and load the training  data\n",
        "trainset = datasets.MNIST('~/.pytorch/MNIST_data/', download=True, train=True, transform=transform)\n",
        "trainloader = torch.utils.data.DataLoader(trainset, batch_size=64, shuffle=True)\n",
        "\n",
        "# Download and load the test data\n",
        "testset = datasets.MNIST('~/.pytorch/MNIST_data/', download=True, train=False, transform=transform)\n",
        "testloader = torch.utils.data.DataLoader(testset, batch_size=64, shuffle=True)"
      ]
    },
    {
      "cell_type": "markdown",
      "metadata": {
        "id": "gLyJSXJKU4CA"
      },
      "source": [
        "The training data is loaded into `trainloader` and I make that an iterator with `iter(trainloader)`. Later, I'll use this to loop through the dataset for training, like\n",
        "\n",
        "```python\n",
        "for image, label in trainloader:\n",
        "    ## do things with images and labels\n",
        "```\n",
        "\n",
        "I create the `trainloader` with a batch size of 64, and `shuffle=True` to **shuffle the dataset every time we start going through the data loader again**. Let's look at the first batch to view the data. It can be seen below that `images` is just a tensor with size `(64, 1, 28, 28)`. So, 64 images per batch, **1 color channel**, and 28x28 images."
      ]
    },
    {
      "cell_type": "code",
      "execution_count": null,
      "metadata": {
        "id": "6Ndim1CeU4CD",
        "colab": {
          "base_uri": "https://localhost:8080/"
        },
        "outputId": "ed804780-b5e0-492d-c5dd-3a65dd92e1e8"
      },
      "outputs": [
        {
          "output_type": "stream",
          "name": "stdout",
          "text": [
            "<class 'torch.Tensor'>\n",
            "torch.Size([64, 1, 28, 28])\n",
            "torch.Size([64])\n"
          ]
        }
      ],
      "source": [
        "dataiter = iter(trainloader)   #To iterate through the dataset\n",
        "\n",
        "images, labels = dataiter.next()\n",
        "print(type(images))\n",
        "print(images.shape)\n",
        "print(labels.shape)\n"
      ]
    },
    {
      "cell_type": "markdown",
      "metadata": {
        "id": "McM0tIPyU4CS"
      },
      "source": [
        "This is what one of the images looks like."
      ]
    },
    {
      "cell_type": "code",
      "execution_count": null,
      "metadata": {
        "id": "D-XdQGQkU4CT",
        "colab": {
          "base_uri": "https://localhost:8080/",
          "height": 282
        },
        "outputId": "e67f20f9-9af2-41b2-bd53-f6486aca1422"
      },
      "outputs": [
        {
          "output_type": "execute_result",
          "data": {
            "text/plain": [
              "<matplotlib.image.AxesImage at 0x7f5e7e74abd0>"
            ]
          },
          "metadata": {},
          "execution_count": 5
        },
        {
          "output_type": "display_data",
          "data": {
            "text/plain": [
              "<Figure size 432x288 with 1 Axes>"
            ],
            "image/png": "[encoded data removed]"
          },
          "metadata": {
            "image/png": {
              "width": 251,
              "height": 248
            },
            "needs_background": "light"
          }
        }
      ],
      "source": [
        "plt.imshow(images[1].numpy().reshape([28,28]), cmap='Greys_r')"
      ]
    },
    {
      "cell_type": "markdown",
      "metadata": {
        "id": "8upPLXRDU4CV"
      },
      "source": [
        "## Train a multi-class Logistic Regressor\n",
        "\n",
        "Do this to evaluate how got it can perform in both the training and the test sets.\n",
        "\n",
        "- I am training an LR classifier with 10 different outputs that implements a **softmax** non-linear function (instead of a binary LR with a sigmoid).\n",
        "\n",
        "First, define the Multi-class Logistic Regressor class."
      ]
    },
    {
      "cell_type": "code",
      "execution_count": null,
      "metadata": {
        "id": "NyVYeA61U4CX"
      },
      "outputs": [],
      "source": [
        "class Multi_LR(nn.Module):\n",
        "    def __init__(self,dimx,nlabels): #Nlabels will be 10 in our case # initiate the Multi_LR class\n",
        "        super().__init__() # initiate the nn class\n",
        "        self.output = nn.Linear(dimx,nlabels)\n",
        "        self.logsoftmax = nn.LogSoftmax(dim=1)   # NEW w.r.t Lab 1. dim is the dimension along which\n",
        "                                                 #Softmax will be computed (so every slice along dim will sum to 1)\n",
        "\n",
        "    def forward(self, x):\n",
        "        # Pass the input tensor through each of the operations\n",
        "        x = self.output(x)\n",
        "        x = self.logsoftmax(x)\n",
        "        return x"
      ]
    },
    {
      "cell_type": "markdown",
      "metadata": {
        "id": "UuYTQMlkU4CY"
      },
      "source": [
        "I use `nn.LogSoftmax` instead of `nn.Softmax()`. In many cases, softmax gives you probabilities which will often be very close to zero or one but floating-point numbers can't accurately represent values near zero or one ([see my reasoning here](https://docs.python.org/3/tutorial/floatingpoint.html)). It's usually best to avoid doing calculations with probabilities, so I use  log-probabilities.  The cross entropy loss is obtained by combining `nn.LogSoftmax` with the negative loss likelihood loss `nn.NLLLoss()`.\n",
        "\n",
        "Alternatively, [`nn.CrossEntropyLoss`](https://pytorch.org/docs/stable/nn.html#torch.nn.CrossEntropyLoss) can be used. **This criterion combines `nn.LogSoftmax()` and `nn.NLLLoss()` in one single class.**\n",
        "\n",
        "This means we need to pass in the raw output of our network into the loss, not the output of the softmax function. This raw output is usually called the *logits* or *scores*.\n"
      ]
    },
    {
      "cell_type": "markdown",
      "metadata": {
        "id": "jybbF2I2U4CZ"
      },
      "source": [
        "Now, implement an extension to the class above (which inheritates from `Multi_LR`) that includes a training method."
      ]
    },
    {
      "cell_type": "code",
      "execution_count": null,
      "metadata": {
        "id": "YbFaIAQ9U4Ca"
      },
      "outputs": [],
      "source": [
        "''' This class inherits from the `Multi_LR` class. So it has the same atributes\n",
        "and methods, and some others that I will add.\n",
        "'''\n",
        "class Multi_LR_extended(Multi_LR):\n",
        "\n",
        "    def __init__(self,dimx,nlabels,epochs=100,lr=0.001): # initialize the new class. include new and old parameters\n",
        "        super().__init__(dimx,nlabels)\n",
        "        self.lr = lr\n",
        "        self.optim = optim.Adam(self.parameters(), self.lr)\n",
        "        self.epochs = epochs\n",
        "        self.criterion = nn.NLLLoss()\n",
        "        # Store the loss evolution along training\n",
        "        self.loss_during_training = []\n",
        "\n",
        "    def train(self,trainloader):\n",
        "        # Optimization Loop\n",
        "        for e in range(int(self.epochs)):\n",
        "            running_loss = 0.\n",
        "            for images, labels in trainloader:\n",
        "                self.optim.zero_grad()  # RESET GRADIENTS\n",
        "\n",
        "                # forward pass\n",
        "                out = self.forward(images.view(images.shape[0], -1)) # -1 reshapes the image in a vector, 0th column refers to batch size\n",
        "                loss = self.criterion(out,labels) # compare output with the labels\n",
        "                running_loss += loss.item() # update the loss\n",
        "\n",
        "                # backwardpass\n",
        "                loss.backward() # do backpropagation\n",
        "                self.optim.step() #updates parameters\n",
        "\n",
        "            self.loss_during_training.append(running_loss/len(trainloader))\n",
        "\n",
        "            if(e % 1 == 0): # Every 10 epochs\n",
        "                print(\"Training loss after %d epochs: %f\"\n",
        "                      %(e,self.loss_during_training[-1]))\n"
      ]
    },
    {
      "cell_type": "markdown",
      "source": [
        "**As we can see in the image files, 64 is the number of images in the loader with 1 input channel andd 28 by 28 images.**"
      ],
      "metadata": {
        "id": "H9pm3wdi5LdQ"
      }
    },
    {
      "cell_type": "code",
      "source": [
        "images.shape"
      ],
      "metadata": {
        "colab": {
          "base_uri": "https://localhost:8080/"
        },
        "id": "R20cyrzjODFs",
        "outputId": "6f3eb876-0e0c-4148-aea8-f5a02e1e209e"
      },
      "execution_count": null,
      "outputs": [
        {
          "output_type": "execute_result",
          "data": {
            "text/plain": [
              "torch.Size([64, 1, 28, 28])"
            ]
          },
          "metadata": {},
          "execution_count": 8
        }
      ]
    },
    {
      "cell_type": "markdown",
      "metadata": {
        "id": "fM-a9MN6U4Cb"
      },
      "source": [
        "Ok that was easy. Now train the multi-class LR and evaluate the performance in both the training and the test sets.\n"
      ]
    },
    {
      "cell_type": "code",
      "execution_count": null,
      "metadata": {
        "scrolled": true,
        "id": "cXfPq4MGU4Cc",
        "colab": {
          "base_uri": "https://localhost:8080/"
        },
        "outputId": "37ac7a4b-7181-4555-d883-bcb7a12256c4"
      },
      "outputs": [
        {
          "output_type": "stream",
          "name": "stdout",
          "text": [
            "Training loss after 0 epochs: 0.472908\n",
            "Training loss after 1 epochs: 0.325461\n",
            "Training loss after 2 epochs: 0.309295\n",
            "Training loss after 3 epochs: 0.299947\n",
            "Training loss after 4 epochs: 0.292792\n"
          ]
        }
      ],
      "source": [
        "my_LR = Multi_LR_extended(dimx=784,nlabels=10,epochs=5,lr=1e-3)\n",
        "my_LR.train(trainloader)"
      ]
    },
    {
      "cell_type": "code",
      "execution_count": null,
      "metadata": {
        "id": "leJTNHuVU4Cd",
        "colab": {
          "base_uri": "https://localhost:8080/",
          "height": 278
        },
        "outputId": "97ed993f-1deb-46c9-b6dc-94986be0e943"
      },
      "outputs": [
        {
          "output_type": "display_data",
          "data": {
            "text/plain": [
              "<Figure size 432x288 with 1 Axes>"
            ],
            "image/png": "[encoded data removed]"
          },
          "metadata": {
            "image/png": {
              "width": 398,
              "height": 261
            },
            "needs_background": "light"
          }
        }
      ],
      "source": [
        "plt.plot(my_LR.loss_during_training,'-b',label='Cross Entropy Loss')\n",
        "plt.xlabel('Iterations')\n",
        "plt.ylabel('Loss')\n",
        "plt.grid()"
      ]
    },
    {
      "cell_type": "markdown",
      "metadata": {
        "id": "xgw0pGVhU4Ce"
      },
      "source": [
        "Evaluate the performance across the entire test dataset, with a for loop using `testloader` and compute errors per mini-batch."
      ]
    },
    {
      "cell_type": "code",
      "execution_count": null,
      "metadata": {
        "scrolled": false,
        "id": "K5-rli8JU4Ce",
        "colab": {
          "base_uri": "https://localhost:8080/"
        },
        "outputId": "70fc9af8-346c-4bf8-d6c2-96027c74a5cd"
      },
      "outputs": [
        {
          "output_type": "stream",
          "name": "stdout",
          "text": [
            "Test Accuracy 0.916899\n"
          ]
        }
      ],
      "source": [
        "loss = 0\n",
        "accuracy = 0\n",
        "\n",
        "# Turn off gradients for validation and testing, saves memory and computations\n",
        "with torch.no_grad():\n",
        "\n",
        "    for images,labels in testloader:\n",
        "\n",
        "        logprobs = my_LR.forward(images.view(images.shape[0], -1)) # We use a log-softmax,so we will get log-probabilities, remember to reshape for the forward pass\n",
        "\n",
        "        top_p, top_class = logprobs.topk(1, dim=1) # most likely class yielded by probs.topk, returns highest k values\n",
        "        # since we just want mose likely class, use probs.topk(1)\n",
        "        equals = (top_class == labels.view(images.shape[0], 1))\n",
        "        accuracy += torch.mean(equals.type(torch.FloatTensor))\n",
        "\n",
        "\n",
        "print(\"Test Accuracy %f\" %(accuracy/len(testloader)))"
      ]
    },
    {
      "cell_type": "markdown",
      "metadata": {
        "id": "FguBZu6AU4Cg"
      },
      "source": [
        "With the probabilities, I can get the most likely class using the `probs.topk` method. This returns the $k$ highest values. Since we just want the most likely class, we can use `probs.topk(1)`. This returns a tuple of the top-$k$ values and the top-$k$ indices. If the highest value is the fifth element, we'll get back 4 as the index.\n",
        "\n",
        "The line\n",
        "```python\n",
        "(top_class == labels.view(images.shape[0], 1))\n",
        "```\n",
        "returns a boolean vector of `True/False` values, indicanting whether `top_class` is equeal to `labels` at every position. Finally, with the line\n",
        "\n",
        "```python\n",
        "equals.type(torch.FloatTensor)\n",
        "```\n",
        "we transform it to real a vector in which `True --> 1.0` and `False --> 0.0`, where we can compute the mean."
      ]
    },
    {
      "cell_type": "markdown",
      "metadata": {
        "id": "LbC1A3LNU4Ch"
      },
      "source": [
        "> **Another thing:** Modify the `Multi_LR_extended` class so it incorporates a method to evaluate the performance in either the train set or the test set. THe goal is the use a single method with the proper inputs. Compute the train/test accuracy using such a method."
      ]
    },
    {
      "cell_type": "code",
      "execution_count": null,
      "metadata": {
        "id": "H_Z2WhZ02Iz-"
      },
      "outputs": [],
      "source": [
        "class Multi_LR_extended_2(Multi_LR):\n",
        "\n",
        "    def __init__(self,dimx,nlabels,epochs=100,lr=0.001):\n",
        "\n",
        "        super().__init__(dimx,nlabels)\n",
        "\n",
        "        self.lr = lr\n",
        "\n",
        "        self.optim = optim.Adam(self.parameters(), self.lr)\n",
        "\n",
        "        self.epochs = epochs\n",
        "\n",
        "        self.criterion = nn.NLLLoss()\n",
        "\n",
        "        # store the loss evolution along training\n",
        "        self.loss_during_training = []\n",
        "\n",
        "    def train(self,trainloader):\n",
        "            # Optimization Loop\n",
        "            for e in range(int(self.epochs)):\n",
        "                # Random data permutation at each epoch\n",
        "                running_loss = 0.\n",
        "                for images, labels in trainloader:\n",
        "                    self.optim.zero_grad()  # RESET GRADIENTS!\n",
        "\n",
        "                    # forward pass\n",
        "                    out = self.forward(images.view(images.shape[0], -1)) # -1 reshapes the image in a vector, 0th column refers to batch size\n",
        "                    loss = self.criterion(out,labels) # compare output with the labels\n",
        "                    running_loss += loss.item() # update the loss\n",
        "\n",
        "                    # backwardpass\n",
        "                    loss.backward() # do backpropagation\n",
        "                    self.optim.step() # updates parameters using computed gradients\n",
        "\n",
        "                self.loss_during_training.append(running_loss/len(trainloader))\n",
        "\n",
        "                if(e % 1 == 0): # Every 10 epochs\n",
        "                    print(\"Training loss after %d epochs: %f\"\n",
        "                          %(e,self.loss_during_training[-1]))\n",
        "\n",
        "    # extend the Multi_LR class to incorporate a method that evaluates the performance in the training set\n",
        "    # evaluate the training performance\n",
        "    def eval_performance(self,trainloader):\n",
        "        loss = 0\n",
        "        accuracy = 0\n",
        "\n",
        "        # Turn off gradients for validation, saves memory and computations\n",
        "        with torch.no_grad():\n",
        "            for images,labels in trainloader:\n",
        "                # pass reshaped images into my_LR.forward\n",
        "                logprobs = my_LR.forward(images.view(images.shape[0], -1)) # We use a log-softmax, so what we get are log-probabilities\n",
        "\n",
        "                top_p, top_class = logprobs.topk(1, dim=1) # logprobs.topk(1) returns most likely class w/ top k values and top k indices\n",
        "                equals = (top_class == labels.view(images.shape[0], 1)) # will tell us if topclass = labels at every position\n",
        "                accuracy += torch.mean(equals.type(torch.FloatTensor)) # compute accuracy = accuracy + the transformed vector in order to take the mean\n",
        "\n",
        "        return accuracy/len(trainloader)"
      ]
    },
    {
      "cell_type": "code",
      "execution_count": null,
      "metadata": {
        "id": "ZqTAbZ0LU4Ci",
        "colab": {
          "base_uri": "https://localhost:8080/"
        },
        "outputId": "3d4df9b6-bf7f-4a69-b683-3a2e8b4423e6"
      },
      "outputs": [
        {
          "output_type": "stream",
          "name": "stdout",
          "text": [
            "Training loss after 0 epochs: 0.470083\n",
            "Training loss after 1 epochs: 0.325687\n",
            "Training loss after 2 epochs: 0.311012\n",
            "Training loss after 3 epochs: 0.300456\n",
            "Training loss after 4 epochs: 0.294901\n"
          ]
        }
      ],
      "source": [
        "my_LR_v2 = Multi_LR_extended_2(dimx=784,nlabels=10,epochs=5,lr=1e-3)\n",
        "my_LR_v2.train(trainloader)"
      ]
    },
    {
      "cell_type": "markdown",
      "source": [
        "**Now we compute train/test accuracy of the extended class with the evaluation method included.**"
      ],
      "metadata": {
        "id": "JiFvuBTd75-e"
      }
    },
    {
      "cell_type": "code",
      "source": [
        "train_accuracy = my_LR_v2.eval_performance(trainloader)\n",
        "test_accuracy = my_LR_v2.eval_performance(testloader)\n",
        "print(\"The training accuracy is\", float(train_accuracy))\n",
        "print(\"and the testing accuracy is\", float(test_accuracy))"
      ],
      "metadata": {
        "colab": {
          "base_uri": "https://localhost:8080/"
        },
        "id": "3njoGTV7Lt0U",
        "outputId": "3dfd7e4e-39c1-49bd-9ba8-0574cd1b3586"
      },
      "execution_count": null,
      "outputs": [
        {
          "output_type": "stream",
          "name": "stdout",
          "text": [
            "The training accuracy is 0.9202924966812134\n",
            "and the testing accuracy is 0.9160031676292419\n"
          ]
        }
      ]
    },
    {
      "cell_type": "markdown",
      "metadata": {
        "id": "6rGLuw24U4Cj"
      },
      "source": [
        "Observe that both values are indeed similar, indicating that the model is not overfitting.  \n",
        "\n",
        "Let's check the values for the weight matrix. For a simpler visualization, we will plot the histogram of all the values in the weight matrix."
      ]
    },
    {
      "cell_type": "markdown",
      "source": [
        "**This is the histogram for the parameters. We can see that over 1000 parameters have a weight value of 0.0. There are around 100 parameters with value -0.2, and so on. These values are for 5 epochs.**"
      ],
      "metadata": {
        "id": "dv6bO_2o8Lv4"
      }
    },
    {
      "cell_type": "code",
      "execution_count": null,
      "metadata": {
        "scrolled": false,
        "id": "kChBhn87U4Cj",
        "colab": {
          "base_uri": "https://localhost:8080/",
          "height": 265
        },
        "outputId": "74f6da46-6f16-4f92-9a6c-810a075ff976"
      },
      "outputs": [
        {
          "output_type": "display_data",
          "data": {
            "text/plain": [
              "<Figure size 432x288 with 1 Axes>"
            ],
            "image/png": "[encoded data removed]"
          },
          "metadata": {
            "image/png": {
              "width": 381,
              "height": 248
            },
            "needs_background": "light"
          }
        }
      ],
      "source": [
        "plt.hist(my_LR_v2.output.weight.detach().numpy().reshape([-1,]),50)\n",
        "plt.grid()"
      ]
    },
    {
      "cell_type": "markdown",
      "metadata": {
        "id": "qYZtV6qLU4Ck"
      },
      "source": [
        "> Now we plot the histogram of the gradients of the loss function w.r.t. every parameter in the model:"
      ]
    },
    {
      "cell_type": "code",
      "execution_count": null,
      "metadata": {
        "id": "UOVQXxCvU4Ck",
        "colab": {
          "base_uri": "https://localhost:8080/",
          "height": 387
        },
        "outputId": "6eef7f72-d758-4d12-dc62-1515686e8db4"
      },
      "outputs": [
        {
          "output_type": "stream",
          "name": "stdout",
          "text": [
            "tensor([[-0.0030, -0.0030, -0.0030,  ..., -0.0030, -0.0030, -0.0030],\n",
            "        [ 0.0133,  0.0133,  0.0133,  ...,  0.0133,  0.0133,  0.0133],\n",
            "        [-0.0305, -0.0305, -0.0305,  ..., -0.0305, -0.0305, -0.0305],\n",
            "        ...,\n",
            "        [-0.0193, -0.0193, -0.0193,  ..., -0.0193, -0.0193, -0.0193],\n",
            "        [-0.0068, -0.0068, -0.0068,  ..., -0.0068, -0.0068, -0.0068],\n",
            "        [-0.0187, -0.0187, -0.0187,  ..., -0.0187, -0.0187, -0.0187]])\n"
          ]
        },
        {
          "output_type": "display_data",
          "data": {
            "text/plain": [
              "<Figure size 432x288 with 1 Axes>"
            ],
            "image/png": "[encoded data removed]"
          },
          "metadata": {
            "image/png": {
              "width": 375,
              "height": 248
            },
            "needs_background": "light"
          }
        }
      ],
      "source": [
        "print(my_LR_v2.output.weight.grad) # gradient of the loss w.r.t. parameters\n",
        "plt.hist(my_LR_v2.output.weight.grad)\n",
        "plt.grid()"
      ]
    },
    {
      "cell_type": "markdown",
      "metadata": {
        "id": "Vzf5W3goU4Cl"
      },
      "source": [
        "**As we can see, most of the gradients are almost zero**"
      ]
    },
    {
      "cell_type": "markdown",
      "metadata": {
        "id": "6NU6uvcdU4Cl"
      },
      "source": [
        "## Train a MLP to do the same job\n",
        "\n",
        "Now I want to train an MLP with three layers, all using rectified linear units (RELU)s as non-linear activations (except the last layer that uses a Softmax). The first layer has 128 hidden units and the second 64 of them."
      ]
    },
    {
      "cell_type": "code",
      "execution_count": null,
      "metadata": {
        "id": "Mp8m6hftU4Cm",
        "colab": {
          "base_uri": "https://localhost:8080/",
          "height": 121
        },
        "outputId": "2c23114a-db56-4f79-eb43-9adeb528077d"
      },
      "outputs": [
        {
          "output_type": "execute_result",
          "data": {
            "text/plain": [
              "<IPython.core.display.Image object>"
            ],
            "text/html": [
              "<img src=\"https://pytorch.org/docs/stable/_images/ReLU.png\" width=\"300\" height=\"100\"/>"
            ]
          },
          "metadata": {},
          "execution_count": 20
        }
      ],
      "source": [
        "Image(url= \"https://pytorch.org/docs/stable/_images/ReLU.png\", width=300, height=100)"
      ]
    },
    {
      "cell_type": "code",
      "execution_count": null,
      "metadata": {
        "id": "lsd3le2ZU4Cp"
      },
      "outputs": [],
      "source": [
        "class MLP(nn.Module):\n",
        "    def __init__(self,dimx,hidden1,hidden2,nlabels):\n",
        "        super().__init__()\n",
        "\n",
        "        self.output1 = nn.Linear(dimx,hidden1)\n",
        "\n",
        "        self.output2 = nn.Linear(hidden1,hidden2)\n",
        "\n",
        "        self.output3 = nn.Linear(hidden2,nlabels)\n",
        "\n",
        "        self.relu = nn.ReLU()\n",
        "\n",
        "        self.logsoftmax = nn.LogSoftmax(dim=1)\n",
        "\n",
        "    def forward(self, x):\n",
        "        x = self.output1(x)\n",
        "        x = self.relu(x)\n",
        "        x = self.output2(x)\n",
        "        x = self.relu(x)\n",
        "        x = self.output3(x)\n",
        "        x = self.logsoftmax(x)\n",
        "        return x"
      ]
    },
    {
      "cell_type": "markdown",
      "metadata": {
        "id": "_N6vLf0vU4Cq"
      },
      "source": [
        "> Now the `MLP_extended` class will incorporate two methods to the former class. One to perform training and one to perform model evaluation. It is just **one line of code** diferent from the previous code for the multi-class LR. Hence, this is because of the structure of the class and code."
      ]
    },
    {
      "cell_type": "code",
      "execution_count": null,
      "metadata": {
        "id": "BcJT1KzNUBHM"
      },
      "outputs": [],
      "source": [
        "class MLP_extended(MLP):\n",
        "\n",
        "    def __init__(self,dimx,hidden1,hidden2,nlabels,epochs=10,lr=0.001):\n",
        "\n",
        "        super().__init__(dimx,hidden1,hidden2,nlabels)  # initialize `MLP`!\n",
        "        # super is the class that is extended\n",
        "\n",
        "        self.lr = lr\n",
        "\n",
        "        self.optim = optim.Adam(self.parameters(), self.lr)\n",
        "\n",
        "        self.epochs = epochs\n",
        "\n",
        "        self.criterion = nn.NLLLoss()\n",
        "\n",
        "        # store the loss evolution along training\n",
        "        self.loss_during_training = []\n",
        "\n",
        "    # incorporate a method to the previous class that performs training\n",
        "    def train(self,trainloader):\n",
        "            # Optimization Loop\n",
        "            for e in range(int(self.epochs)):\n",
        "                running_loss = 0.\n",
        "                for images, labels in trainloader:\n",
        "                    self.optim.zero_grad()  # RESET GRADIENTS\n",
        "\n",
        "                    # forward pass\n",
        "                    out = self.forward(images.view(images.shape[0], -1)) # -1 reshapes the image in a vector, 0th column refers to batch size\n",
        "                    loss = self.criterion(out,labels) # compare output with the labels\n",
        "                    running_loss += loss.item() # update the loss\n",
        "\n",
        "                    # backwardpass\n",
        "                    loss.backward() # do backpropagation\n",
        "                    self.optim.step() #update parameters\n",
        "\n",
        "                self.loss_during_training.append(running_loss/len(trainloader))\n",
        "\n",
        "                if(e % 1 == 0): # Every 10 epochs\n",
        "                    print(\"Training loss after %d epochs: %f\"\n",
        "                          %(e,self.loss_during_training[-1]))\n",
        "\n",
        "    def eval_performance(self,trainloader):\n",
        "        loss = 0\n",
        "        accuracy = 0\n",
        "\n",
        "        # Turn off gradients for validation, saves memory and computations\n",
        "        with torch.no_grad():\n",
        "            for images,labels in trainloader:\n",
        "                logprobs = my_LR.forward(images.view(images.shape[0], -1)) # We use a log-softmax again for log probabilities\n",
        "\n",
        "                top_p, top_class = logprobs.topk(1, dim=1)\n",
        "                equals = (top_class == labels.view(images.shape[0], 1))\n",
        "                accuracy += torch.mean(equals.type(torch.FloatTensor))\n",
        "\n",
        "        return accuracy/len(trainloader)"
      ]
    },
    {
      "cell_type": "markdown",
      "metadata": {
        "id": "-NXDI9zpU4Cr"
      },
      "source": [
        "Train the model for 10 epochs and compute the train/test performance. How does it compare with the Logistic Regressor?"
      ]
    },
    {
      "cell_type": "code",
      "source": [
        "my_MLP = MLP_extended(dimx=784,hidden1=128, hidden2=64, nlabels=10,epochs=10,lr=1e-3)\n",
        "my_MLP.train(trainloader)"
      ],
      "metadata": {
        "colab": {
          "base_uri": "https://localhost:8080/"
        },
        "id": "S2RbwGVXnW71",
        "outputId": "0288d7b1-3204-44f1-b839-38faacea614b"
      },
      "execution_count": null,
      "outputs": [
        {
          "output_type": "stream",
          "name": "stdout",
          "text": [
            "Training loss after 0 epochs: 0.391870\n",
            "Training loss after 1 epochs: 0.185925\n",
            "Training loss after 2 epochs: 0.136983\n",
            "Training loss after 3 epochs: 0.108768\n",
            "Training loss after 4 epochs: 0.094135\n",
            "Training loss after 5 epochs: 0.079973\n",
            "Training loss after 6 epochs: 0.072847\n",
            "Training loss after 7 epochs: 0.064914\n",
            "Training loss after 8 epochs: 0.057942\n",
            "Training loss after 9 epochs: 0.055817\n"
          ]
        }
      ]
    },
    {
      "cell_type": "code",
      "source": [
        "train_accuracy = my_MLP.eval_performance(trainloader)\n",
        "test_accuracy = my_MLP.eval_performance(testloader)\n",
        "print(\"The training accuracy for the extended MLP class is\", float(train_accuracy))\n",
        "print(\"and the testing accuracy is\", float(test_accuracy))"
      ],
      "metadata": {
        "colab": {
          "base_uri": "https://localhost:8080/"
        },
        "id": "3ZPtzvdFodbO",
        "outputId": "8acd6baa-b268-4768-fda6-5f70039e7931"
      },
      "execution_count": null,
      "outputs": [
        {
          "output_type": "stream",
          "name": "stdout",
          "text": [
            "The training accuracy for the extended MLP class is 0.9202425479888916\n",
            "and the testing accuracy is 0.915704607963562\n"
          ]
        }
      ]
    },
    {
      "cell_type": "markdown",
      "source": [
        "**Compared to the logistic regressor whose training accuracy was 92.27% and testing accuracy was 91.82%, our MLP comes very close with a training accuracy of 92.27% and performance accuracy on the test set of 91.85%. This may be wrong, but from my results, the two perform very similarly (for 10 epochs).**"
      ],
      "metadata": {
        "id": "R6_cIxdQ97Xo"
      }
    },
    {
      "cell_type": "markdown",
      "metadata": {
        "id": "qCbU8P6BU4Cs"
      },
      "source": [
        "Wow! Performace is almost perfect with a naive Neural Network!!"
      ]
    },
    {
      "cell_type": "markdown",
      "metadata": {
        "id": "ehhSHxY-U4Ct"
      },
      "source": [
        "> Now, visualize the activations at the ouput of the first layer for a minibatch test images. This will help to identify possible unused hidden units (allways activated/deactivated) and correlated hidden units, e.g. redundant units."
      ]
    },
    {
      "cell_type": "code",
      "source": [
        "x_test,y_test = next(iter(testloader))\n",
        "print(x_test.shape)\n",
        "print(y_test.shape)"
      ],
      "metadata": {
        "colab": {
          "base_uri": "https://localhost:8080/"
        },
        "id": "frtzsbSe71jB",
        "outputId": "91bc492e-e4b5-44a1-cdaf-2eed0a46877e"
      },
      "execution_count": null,
      "outputs": [
        {
          "output_type": "stream",
          "name": "stdout",
          "text": [
            "torch.Size([64, 1, 28, 28])\n",
            "torch.Size([64])\n"
          ]
        }
      ]
    },
    {
      "cell_type": "code",
      "execution_count": null,
      "metadata": {
        "id": "lGnUQeSSU4Ct",
        "colab": {
          "base_uri": "https://localhost:8080/",
          "height": 277
        },
        "outputId": "26009111-5daa-4507-cbe3-a40f6ada01af"
      },
      "outputs": [
        {
          "output_type": "execute_result",
          "data": {
            "text/plain": [
              "<matplotlib.colorbar.Colorbar at 0x7f5dbb2e7d90>"
            ]
          },
          "metadata": {},
          "execution_count": 28
        },
        {
          "output_type": "display_data",
          "data": {
            "text/plain": [
              "<Figure size 576x288 with 2 Axes>"
            ],
            "image/png": "[encoded data removed]"
          },
          "metadata": {
            "image/png": {
              "width": 454,
              "height": 243
            },
            "needs_background": "light"
          }
        }
      ],
      "source": [
        "# load a test minibatch\n",
        "\n",
        "x_test,y_test = next(iter(testloader))\n",
        "\n",
        "# must be the output at the first layer here\n",
        "activations = my_MLP.relu(my_MLP.output1(x_test.view(x_test.shape[0], -1))).detach().numpy()\n",
        "\n",
        "plt.matshow(activations)\n",
        "plt.colorbar()"
      ]
    },
    {
      "cell_type": "markdown",
      "source": [
        "There are definitely some unused hidden units in the hidden layer. For 64 images and about 128 hidden layers, we see that a lot of those layers and many units of several hidden layers are also unused with values of 0. Plot the variance of the hidden units across the test mini-batch to better visualize these unactive hidden units."
      ],
      "metadata": {
        "id": "CASmrXXb_PAi"
      }
    },
    {
      "cell_type": "code",
      "execution_count": null,
      "metadata": {
        "id": "UKo_s7okU4Cu",
        "colab": {
          "base_uri": "https://localhost:8080/",
          "height": 295
        },
        "outputId": "37462037-0ad4-4b40-a31a-ae94cc112506"
      },
      "outputs": [
        {
          "output_type": "stream",
          "name": "stdout",
          "text": [
            "There are 45 hidden units that are unactive\n"
          ]
        },
        {
          "output_type": "display_data",
          "data": {
            "text/plain": [
              "<Figure size 432x288 with 1 Axes>"
            ],
            "image/png": "[encoded data removed]"
          },
          "metadata": {
            "image/png": {
              "width": 382,
              "height": 261
            },
            "needs_background": "light"
          }
        }
      ],
      "source": [
        "plt.plot(np.var(activations,0))\n",
        "plt.grid()\n",
        "plt.xlabel('Hidden Unit')\n",
        "plt.ylabel('Activation Variance')\n",
        "\n",
        "print(\"There are {0:d} hidden units that are unactive\".format(np.sum(np.var(activations,0)<=0.1)))"
      ]
    },
    {
      "cell_type": "markdown",
      "metadata": {
        "id": "NrIBBMPdU4Cv"
      },
      "source": [
        "> **Exercise**: Now, retrain the model reducing accordingly the dimension of the first hidden layer. For that model, I will repeat the analysis of the activations of both the first and the second layer.\n",
        "\n",
        "> In general, unsued activations are prominent in the first layer compared to the second one. This is in general the case for any NN, as the **loss function is more sensitive to parameter variations in the last >layers**, and hence gradients are higher in magnitude. On the contrary, the **loss function is less senstive to parameter variations in the first layers** and hence only very relevant parameters are trained (they influence more in the loss function), while many others vary very little w.r.t. initialization."
      ]
    },
    {
      "cell_type": "code",
      "source": [
        "# redefine the network\n",
        "\n",
        "class MLP(nn.Module):\n",
        "    def __init__(self,dimx,hidden1,hidden2,nlabels):\n",
        "        super().__init__()\n",
        "\n",
        "        self.output1 = nn.Linear(dimx,hidden1)\n",
        "\n",
        "        self.output2 = nn.Linear(hidden1,hidden2)\n",
        "\n",
        "        self.output3 = nn.Linear(hidden2,nlabels)\n",
        "\n",
        "        self.relu = nn.ReLU()\n",
        "\n",
        "        self.logsoftmax = nn.LogSoftmax(dim=1)\n",
        "\n",
        "    def forward(self, x):\n",
        "        # Pass the input tensor through each of our operations\n",
        "        x = self.output1(x)\n",
        "        x = self.relu(x)\n",
        "        x = self.output2(x)\n",
        "        x = self.relu(x)\n",
        "        x = self.output3(x)\n",
        "        x = self.logsoftmax(x)\n",
        "        return x"
      ],
      "metadata": {
        "id": "2Pp-iVhhBXho"
      },
      "execution_count": null,
      "outputs": []
    },
    {
      "cell_type": "code",
      "execution_count": null,
      "metadata": {
        "id": "fJ5wofZbAu9f"
      },
      "outputs": [],
      "source": [
        "class MLP_reduced(MLP):\n",
        "\n",
        "    def __init__(self,dimx,hidden1,hidden2,nlabels,epochs=10,lr=0.001):\n",
        "\n",
        "        super().__init__(dimx,hidden1,hidden2,nlabels)\n",
        "\n",
        "        self.lr = lr\n",
        "\n",
        "        self.optim = optim.Adam(self.parameters(), self.lr)\n",
        "\n",
        "        self.epochs = epochs\n",
        "\n",
        "        self.criterion = nn.NLLLoss()\n",
        "\n",
        "        self.loss_during_training = []\n",
        "\n",
        "    def train(self,trainloader):\n",
        "            # Optimization Loop\n",
        "            for e in range(int(self.epochs)):\n",
        "                running_loss = 0.\n",
        "                for images, labels in trainloader:\n",
        "                    self.optim.zero_grad()  # reset gradients\n",
        "\n",
        "                    # forward pass\n",
        "                    out = self.forward(images.view(images.shape[0], -1))\n",
        "                    loss = self.criterion(out,labels) # compare output with the labels\n",
        "                    running_loss += loss.item() # update the loss\n",
        "\n",
        "                    # backward pass\n",
        "                    loss.backward() # do backpropagation\n",
        "                    self.optim.step() #update parameters\n",
        "\n",
        "                self.loss_during_training.append(running_loss/len(trainloader))\n",
        "\n",
        "                if(e % 1 == 0): # Every 10 epochs\n",
        "                    print(\"Training loss after %d epochs: %f\"\n",
        "                          %(e,self.loss_during_training[-1]))\n",
        "\n",
        "    def eval_performance(self,trainloader):\n",
        "        loss = 0\n",
        "        accuracy = 0\n",
        "\n",
        "        with torch.no_grad():\n",
        "            for images,labels in trainloader:\n",
        "                logprobs = my_LR.forward(images.view(images.shape[0], -1))\n",
        "\n",
        "                top_p, top_class = logprobs.topk(1, dim=1)\n",
        "                equals = (top_class == labels.view(images.shape[0], 1))\n",
        "                accuracy += torch.mean(equals.type(torch.FloatTensor))\n",
        "\n",
        "        return accuracy/len(trainloader)"
      ]
    },
    {
      "cell_type": "code",
      "execution_count": null,
      "metadata": {
        "id": "hPtocwO1U4Cv",
        "colab": {
          "base_uri": "https://localhost:8080/"
        },
        "outputId": "7266b91d-cef6-4d32-ac0d-b8ade05c1ce6"
      },
      "outputs": [
        {
          "output_type": "stream",
          "name": "stdout",
          "text": [
            "Training loss after 0 epochs: 0.047869\n",
            "Training loss after 1 epochs: 0.046501\n",
            "Training loss after 2 epochs: 0.045718\n",
            "Training loss after 3 epochs: 0.037904\n",
            "Training loss after 4 epochs: 0.035627\n",
            "Training loss after 5 epochs: 0.034041\n",
            "Training loss after 6 epochs: 0.031609\n",
            "Training loss after 7 epochs: 0.031994\n",
            "Training loss after 8 epochs: 0.029248\n",
            "Training loss after 9 epochs: 0.025787\n"
          ]
        }
      ],
      "source": [
        "MLP_reduced = MLP_reduced(dimx=784,hidden1=64, hidden2=28, nlabels=10,epochs=10,lr=1e-3)\n",
        "my_MLP.train(trainloader)"
      ]
    },
    {
      "cell_type": "code",
      "source": [
        "x_test2,y_test2 = next(iter(testloader))"
      ],
      "metadata": {
        "id": "Mvl0CcW0CvV9"
      },
      "execution_count": null,
      "outputs": []
    },
    {
      "cell_type": "code",
      "execution_count": null,
      "metadata": {
        "id": "NNMBbTmDU4Cw",
        "colab": {
          "base_uri": "https://localhost:8080/",
          "height": 574
        },
        "outputId": "b4b778d0-fe32-46cd-8be2-39c3a4e235a2"
      },
      "outputs": [
        {
          "output_type": "stream",
          "name": "stdout",
          "text": [
            "torch.Size([64, 1, 28, 28])\n",
            "In the first layer, there are 60 hidden units that are unactive\n",
            "In the second layer, there are 23 hidden units that are unactive\n"
          ]
        },
        {
          "output_type": "display_data",
          "data": {
            "text/plain": [
              "<Figure size 1152x576 with 4 Axes>"
            ],
            "image/png": "[encoded data removed]"
          },
          "metadata": {
            "image/png": {
              "width": 936,
              "height": 505
            },
            "needs_background": "light"
          }
        }
      ],
      "source": [
        "activations_1 = MLP_reduced.relu(MLP_reduced.output1(x_test2.view(x_test2.shape[0], -1))).detach().numpy()\n",
        "\n",
        "# Then, we evaluate the output of the first layer of the network for that mini-batch\n",
        "print(x_test2.shape)\n",
        "activations_2 = MLP_reduced.relu(MLP_reduced.output2(x_test2.view(-1, x_test2.shape[0]))).detach().numpy()\n",
        "\n",
        "fig, ax = plt.subplots(nrows=2, ncols=2,figsize=(16, 8))\n",
        "im = ax[0,0].matshow(activations_1)\n",
        "ax[0,0].set_title('Activations in the first layer\\n')\n",
        "\n",
        "ax[0,1].matshow(activations_2)\n",
        "ax[0,1].set_title('Activations in the second layer\\n')\n",
        "\n",
        "ax[1,0].plot(np.var(activations_1,0))\n",
        "ax[1,0].set_title('Activation variance in the first layer\\n')\n",
        "ax[1,0].grid()\n",
        "\n",
        "ax[1,1].plot(np.var(activations_2,0))\n",
        "ax[1,1].set_title('Activation variance in the second layer\\n')\n",
        "ax[1,1].grid()\n",
        "\n",
        "print(\"In the first layer, there are {0:d} hidden units that are unactive\".format(np.sum(np.var(activations_1,0)<=0.1)))\n",
        "\n",
        "print(\"In the second layer, there are {0:d} hidden units that are unactive\".format(np.sum(np.var(activations_2,0)<=0.1)))"
      ]
    },
    {
      "cell_type": "markdown",
      "source": [
        "Interestingly enough, there are more hidden units that are unactive (59 vs 41) when we reduce the size of the first hidden layer from 128 to 64. In the second hidden layer, there are 25 hidden units."
      ],
      "metadata": {
        "id": "sZ_mjqEjE754"
      }
    },
    {
      "cell_type": "markdown",
      "metadata": {
        "id": "84nRgJ65U4Cw"
      },
      "source": [
        "### Saving and restoring the model\n",
        "\n",
        "It's impractical to train a network every time you need to use it. Instead, I can save trained networks then load them later to train more or use them for predictions.\n",
        "\n",
        "The parameters for PyTorch networks are stored in a model's `state_dict`. We can see the state dict contains the weight and bias matrices for each of our layers."
      ]
    },
    {
      "cell_type": "code",
      "execution_count": null,
      "metadata": {
        "id": "gI3RXj1QU4Cx",
        "colab": {
          "base_uri": "https://localhost:8080/"
        },
        "outputId": "fba89cbb-26da-4818-e81a-bcab2b54c0f5"
      },
      "outputs": [
        {
          "output_type": "stream",
          "name": "stdout",
          "text": [
            "Our model: \n",
            "\n",
            " MLP_extended(\n",
            "  (output1): Linear(in_features=784, out_features=128, bias=True)\n",
            "  (output2): Linear(in_features=128, out_features=64, bias=True)\n",
            "  (output3): Linear(in_features=64, out_features=10, bias=True)\n",
            "  (relu): ReLU()\n",
            "  (logsoftmax): LogSoftmax(dim=1)\n",
            "  (criterion): NLLLoss()\n",
            ") \n",
            "\n",
            "The state dict keys: \n",
            "\n",
            " odict_keys(['output1.weight', 'output1.bias', 'output2.weight', 'output2.bias', 'output3.weight', 'output3.bias'])\n"
          ]
        }
      ],
      "source": [
        "print(\"Our model: \\n\\n\", my_MLP, '\\n')\n",
        "print(\"The state dict keys: \\n\\n\", my_MLP.state_dict().keys())"
      ]
    },
    {
      "cell_type": "markdown",
      "metadata": {
        "id": "OSTfAAPnU4Cx"
      },
      "source": [
        "The simplest thing to do is simply save the state dict with `torch.save`. For example, we can save it to a file `'checkpoint.pth'`."
      ]
    },
    {
      "cell_type": "code",
      "execution_count": null,
      "metadata": {
        "id": "tBvmCdnRU4Cy"
      },
      "outputs": [],
      "source": [
        "torch.save(my_MLP.state_dict(), 'checkpoint.pth')"
      ]
    },
    {
      "cell_type": "markdown",
      "metadata": {
        "id": "cHqawaETU4Cy"
      },
      "source": [
        "Then we can load the state dict with `torch.load`."
      ]
    },
    {
      "cell_type": "code",
      "execution_count": null,
      "metadata": {
        "id": "RVtH67h3U4Cz",
        "colab": {
          "base_uri": "https://localhost:8080/"
        },
        "outputId": "bbbe8938-2599-42e2-d1ba-eb511a8018f4"
      },
      "outputs": [
        {
          "output_type": "stream",
          "name": "stdout",
          "text": [
            "odict_keys(['output1.weight', 'output1.bias', 'output2.weight', 'output2.bias', 'output3.weight', 'output3.bias'])\n"
          ]
        }
      ],
      "source": [
        "state_dict = torch.load('checkpoint.pth')\n",
        "print(state_dict.keys())"
      ]
    },
    {
      "cell_type": "markdown",
      "metadata": {
        "id": "vUMmoUO8U4Cz"
      },
      "source": [
        "And to load the state dict in to the network, do `my_MLP.load_state_dict(state_dict)`."
      ]
    },
    {
      "cell_type": "code",
      "execution_count": null,
      "metadata": {
        "id": "h7zNYAIgU4C0",
        "colab": {
          "base_uri": "https://localhost:8080/"
        },
        "outputId": "df328bb2-3cb6-4fc7-a29d-59f60e1e7d3e"
      },
      "outputs": [
        {
          "output_type": "execute_result",
          "data": {
            "text/plain": [
              "<All keys matched successfully>"
            ]
          },
          "metadata": {},
          "execution_count": 38
        }
      ],
      "source": [
        "my_MLP.load_state_dict(state_dict)"
      ]
    },
    {
      "cell_type": "markdown",
      "metadata": {
        "id": "kap4Jg1xU4C0"
      },
      "source": [
        "**Important:** `load_state_dict` will raise an error if the architecture of the network is different from the one saved in the pth file. For example, if we define the following model."
      ]
    },
    {
      "cell_type": "code",
      "execution_count": null,
      "metadata": {
        "id": "J8SZm96FU4C1"
      },
      "outputs": [],
      "source": [
        "my_MLP2 = MLP_extended(dimx=784,hidden1=256,hidden2=128,nlabels=10,epochs=10,lr=1e-3)"
      ]
    },
    {
      "cell_type": "markdown",
      "metadata": {
        "id": "csptlGK6U4C1"
      },
      "source": [
        "which differs from `my_MLP` in the dimension of the hidden layers, we will get an error if we call the method  `load_state_dict(state_dict)`.\n",
        "\n",
        "> I will check that I get an error when trying to initialize my_MLP2 from `state_dict` using the method `load_state_dict`"
      ]
    },
    {
      "cell_type": "code",
      "execution_count": null,
      "metadata": {
        "id": "bSldWPqGU4C2",
        "colab": {
          "base_uri": "https://localhost:8080/",
          "height": 373
        },
        "outputId": "e78f63b3-b3c3-41b3-cca3-cd0cb7265953"
      },
      "outputs": [
        {
          "output_type": "error",
          "ename": "RuntimeError",
          "evalue": "ignored",
          "traceback": [
            "\u001b[0;31m---------------------------------------------------------------------------\u001b[0m",
            "\u001b[0;31mRuntimeError\u001b[0m                              Traceback (most recent call last)",
            "\u001b[0;32m<ipython-input-40-35e3a694eaab>\u001b[0m in \u001b[0;36m<module>\u001b[0;34m()\u001b[0m\n\u001b[0;32m----> 1\u001b[0;31m \u001b[0mmy_MLP2\u001b[0m\u001b[0;34m.\u001b[0m\u001b[0mload_state_dict\u001b[0m\u001b[0;34m(\u001b[0m\u001b[0mstate_dict\u001b[0m\u001b[0;34m)\u001b[0m\u001b[0;34m\u001b[0m\u001b[0;34m\u001b[0m\u001b[0m\n\u001b[0m",
            "\u001b[0;32m/usr/local/lib/python3.7/dist-packages/torch/nn/modules/module.py\u001b[0m in \u001b[0;36mload_state_dict\u001b[0;34m(self, state_dict, strict)\u001b[0m\n\u001b[1;32m   1496\u001b[0m         \u001b[0;32mif\u001b[0m \u001b[0mlen\u001b[0m\u001b[0;34m(\u001b[0m\u001b[0merror_msgs\u001b[0m\u001b[0;34m)\u001b[0m \u001b[0;34m>\u001b[0m \u001b[0;36m0\u001b[0m\u001b[0;34m:\u001b[0m\u001b[0;34m\u001b[0m\u001b[0;34m\u001b[0m\u001b[0m\n\u001b[1;32m   1497\u001b[0m             raise RuntimeError('Error(s) in loading state_dict for {}:\\n\\t{}'.format(\n\u001b[0;32m-> 1498\u001b[0;31m                                self.__class__.__name__, \"\\n\\t\".join(error_msgs)))\n\u001b[0m\u001b[1;32m   1499\u001b[0m         \u001b[0;32mreturn\u001b[0m \u001b[0m_IncompatibleKeys\u001b[0m\u001b[0;34m(\u001b[0m\u001b[0mmissing_keys\u001b[0m\u001b[0;34m,\u001b[0m \u001b[0munexpected_keys\u001b[0m\u001b[0;34m)\u001b[0m\u001b[0;34m\u001b[0m\u001b[0;34m\u001b[0m\u001b[0m\n\u001b[1;32m   1500\u001b[0m \u001b[0;34m\u001b[0m\u001b[0m\n",
            "\u001b[0;31mRuntimeError\u001b[0m: Error(s) in loading state_dict for MLP_extended:\n\tsize mismatch for output1.weight: copying a param with shape torch.Size([128, 784]) from checkpoint, the shape in current model is torch.Size([256, 784]).\n\tsize mismatch for output1.bias: copying a param with shape torch.Size([128]) from checkpoint, the shape in current model is torch.Size([256]).\n\tsize mismatch for output2.weight: copying a param with shape torch.Size([64, 128]) from checkpoint, the shape in current model is torch.Size([128, 256]).\n\tsize mismatch for output2.bias: copying a param with shape torch.Size([64]) from checkpoint, the shape in current model is torch.Size([128]).\n\tsize mismatch for output3.weight: copying a param with shape torch.Size([10, 64]) from checkpoint, the shape in current model is torch.Size([10, 128])."
          ]
        }
      ],
      "source": [
        "my_MLP2.load_state_dict(state_dict)"
      ]
    }
  ],
  "metadata": {
    "kernelspec": {
      "display_name": "Python 3 (ipykernel)",
      "language": "python",
      "name": "python3"
    },
    "language_info": {
      "codemirror_mode": {
        "name": "ipython",
        "version": 3
      },
      "file_extension": ".py",
      "mimetype": "text/x-python",
      "name": "python",
      "nbconvert_exporter": "python",
      "pygments_lexer": "ipython3",
      "version": "3.8.12"
    },
    "colab": {
      "provenance": []
    },
    "widgets": {
      "application/vnd.jupyter.widget-state+json": {
        "00504ca1bc204b9cb7e0d54baacf996a": {
          "model_module": "@jupyter-widgets/controls",
          "model_name": "HBoxModel",
          "model_module_version": "1.5.0",
          "state": {
            "_dom_classes": [],
            "_model_module": "@jupyter-widgets/controls",
            "_model_module_version": "1.5.0",
            "_model_name": "HBoxModel",
            "_view_count": null,
            "_view_module": "@jupyter-widgets/controls",
            "_view_module_version": "1.5.0",
            "_view_name": "HBoxView",
            "box_style": "",
            "children": [
              "IPY_MODEL_5fe6371db09d410883dcd6dd2f92aad7",
              "IPY_MODEL_05c99df9110146c59c8c0dfce45bf42f",
              "IPY_MODEL_7a0a6146d866434b80730ef4707aaff2"
            ],
            "layout": "IPY_MODEL_7e45741c856147cb9a34ae33bf0fe5a3"
          }
        },
        "5fe6371db09d410883dcd6dd2f92aad7": {
          "model_module": "@jupyter-widgets/controls",
          "model_name": "HTMLModel",
          "model_module_version": "1.5.0",
          "state": {
            "_dom_classes": [],
            "_model_module": "@jupyter-widgets/controls",
            "_model_module_version": "1.5.0",
            "_model_name": "HTMLModel",
            "_view_count": null,
            "_view_module": "@jupyter-widgets/controls",
            "_view_module_version": "1.5.0",
            "_view_name": "HTMLView",
            "description": "",
            "description_tooltip": null,
            "layout": "IPY_MODEL_7672c41ecdcc49ed97862196965537a6",
            "placeholder": "​",
            "style": "IPY_MODEL_4344c913a9dd49a2bface9e6abcc867e",
            "value": ""
          }
        },
        "05c99df9110146c59c8c0dfce45bf42f": {
          "model_module": "@jupyter-widgets/controls",
          "model_name": "FloatProgressModel",
          "model_module_version": "1.5.0",
          "state": {
            "_dom_classes": [],
            "_model_module": "@jupyter-widgets/controls",
            "_model_module_version": "1.5.0",
            "_model_name": "FloatProgressModel",
            "_view_count": null,
            "_view_module": "@jupyter-widgets/controls",
            "_view_module_version": "1.5.0",
            "_view_name": "ProgressView",
            "bar_style": "success",
            "description": "",
            "description_tooltip": null,
            "layout": "IPY_MODEL_46bf313ada5e49829d9d542ec7991c64",
            "max": 9912422,
            "min": 0,
            "orientation": "horizontal",
            "style": "IPY_MODEL_52a7c5d21a3947fab61b9f8a78d03e1b",
            "value": 9912422
          }
        },
        "7a0a6146d866434b80730ef4707aaff2": {
          "model_module": "@jupyter-widgets/controls",
          "model_name": "HTMLModel",
          "model_module_version": "1.5.0",
          "state": {
            "_dom_classes": [],
            "_model_module": "@jupyter-widgets/controls",
            "_model_module_version": "1.5.0",
            "_model_name": "HTMLModel",
            "_view_count": null,
            "_view_module": "@jupyter-widgets/controls",
            "_view_module_version": "1.5.0",
            "_view_name": "HTMLView",
            "description": "",
            "description_tooltip": null,
            "layout": "IPY_MODEL_df6de9fa2abf44dd8e85b7390db5d007",
            "placeholder": "​",
            "style": "IPY_MODEL_706ced6bb7ca4d269436a0a22892347e",
            "value": " 9913344/? [00:00&lt;00:00, 17346333.51it/s]"
          }
        },
        "7e45741c856147cb9a34ae33bf0fe5a3": {
          "model_module": "@jupyter-widgets/base",
          "model_name": "LayoutModel",
          "model_module_version": "1.2.0",
          "state": {
            "_model_module": "@jupyter-widgets/base",
            "_model_module_version": "1.2.0",
            "_model_name": "LayoutModel",
            "_view_count": null,
            "_view_module": "@jupyter-widgets/base",
            "_view_module_version": "1.2.0",
            "_view_name": "LayoutView",
            "align_content": null,
            "align_items": null,
            "align_self": null,
            "border": null,
            "bottom": null,
            "display": null,
            "flex": null,
            "flex_flow": null,
            "grid_area": null,
            "grid_auto_columns": null,
            "grid_auto_flow": null,
            "grid_auto_rows": null,
            "grid_column": null,
            "grid_gap": null,
            "grid_row": null,
            "grid_template_areas": null,
            "grid_template_columns": null,
            "grid_template_rows": null,
            "height": null,
            "justify_content": null,
            "justify_items": null,
            "left": null,
            "margin": null,
            "max_height": null,
            "max_width": null,
            "min_height": null,
            "min_width": null,
            "object_fit": null,
            "object_position": null,
            "order": null,
            "overflow": null,
            "overflow_x": null,
            "overflow_y": null,
            "padding": null,
            "right": null,
            "top": null,
            "visibility": null,
            "width": null
          }
        },
        "7672c41ecdcc49ed97862196965537a6": {
          "model_module": "@jupyter-widgets/base",
          "model_name": "LayoutModel",
          "model_module_version": "1.2.0",
          "state": {
            "_model_module": "@jupyter-widgets/base",
            "_model_module_version": "1.2.0",
            "_model_name": "LayoutModel",
            "_view_count": null,
            "_view_module": "@jupyter-widgets/base",
            "_view_module_version": "1.2.0",
            "_view_name": "LayoutView",
            "align_content": null,
            "align_items": null,
            "align_self": null,
            "border": null,
            "bottom": null,
            "display": null,
            "flex": null,
            "flex_flow": null,
            "grid_area": null,
            "grid_auto_columns": null,
            "grid_auto_flow": null,
            "grid_auto_rows": null,
            "grid_column": null,
            "grid_gap": null,
            "grid_row": null,
            "grid_template_areas": null,
            "grid_template_columns": null,
            "grid_template_rows": null,
            "height": null,
            "justify_content": null,
            "justify_items": null,
            "left": null,
            "margin": null,
            "max_height": null,
            "max_width": null,
            "min_height": null,
            "min_width": null,
            "object_fit": null,
            "object_position": null,
            "order": null,
            "overflow": null,
            "overflow_x": null,
            "overflow_y": null,
            "padding": null,
            "right": null,
            "top": null,
            "visibility": null,
            "width": null
          }
        },
        "4344c913a9dd49a2bface9e6abcc867e": {
          "model_module": "@jupyter-widgets/controls",
          "model_name": "DescriptionStyleModel",
          "model_module_version": "1.5.0",
          "state": {
            "_model_module": "@jupyter-widgets/controls",
            "_model_module_version": "1.5.0",
            "_model_name": "DescriptionStyleModel",
            "_view_count": null,
            "_view_module": "@jupyter-widgets/base",
            "_view_module_version": "1.2.0",
            "_view_name": "StyleView",
            "description_width": ""
          }
        },
        "46bf313ada5e49829d9d542ec7991c64": {
          "model_module": "@jupyter-widgets/base",
          "model_name": "LayoutModel",
          "model_module_version": "1.2.0",
          "state": {
            "_model_module": "@jupyter-widgets/base",
            "_model_module_version": "1.2.0",
            "_model_name": "LayoutModel",
            "_view_count": null,
            "_view_module": "@jupyter-widgets/base",
            "_view_module_version": "1.2.0",
            "_view_name": "LayoutView",
            "align_content": null,
            "align_items": null,
            "align_self": null,
            "border": null,
            "bottom": null,
            "display": null,
            "flex": null,
            "flex_flow": null,
            "grid_area": null,
            "grid_auto_columns": null,
            "grid_auto_flow": null,
            "grid_auto_rows": null,
            "grid_column": null,
            "grid_gap": null,
            "grid_row": null,
            "grid_template_areas": null,
            "grid_template_columns": null,
            "grid_template_rows": null,
            "height": null,
            "justify_content": null,
            "justify_items": null,
            "left": null,
            "margin": null,
            "max_height": null,
            "max_width": null,
            "min_height": null,
            "min_width": null,
            "object_fit": null,
            "object_position": null,
            "order": null,
            "overflow": null,
            "overflow_x": null,
            "overflow_y": null,
            "padding": null,
            "right": null,
            "top": null,
            "visibility": null,
            "width": null
          }
        },
        "52a7c5d21a3947fab61b9f8a78d03e1b": {
          "model_module": "@jupyter-widgets/controls",
          "model_name": "ProgressStyleModel",
          "model_module_version": "1.5.0",
          "state": {
            "_model_module": "@jupyter-widgets/controls",
            "_model_module_version": "1.5.0",
            "_model_name": "ProgressStyleModel",
            "_view_count": null,
            "_view_module": "@jupyter-widgets/base",
            "_view_module_version": "1.2.0",
            "_view_name": "StyleView",
            "bar_color": null,
            "description_width": ""
          }
        },
        "df6de9fa2abf44dd8e85b7390db5d007": {
          "model_module": "@jupyter-widgets/base",
          "model_name": "LayoutModel",
          "model_module_version": "1.2.0",
          "state": {
            "_model_module": "@jupyter-widgets/base",
            "_model_module_version": "1.2.0",
            "_model_name": "LayoutModel",
            "_view_count": null,
            "_view_module": "@jupyter-widgets/base",
            "_view_module_version": "1.2.0",
            "_view_name": "LayoutView",
            "align_content": null,
            "align_items": null,
            "align_self": null,
            "border": null,
            "bottom": null,
            "display": null,
            "flex": null,
            "flex_flow": null,
            "grid_area": null,
            "grid_auto_columns": null,
            "grid_auto_flow": null,
            "grid_auto_rows": null,
            "grid_column": null,
            "grid_gap": null,
            "grid_row": null,
            "grid_template_areas": null,
            "grid_template_columns": null,
            "grid_template_rows": null,
            "height": null,
            "justify_content": null,
            "justify_items": null,
            "left": null,
            "margin": null,
            "max_height": null,
            "max_width": null,
            "min_height": null,
            "min_width": null,
            "object_fit": null,
            "object_position": null,
            "order": null,
            "overflow": null,
            "overflow_x": null,
            "overflow_y": null,
            "padding": null,
            "right": null,
            "top": null,
            "visibility": null,
            "width": null
          }
        },
        "706ced6bb7ca4d269436a0a22892347e": {
          "model_module": "@jupyter-widgets/controls",
          "model_name": "DescriptionStyleModel",
          "model_module_version": "1.5.0",
          "state": {
            "_model_module": "@jupyter-widgets/controls",
            "_model_module_version": "1.5.0",
            "_model_name": "DescriptionStyleModel",
            "_view_count": null,
            "_view_module": "@jupyter-widgets/base",
            "_view_module_version": "1.2.0",
            "_view_name": "StyleView",
            "description_width": ""
          }
        },
        "6d8d68e574b8433aa12613fddc95ce91": {
          "model_module": "@jupyter-widgets/controls",
          "model_name": "HBoxModel",
          "model_module_version": "1.5.0",
          "state": {
            "_dom_classes": [],
            "_model_module": "@jupyter-widgets/controls",
            "_model_module_version": "1.5.0",
            "_model_name": "HBoxModel",
            "_view_count": null,
            "_view_module": "@jupyter-widgets/controls",
            "_view_module_version": "1.5.0",
            "_view_name": "HBoxView",
            "box_style": "",
            "children": [
              "IPY_MODEL_80a5bc929f154ed7b70b22afba91c4f2",
              "IPY_MODEL_8f4a1d0bbb0e43ea83b6262f24b7ea2b",
              "IPY_MODEL_b8535af56901497faf259ae902fd0798"
            ],
            "layout": "IPY_MODEL_d78329b753364372a2d28980612e2086"
          }
        },
        "80a5bc929f154ed7b70b22afba91c4f2": {
          "model_module": "@jupyter-widgets/controls",
          "model_name": "HTMLModel",
          "model_module_version": "1.5.0",
          "state": {
            "_dom_classes": [],
            "_model_module": "@jupyter-widgets/controls",
            "_model_module_version": "1.5.0",
            "_model_name": "HTMLModel",
            "_view_count": null,
            "_view_module": "@jupyter-widgets/controls",
            "_view_module_version": "1.5.0",
            "_view_name": "HTMLView",
            "description": "",
            "description_tooltip": null,
            "layout": "IPY_MODEL_29248b24c4884cc5b95515673443ccaf",
            "placeholder": "​",
            "style": "IPY_MODEL_a0be2eeeecf94f81b78c524bac614764",
            "value": ""
          }
        },
        "8f4a1d0bbb0e43ea83b6262f24b7ea2b": {
          "model_module": "@jupyter-widgets/controls",
          "model_name": "FloatProgressModel",
          "model_module_version": "1.5.0",
          "state": {
            "_dom_classes": [],
            "_model_module": "@jupyter-widgets/controls",
            "_model_module_version": "1.5.0",
            "_model_name": "FloatProgressModel",
            "_view_count": null,
            "_view_module": "@jupyter-widgets/controls",
            "_view_module_version": "1.5.0",
            "_view_name": "ProgressView",
            "bar_style": "success",
            "description": "",
            "description_tooltip": null,
            "layout": "IPY_MODEL_0ff80560ad9e4beb8878042b83114ef6",
            "max": 28881,
            "min": 0,
            "orientation": "horizontal",
            "style": "IPY_MODEL_bf15ee3179cd487b86b1c7cc505c912a",
            "value": 28881
          }
        },
        "b8535af56901497faf259ae902fd0798": {
          "model_module": "@jupyter-widgets/controls",
          "model_name": "HTMLModel",
          "model_module_version": "1.5.0",
          "state": {
            "_dom_classes": [],
            "_model_module": "@jupyter-widgets/controls",
            "_model_module_version": "1.5.0",
            "_model_name": "HTMLModel",
            "_view_count": null,
            "_view_module": "@jupyter-widgets/controls",
            "_view_module_version": "1.5.0",
            "_view_name": "HTMLView",
            "description": "",
            "description_tooltip": null,
            "layout": "IPY_MODEL_bf1b020d9f66441f8d08dc06582bce4b",
            "placeholder": "​",
            "style": "IPY_MODEL_3019dd5d1a1146ed967240b20e76ad67",
            "value": " 29696/? [00:00&lt;00:00, 8139.74it/s]"
          }
        },
        "d78329b753364372a2d28980612e2086": {
          "model_module": "@jupyter-widgets/base",
          "model_name": "LayoutModel",
          "model_module_version": "1.2.0",
          "state": {
            "_model_module": "@jupyter-widgets/base",
            "_model_module_version": "1.2.0",
            "_model_name": "LayoutModel",
            "_view_count": null,
            "_view_module": "@jupyter-widgets/base",
            "_view_module_version": "1.2.0",
            "_view_name": "LayoutView",
            "align_content": null,
            "align_items": null,
            "align_self": null,
            "border": null,
            "bottom": null,
            "display": null,
            "flex": null,
            "flex_flow": null,
            "grid_area": null,
            "grid_auto_columns": null,
            "grid_auto_flow": null,
            "grid_auto_rows": null,
            "grid_column": null,
            "grid_gap": null,
            "grid_row": null,
            "grid_template_areas": null,
            "grid_template_columns": null,
            "grid_template_rows": null,
            "height": null,
            "justify_content": null,
            "justify_items": null,
            "left": null,
            "margin": null,
            "max_height": null,
            "max_width": null,
            "min_height": null,
            "min_width": null,
            "object_fit": null,
            "object_position": null,
            "order": null,
            "overflow": null,
            "overflow_x": null,
            "overflow_y": null,
            "padding": null,
            "right": null,
            "top": null,
            "visibility": null,
            "width": null
          }
        },
        "29248b24c4884cc5b95515673443ccaf": {
          "model_module": "@jupyter-widgets/base",
          "model_name": "LayoutModel",
          "model_module_version": "1.2.0",
          "state": {
            "_model_module": "@jupyter-widgets/base",
            "_model_module_version": "1.2.0",
            "_model_name": "LayoutModel",
            "_view_count": null,
            "_view_module": "@jupyter-widgets/base",
            "_view_module_version": "1.2.0",
            "_view_name": "LayoutView",
            "align_content": null,
            "align_items": null,
            "align_self": null,
            "border": null,
            "bottom": null,
            "display": null,
            "flex": null,
            "flex_flow": null,
            "grid_area": null,
            "grid_auto_columns": null,
            "grid_auto_flow": null,
            "grid_auto_rows": null,
            "grid_column": null,
            "grid_gap": null,
            "grid_row": null,
            "grid_template_areas": null,
            "grid_template_columns": null,
            "grid_template_rows": null,
            "height": null,
            "justify_content": null,
            "justify_items": null,
            "left": null,
            "margin": null,
            "max_height": null,
            "max_width": null,
            "min_height": null,
            "min_width": null,
            "object_fit": null,
            "object_position": null,
            "order": null,
            "overflow": null,
            "overflow_x": null,
            "overflow_y": null,
            "padding": null,
            "right": null,
            "top": null,
            "visibility": null,
            "width": null
          }
        },
        "a0be2eeeecf94f81b78c524bac614764": {
          "model_module": "@jupyter-widgets/controls",
          "model_name": "DescriptionStyleModel",
          "model_module_version": "1.5.0",
          "state": {
            "_model_module": "@jupyter-widgets/controls",
            "_model_module_version": "1.5.0",
            "_model_name": "DescriptionStyleModel",
            "_view_count": null,
            "_view_module": "@jupyter-widgets/base",
            "_view_module_version": "1.2.0",
            "_view_name": "StyleView",
            "description_width": ""
          }
        },
        "0ff80560ad9e4beb8878042b83114ef6": {
          "model_module": "@jupyter-widgets/base",
          "model_name": "LayoutModel",
          "model_module_version": "1.2.0",
          "state": {
            "_model_module": "@jupyter-widgets/base",
            "_model_module_version": "1.2.0",
            "_model_name": "LayoutModel",
            "_view_count": null,
            "_view_module": "@jupyter-widgets/base",
            "_view_module_version": "1.2.0",
            "_view_name": "LayoutView",
            "align_content": null,
            "align_items": null,
            "align_self": null,
            "border": null,
            "bottom": null,
            "display": null,
            "flex": null,
            "flex_flow": null,
            "grid_area": null,
            "grid_auto_columns": null,
            "grid_auto_flow": null,
            "grid_auto_rows": null,
            "grid_column": null,
            "grid_gap": null,
            "grid_row": null,
            "grid_template_areas": null,
            "grid_template_columns": null,
            "grid_template_rows": null,
            "height": null,
            "justify_content": null,
            "justify_items": null,
            "left": null,
            "margin": null,
            "max_height": null,
            "max_width": null,
            "min_height": null,
            "min_width": null,
            "object_fit": null,
            "object_position": null,
            "order": null,
            "overflow": null,
            "overflow_x": null,
            "overflow_y": null,
            "padding": null,
            "right": null,
            "top": null,
            "visibility": null,
            "width": null
          }
        },
        "bf15ee3179cd487b86b1c7cc505c912a": {
          "model_module": "@jupyter-widgets/controls",
          "model_name": "ProgressStyleModel",
          "model_module_version": "1.5.0",
          "state": {
            "_model_module": "@jupyter-widgets/controls",
            "_model_module_version": "1.5.0",
            "_model_name": "ProgressStyleModel",
            "_view_count": null,
            "_view_module": "@jupyter-widgets/base",
            "_view_module_version": "1.2.0",
            "_view_name": "StyleView",
            "bar_color": null,
            "description_width": ""
          }
        },
        "bf1b020d9f66441f8d08dc06582bce4b": {
          "model_module": "@jupyter-widgets/base",
          "model_name": "LayoutModel",
          "model_module_version": "1.2.0",
          "state": {
            "_model_module": "@jupyter-widgets/base",
            "_model_module_version": "1.2.0",
            "_model_name": "LayoutModel",
            "_view_count": null,
            "_view_module": "@jupyter-widgets/base",
            "_view_module_version": "1.2.0",
            "_view_name": "LayoutView",
            "align_content": null,
            "align_items": null,
            "align_self": null,
            "border": null,
            "bottom": null,
            "display": null,
            "flex": null,
            "flex_flow": null,
            "grid_area": null,
            "grid_auto_columns": null,
            "grid_auto_flow": null,
            "grid_auto_rows": null,
            "grid_column": null,
            "grid_gap": null,
            "grid_row": null,
            "grid_template_areas": null,
            "grid_template_columns": null,
            "grid_template_rows": null,
            "height": null,
            "justify_content": null,
            "justify_items": null,
            "left": null,
            "margin": null,
            "max_height": null,
            "max_width": null,
            "min_height": null,
            "min_width": null,
            "object_fit": null,
            "object_position": null,
            "order": null,
            "overflow": null,
            "overflow_x": null,
            "overflow_y": null,
            "padding": null,
            "right": null,
            "top": null,
            "visibility": null,
            "width": null
          }
        },
        "3019dd5d1a1146ed967240b20e76ad67": {
          "model_module": "@jupyter-widgets/controls",
          "model_name": "DescriptionStyleModel",
          "model_module_version": "1.5.0",
          "state": {
            "_model_module": "@jupyter-widgets/controls",
            "_model_module_version": "1.5.0",
            "_model_name": "DescriptionStyleModel",
            "_view_count": null,
            "_view_module": "@jupyter-widgets/base",
            "_view_module_version": "1.2.0",
            "_view_name": "StyleView",
            "description_width": ""
          }
        },
        "9e9b8b9b14194843afc05b09ba117bd5": {
          "model_module": "@jupyter-widgets/controls",
          "model_name": "HBoxModel",
          "model_module_version": "1.5.0",
          "state": {
            "_dom_classes": [],
            "_model_module": "@jupyter-widgets/controls",
            "_model_module_version": "1.5.0",
            "_model_name": "HBoxModel",
            "_view_count": null,
            "_view_module": "@jupyter-widgets/controls",
            "_view_module_version": "1.5.0",
            "_view_name": "HBoxView",
            "box_style": "",
            "children": [
              "IPY_MODEL_cfd5757944ad4ad9ab77f707fb9f5420",
              "IPY_MODEL_7d10539f8a4e43e8919e8c28eeecd2ea",
              "IPY_MODEL_fba996f6f43947028edd2fbf22a5d8ea"
            ],
            "layout": "IPY_MODEL_691a10ddd5584499b73b08483e0324b9"
          }
        },
        "cfd5757944ad4ad9ab77f707fb9f5420": {
          "model_module": "@jupyter-widgets/controls",
          "model_name": "HTMLModel",
          "model_module_version": "1.5.0",
          "state": {
            "_dom_classes": [],
            "_model_module": "@jupyter-widgets/controls",
            "_model_module_version": "1.5.0",
            "_model_name": "HTMLModel",
            "_view_count": null,
            "_view_module": "@jupyter-widgets/controls",
            "_view_module_version": "1.5.0",
            "_view_name": "HTMLView",
            "description": "",
            "description_tooltip": null,
            "layout": "IPY_MODEL_fefb25aafc044a399be793015cc65aa9",
            "placeholder": "​",
            "style": "IPY_MODEL_3d621e043a394333b2fa2b0cb8f0f21a",
            "value": ""
          }
        },
        "7d10539f8a4e43e8919e8c28eeecd2ea": {
          "model_module": "@jupyter-widgets/controls",
          "model_name": "FloatProgressModel",
          "model_module_version": "1.5.0",
          "state": {
            "_dom_classes": [],
            "_model_module": "@jupyter-widgets/controls",
            "_model_module_version": "1.5.0",
            "_model_name": "FloatProgressModel",
            "_view_count": null,
            "_view_module": "@jupyter-widgets/controls",
            "_view_module_version": "1.5.0",
            "_view_name": "ProgressView",
            "bar_style": "success",
            "description": "",
            "description_tooltip": null,
            "layout": "IPY_MODEL_2ff2133074f84acfb6b318fa8b66692b",
            "max": 1648877,
            "min": 0,
            "orientation": "horizontal",
            "style": "IPY_MODEL_1e2930728b5442c8948581b21cb3cbed",
            "value": 1648877
          }
        },
        "fba996f6f43947028edd2fbf22a5d8ea": {
          "model_module": "@jupyter-widgets/controls",
          "model_name": "HTMLModel",
          "model_module_version": "1.5.0",
          "state": {
            "_dom_classes": [],
            "_model_module": "@jupyter-widgets/controls",
            "_model_module_version": "1.5.0",
            "_model_name": "HTMLModel",
            "_view_count": null,
            "_view_module": "@jupyter-widgets/controls",
            "_view_module_version": "1.5.0",
            "_view_name": "HTMLView",
            "description": "",
            "description_tooltip": null,
            "layout": "IPY_MODEL_370e1320b7074a2fbacc1029a739b818",
            "placeholder": "​",
            "style": "IPY_MODEL_c9ffc135972d42c9b5b2b538a96d6a8e",
            "value": " 1649664/? [00:00&lt;00:00, 3465796.85it/s]"
          }
        },
        "691a10ddd5584499b73b08483e0324b9": {
          "model_module": "@jupyter-widgets/base",
          "model_name": "LayoutModel",
          "model_module_version": "1.2.0",
          "state": {
            "_model_module": "@jupyter-widgets/base",
            "_model_module_version": "1.2.0",
            "_model_name": "LayoutModel",
            "_view_count": null,
            "_view_module": "@jupyter-widgets/base",
            "_view_module_version": "1.2.0",
            "_view_name": "LayoutView",
            "align_content": null,
            "align_items": null,
            "align_self": null,
            "border": null,
            "bottom": null,
            "display": null,
            "flex": null,
            "flex_flow": null,
            "grid_area": null,
            "grid_auto_columns": null,
            "grid_auto_flow": null,
            "grid_auto_rows": null,
            "grid_column": null,
            "grid_gap": null,
            "grid_row": null,
            "grid_template_areas": null,
            "grid_template_columns": null,
            "grid_template_rows": null,
            "height": null,
            "justify_content": null,
            "justify_items": null,
            "left": null,
            "margin": null,
            "max_height": null,
            "max_width": null,
            "min_height": null,
            "min_width": null,
            "object_fit": null,
            "object_position": null,
            "order": null,
            "overflow": null,
            "overflow_x": null,
            "overflow_y": null,
            "padding": null,
            "right": null,
            "top": null,
            "visibility": null,
            "width": null
          }
        },
        "fefb25aafc044a399be793015cc65aa9": {
          "model_module": "@jupyter-widgets/base",
          "model_name": "LayoutModel",
          "model_module_version": "1.2.0",
          "state": {
            "_model_module": "@jupyter-widgets/base",
            "_model_module_version": "1.2.0",
            "_model_name": "LayoutModel",
            "_view_count": null,
            "_view_module": "@jupyter-widgets/base",
            "_view_module_version": "1.2.0",
            "_view_name": "LayoutView",
            "align_content": null,
            "align_items": null,
            "align_self": null,
            "border": null,
            "bottom": null,
            "display": null,
            "flex": null,
            "flex_flow": null,
            "grid_area": null,
            "grid_auto_columns": null,
            "grid_auto_flow": null,
            "grid_auto_rows": null,
            "grid_column": null,
            "grid_gap": null,
            "grid_row": null,
            "grid_template_areas": null,
            "grid_template_columns": null,
            "grid_template_rows": null,
            "height": null,
            "justify_content": null,
            "justify_items": null,
            "left": null,
            "margin": null,
            "max_height": null,
            "max_width": null,
            "min_height": null,
            "min_width": null,
            "object_fit": null,
            "object_position": null,
            "order": null,
            "overflow": null,
            "overflow_x": null,
            "overflow_y": null,
            "padding": null,
            "right": null,
            "top": null,
            "visibility": null,
            "width": null
          }
        },
        "3d621e043a394333b2fa2b0cb8f0f21a": {
          "model_module": "@jupyter-widgets/controls",
          "model_name": "DescriptionStyleModel",
          "model_module_version": "1.5.0",
          "state": {
            "_model_module": "@jupyter-widgets/controls",
            "_model_module_version": "1.5.0",
            "_model_name": "DescriptionStyleModel",
            "_view_count": null,
            "_view_module": "@jupyter-widgets/base",
            "_view_module_version": "1.2.0",
            "_view_name": "StyleView",
            "description_width": ""
          }
        },
        "2ff2133074f84acfb6b318fa8b66692b": {
          "model_module": "@jupyter-widgets/base",
          "model_name": "LayoutModel",
          "model_module_version": "1.2.0",
          "state": {
            "_model_module": "@jupyter-widgets/base",
            "_model_module_version": "1.2.0",
            "_model_name": "LayoutModel",
            "_view_count": null,
            "_view_module": "@jupyter-widgets/base",
            "_view_module_version": "1.2.0",
            "_view_name": "LayoutView",
            "align_content": null,
            "align_items": null,
            "align_self": null,
            "border": null,
            "bottom": null,
            "display": null,
            "flex": null,
            "flex_flow": null,
            "grid_area": null,
            "grid_auto_columns": null,
            "grid_auto_flow": null,
            "grid_auto_rows": null,
            "grid_column": null,
            "grid_gap": null,
            "grid_row": null,
            "grid_template_areas": null,
            "grid_template_columns": null,
            "grid_template_rows": null,
            "height": null,
            "justify_content": null,
            "justify_items": null,
            "left": null,
            "margin": null,
            "max_height": null,
            "max_width": null,
            "min_height": null,
            "min_width": null,
            "object_fit": null,
            "object_position": null,
            "order": null,
            "overflow": null,
            "overflow_x": null,
            "overflow_y": null,
            "padding": null,
            "right": null,
            "top": null,
            "visibility": null,
            "width": null
          }
        },
        "1e2930728b5442c8948581b21cb3cbed": {
          "model_module": "@jupyter-widgets/controls",
          "model_name": "ProgressStyleModel",
          "model_module_version": "1.5.0",
          "state": {
            "_model_module": "@jupyter-widgets/controls",
            "_model_module_version": "1.5.0",
            "_model_name": "ProgressStyleModel",
            "_view_count": null,
            "_view_module": "@jupyter-widgets/base",
            "_view_module_version": "1.2.0",
            "_view_name": "StyleView",
            "bar_color": null,
            "description_width": ""
          }
        },
        "370e1320b7074a2fbacc1029a739b818": {
          "model_module": "@jupyter-widgets/base",
          "model_name": "LayoutModel",
          "model_module_version": "1.2.0",
          "state": {
            "_model_module": "@jupyter-widgets/base",
            "_model_module_version": "1.2.0",
            "_model_name": "LayoutModel",
            "_view_count": null,
            "_view_module": "@jupyter-widgets/base",
            "_view_module_version": "1.2.0",
            "_view_name": "LayoutView",
            "align_content": null,
            "align_items": null,
            "align_self": null,
            "border": null,
            "bottom": null,
            "display": null,
            "flex": null,
            "flex_flow": null,
            "grid_area": null,
            "grid_auto_columns": null,
            "grid_auto_flow": null,
            "grid_auto_rows": null,
            "grid_column": null,
            "grid_gap": null,
            "grid_row": null,
            "grid_template_areas": null,
            "grid_template_columns": null,
            "grid_template_rows": null,
            "height": null,
            "justify_content": null,
            "justify_items": null,
            "left": null,
            "margin": null,
            "max_height": null,
            "max_width": null,
            "min_height": null,
            "min_width": null,
            "object_fit": null,
            "object_position": null,
            "order": null,
            "overflow": null,
            "overflow_x": null,
            "overflow_y": null,
            "padding": null,
            "right": null,
            "top": null,
            "visibility": null,
            "width": null
          }
        },
        "c9ffc135972d42c9b5b2b538a96d6a8e": {
          "model_module": "@jupyter-widgets/controls",
          "model_name": "DescriptionStyleModel",
          "model_module_version": "1.5.0",
          "state": {
            "_model_module": "@jupyter-widgets/controls",
            "_model_module_version": "1.5.0",
            "_model_name": "DescriptionStyleModel",
            "_view_count": null,
            "_view_module": "@jupyter-widgets/base",
            "_view_module_version": "1.2.0",
            "_view_name": "StyleView",
            "description_width": ""
          }
        },
        "5e5e9eeed2664f86be6dcfe6a965e3ed": {
          "model_module": "@jupyter-widgets/controls",
          "model_name": "HBoxModel",
          "model_module_version": "1.5.0",
          "state": {
            "_dom_classes": [],
            "_model_module": "@jupyter-widgets/controls",
            "_model_module_version": "1.5.0",
            "_model_name": "HBoxModel",
            "_view_count": null,
            "_view_module": "@jupyter-widgets/controls",
            "_view_module_version": "1.5.0",
            "_view_name": "HBoxView",
            "box_style": "",
            "children": [
              "IPY_MODEL_8859709d3350411a9782e7315da40525",
              "IPY_MODEL_a4cb2ff0473a4812804a7601bb59fbac",
              "IPY_MODEL_a977bf9d673b433dbf239e7ae3b7e10e"
            ],
            "layout": "IPY_MODEL_9361cba94a164c5cb083402670887012"
          }
        },
        "8859709d3350411a9782e7315da40525": {
          "model_module": "@jupyter-widgets/controls",
          "model_name": "HTMLModel",
          "model_module_version": "1.5.0",
          "state": {
            "_dom_classes": [],
            "_model_module": "@jupyter-widgets/controls",
            "_model_module_version": "1.5.0",
            "_model_name": "HTMLModel",
            "_view_count": null,
            "_view_module": "@jupyter-widgets/controls",
            "_view_module_version": "1.5.0",
            "_view_name": "HTMLView",
            "description": "",
            "description_tooltip": null,
            "layout": "IPY_MODEL_182a32e5f11b4edcb4b6d87fcd4e076f",
            "placeholder": "​",
            "style": "IPY_MODEL_bfb2168bd9c04b828c17372b3f2ac11c",
            "value": ""
          }
        },
        "a4cb2ff0473a4812804a7601bb59fbac": {
          "model_module": "@jupyter-widgets/controls",
          "model_name": "FloatProgressModel",
          "model_module_version": "1.5.0",
          "state": {
            "_dom_classes": [],
            "_model_module": "@jupyter-widgets/controls",
            "_model_module_version": "1.5.0",
            "_model_name": "FloatProgressModel",
            "_view_count": null,
            "_view_module": "@jupyter-widgets/controls",
            "_view_module_version": "1.5.0",
            "_view_name": "ProgressView",
            "bar_style": "success",
            "description": "",
            "description_tooltip": null,
            "layout": "IPY_MODEL_693d50b37e114fecab80eccd462dba5f",
            "max": 4542,
            "min": 0,
            "orientation": "horizontal",
            "style": "IPY_MODEL_f9dc766dd5504bfab642984dd85c2ec8",
            "value": 4542
          }
        },
        "a977bf9d673b433dbf239e7ae3b7e10e": {
          "model_module": "@jupyter-widgets/controls",
          "model_name": "HTMLModel",
          "model_module_version": "1.5.0",
          "state": {
            "_dom_classes": [],
            "_model_module": "@jupyter-widgets/controls",
            "_model_module_version": "1.5.0",
            "_model_name": "HTMLModel",
            "_view_count": null,
            "_view_module": "@jupyter-widgets/controls",
            "_view_module_version": "1.5.0",
            "_view_name": "HTMLView",
            "description": "",
            "description_tooltip": null,
            "layout": "IPY_MODEL_24e806cf84e744be9afa1d6d66edcf27",
            "placeholder": "​",
            "style": "IPY_MODEL_20c79c0d7ea141968c3a5fea080d28d4",
            "value": " 5120/? [00:00&lt;00:00, 7213.84it/s]"
          }
        },
        "9361cba94a164c5cb083402670887012": {
          "model_module": "@jupyter-widgets/base",
          "model_name": "LayoutModel",
          "model_module_version": "1.2.0",
          "state": {
            "_model_module": "@jupyter-widgets/base",
            "_model_module_version": "1.2.0",
            "_model_name": "LayoutModel",
            "_view_count": null,
            "_view_module": "@jupyter-widgets/base",
            "_view_module_version": "1.2.0",
            "_view_name": "LayoutView",
            "align_content": null,
            "align_items": null,
            "align_self": null,
            "border": null,
            "bottom": null,
            "display": null,
            "flex": null,
            "flex_flow": null,
            "grid_area": null,
            "grid_auto_columns": null,
            "grid_auto_flow": null,
            "grid_auto_rows": null,
            "grid_column": null,
            "grid_gap": null,
            "grid_row": null,
            "grid_template_areas": null,
            "grid_template_columns": null,
            "grid_template_rows": null,
            "height": null,
            "justify_content": null,
            "justify_items": null,
            "left": null,
            "margin": null,
            "max_height": null,
            "max_width": null,
            "min_height": null,
            "min_width": null,
            "object_fit": null,
            "object_position": null,
            "order": null,
            "overflow": null,
            "overflow_x": null,
            "overflow_y": null,
            "padding": null,
            "right": null,
            "top": null,
            "visibility": null,
            "width": null
          }
        },
        "182a32e5f11b4edcb4b6d87fcd4e076f": {
          "model_module": "@jupyter-widgets/base",
          "model_name": "LayoutModel",
          "model_module_version": "1.2.0",
          "state": {
            "_model_module": "@jupyter-widgets/base",
            "_model_module_version": "1.2.0",
            "_model_name": "LayoutModel",
            "_view_count": null,
            "_view_module": "@jupyter-widgets/base",
            "_view_module_version": "1.2.0",
            "_view_name": "LayoutView",
            "align_content": null,
            "align_items": null,
            "align_self": null,
            "border": null,
            "bottom": null,
            "display": null,
            "flex": null,
            "flex_flow": null,
            "grid_area": null,
            "grid_auto_columns": null,
            "grid_auto_flow": null,
            "grid_auto_rows": null,
            "grid_column": null,
            "grid_gap": null,
            "grid_row": null,
            "grid_template_areas": null,
            "grid_template_columns": null,
            "grid_template_rows": null,
            "height": null,
            "justify_content": null,
            "justify_items": null,
            "left": null,
            "margin": null,
            "max_height": null,
            "max_width": null,
            "min_height": null,
            "min_width": null,
            "object_fit": null,
            "object_position": null,
            "order": null,
            "overflow": null,
            "overflow_x": null,
            "overflow_y": null,
            "padding": null,
            "right": null,
            "top": null,
            "visibility": null,
            "width": null
          }
        },
        "bfb2168bd9c04b828c17372b3f2ac11c": {
          "model_module": "@jupyter-widgets/controls",
          "model_name": "DescriptionStyleModel",
          "model_module_version": "1.5.0",
          "state": {
            "_model_module": "@jupyter-widgets/controls",
            "_model_module_version": "1.5.0",
            "_model_name": "DescriptionStyleModel",
            "_view_count": null,
            "_view_module": "@jupyter-widgets/base",
            "_view_module_version": "1.2.0",
            "_view_name": "StyleView",
            "description_width": ""
          }
        },
        "693d50b37e114fecab80eccd462dba5f": {
          "model_module": "@jupyter-widgets/base",
          "model_name": "LayoutModel",
          "model_module_version": "1.2.0",
          "state": {
            "_model_module": "@jupyter-widgets/base",
            "_model_module_version": "1.2.0",
            "_model_name": "LayoutModel",
            "_view_count": null,
            "_view_module": "@jupyter-widgets/base",
            "_view_module_version": "1.2.0",
            "_view_name": "LayoutView",
            "align_content": null,
            "align_items": null,
            "align_self": null,
            "border": null,
            "bottom": null,
            "display": null,
            "flex": null,
            "flex_flow": null,
            "grid_area": null,
            "grid_auto_columns": null,
            "grid_auto_flow": null,
            "grid_auto_rows": null,
            "grid_column": null,
            "grid_gap": null,
            "grid_row": null,
            "grid_template_areas": null,
            "grid_template_columns": null,
            "grid_template_rows": null,
            "height": null,
            "justify_content": null,
            "justify_items": null,
            "left": null,
            "margin": null,
            "max_height": null,
            "max_width": null,
            "min_height": null,
            "min_width": null,
            "object_fit": null,
            "object_position": null,
            "order": null,
            "overflow": null,
            "overflow_x": null,
            "overflow_y": null,
            "padding": null,
            "right": null,
            "top": null,
            "visibility": null,
            "width": null
          }
        },
        "f9dc766dd5504bfab642984dd85c2ec8": {
          "model_module": "@jupyter-widgets/controls",
          "model_name": "ProgressStyleModel",
          "model_module_version": "1.5.0",
          "state": {
            "_model_module": "@jupyter-widgets/controls",
            "_model_module_version": "1.5.0",
            "_model_name": "ProgressStyleModel",
            "_view_count": null,
            "_view_module": "@jupyter-widgets/base",
            "_view_module_version": "1.2.0",
            "_view_name": "StyleView",
            "bar_color": null,
            "description_width": ""
          }
        },
        "24e806cf84e744be9afa1d6d66edcf27": {
          "model_module": "@jupyter-widgets/base",
          "model_name": "LayoutModel",
          "model_module_version": "1.2.0",
          "state": {
            "_model_module": "@jupyter-widgets/base",
            "_model_module_version": "1.2.0",
            "_model_name": "LayoutModel",
            "_view_count": null,
            "_view_module": "@jupyter-widgets/base",
            "_view_module_version": "1.2.0",
            "_view_name": "LayoutView",
            "align_content": null,
            "align_items": null,
            "align_self": null,
            "border": null,
            "bottom": null,
            "display": null,
            "flex": null,
            "flex_flow": null,
            "grid_area": null,
            "grid_auto_columns": null,
            "grid_auto_flow": null,
            "grid_auto_rows": null,
            "grid_column": null,
            "grid_gap": null,
            "grid_row": null,
            "grid_template_areas": null,
            "grid_template_columns": null,
            "grid_template_rows": null,
            "height": null,
            "justify_content": null,
            "justify_items": null,
            "left": null,
            "margin": null,
            "max_height": null,
            "max_width": null,
            "min_height": null,
            "min_width": null,
            "object_fit": null,
            "object_position": null,
            "order": null,
            "overflow": null,
            "overflow_x": null,
            "overflow_y": null,
            "padding": null,
            "right": null,
            "top": null,
            "visibility": null,
            "width": null
          }
        },
        "20c79c0d7ea141968c3a5fea080d28d4": {
          "model_module": "@jupyter-widgets/controls",
          "model_name": "DescriptionStyleModel",
          "model_module_version": "1.5.0",
          "state": {
            "_model_module": "@jupyter-widgets/controls",
            "_model_module_version": "1.5.0",
            "_model_name": "DescriptionStyleModel",
            "_view_count": null,
            "_view_module": "@jupyter-widgets/base",
            "_view_module_version": "1.2.0",
            "_view_name": "StyleView",
            "description_width": ""
          }
        }
      }
    }
  },
  "nbformat": 4,
  "nbformat_minor": 0
}